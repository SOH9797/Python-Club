{
 "cells": [
  {
   "cell_type": "markdown",
   "metadata": {},
   "source": [
    "# Back To Basics\n",
    "##  Simple but powerful python techniques\n",
    "\n",
    "# [Colab version](https://colab.research.google.com/drive/1nyZIB_zC4iFe4JK9nYvEZyIJsVQrexFL?usp=sharing)\n",
    "\n",
    "# Contents:\n",
    "* ```String``` tricks\n",
    "* The ```os``` module \n",
    "* The ```dict()``` constructor\n",
    "* Tricks with lists\n",
    "* ```Numpy``` arrays and maths\n",
    "\n",
    "We've covered some python fundamentals in the [**BasicBitsPython**](https://github.com/UoMMIB/Python-Club/blob/master/Tutorials/BasicBitsPython.ipynb) notebook,  including:\n",
    "* Comments and variables\n",
    "* Loops\n",
    "* Functions\n",
    "* Dictionaries\n",
    "and we used what we'd learnt to [translate](https://en.wikipedia.org/wiki/Translation_(biology)) some DNA into the amino acid sequence that it codes for, which folds up to look like this:\n",
    "\n",
    "# Background - 🔬\n",
    "In this tutorial, we'll look at some simple, but powerful commands to find out more about this protein. Here's the sequence that we translated from the DNA:\n",
    "```\n",
    "MTIKEMPQPKTFGELKNLPLLNTDKPVQALMKIADELGEIFKFEAPGRVTRYLS\n",
    "SQRLIKEACDESRFDKNLSQALKFVRDFAGDGLFTSWTHEKNWKKAHNILLPSFSQQAMKGYHAMM\n",
    "VDIAVQLVQKWERLNADEHIEVPEDMTRLTLDTIGLCGFNYRFNSFYRDQPHPFITSMVRALDEAM\n",
    "NKLQRANPDDPAYDENKRQFQEDIKVMNDLVDKIIADRKASGEQSDDLLTHMLNGKDPETGEPLDD\n",
    "ENIRYQIITFLIAGHETTSGLLSFALYFLVKNPHVLQKAAEEAARVLVDPVPSYKQVKQLKYVGMV\n",
    "LNEALRLWPTAPAFSLYAKEDTVLGGEYPLEKGDELMVLIPQLHRDKTIWGDDVEEFRPERFENPS\n",
    "AIPQHAFKPFGNGQRACIGQQFALHEATLVLGMMLKHFDFEDHTNYELDIKETLTLKPEGFVVKAK\n",
    "SKKIPLGGIPSPSTEQSAKKVRKKGC*\n",
    "```\n",
    "Each letter represents an [**amino acid**](https://en.wikipedia.org/wiki/Amino_acid) - each with the same 'backbone':\n",
    "![](glycine.png)\n",
    "\n",
    "But each has its own side-chain, with its own chemical properties, like charge and other features that make the chain of amino-acids fold into a functioning protein.\n",
    "\n",
    "![](amino-acids.png)\n",
    "\n",
    "Amino acids are chained together by their backbones, here's  a chain of ```MTI``` :\n",
    "\n",
    "![](peptide.png)\n",
    "\n",
    "In our case, the chain of amino acids folds around a [**heme**](https://en.wikipedia.org/wiki/Heme_B), a red molecule which is used to oxidise fats - a controlled burn in the centre of the protein. \n",
    "\n",
    "![](heme.png)\n",
    "\n",
    "Which fats can get into the centre of the protein is determined by the enzymes shape, and the chemical properties of the tunnel that leads to the core. We can find the structures of some of these proteins using a technique called [**X-ray crystallography**](https://en.wikipedia.org/wiki/X-ray_crystallography). Here's a snapshot of our enzyme - the [**Cytochrome P450**](https://en.wikipedia.org/wiki/Cytochrome_P450): [**BM3**](BM3-Reveiw-Andy-Munro.pdf).\n",
    "\n",
    "[**PDB ID: 1bu7**](https://www.ebi.ac.uk/pdbe/entry/pdb/1bu7/index) - see this link for an interactive view\n",
    "\n",
    "![](tutorial-data/1bu7-molstar-image.png)\n",
    "\n",
    "\n",
    "The ability to 'do chemistry' is what makes this protein an [**enzyme**](https://en.wikipedia.org/wiki/Enzyme), which are an important part of the biotechnology research we do at the [Manchester Institute of Biotechnology\n",
    "](https://en.wikipedia.org/wiki/Manchester_Institute_of_Biotechnology) - especially [**engineering**](https://en.wikipedia.org/wiki/Cytochrome_P450_engineering) them to do new chemical reactions that can help with agriculture, drug development and making industrial chemical processes more environmentally friendly."
   ]
  },
  {
   "cell_type": "markdown",
   "metadata": {},
   "source": [
    "# Problem #1 - ```string``` parsing\n",
    "Here's a table of some calculated chemical properties of each of the 20 amino acids listed above. We could have found this on a web page. \n",
    "We don't have time to download the information in a clean file, we need it now! 🏃\n",
    "\n",
    "In this section we copy and paste the table into our notebook as a ```string``` and extract the data into a usable format!\n",
    "\n",
    "\n",
    "<table border=\"1\" class=\"dataframe\">\n",
    "  <thead>\n",
    "    <tr style=\"text-align: right;\">\n",
    "      <th></th>\n",
    "      <th>MolWT</th>\n",
    "      <th>LogP</th>\n",
    "      <th>HBondDonors</th>\n",
    "      <th>HBondAcceptors</th>\n",
    "      <th>nAromaticRings</th>\n",
    "      <th>nHeteroAtoms</th>\n",
    "      <th>nRotatableBonds</th>\n",
    "    </tr>\n",
    "  </thead>\n",
    "  <tbody>\n",
    "    <tr>\n",
    "      <th>A</th>\n",
    "      <td>89.047678</td>\n",
    "      <td>-0.58180</td>\n",
    "      <td>3</td>\n",
    "      <td>3</td>\n",
    "      <td>0</td>\n",
    "      <td>3</td>\n",
    "      <td>3</td>\n",
    "    </tr>\n",
    "    <tr>\n",
    "      <th>C</th>\n",
    "      <td>121.019749</td>\n",
    "      <td>-0.67190</td>\n",
    "      <td>3</td>\n",
    "      <td>3</td>\n",
    "      <td>0</td>\n",
    "      <td>4</td>\n",
    "      <td>4</td>\n",
    "    </tr>\n",
    "    <tr>\n",
    "      <th>D</th>\n",
    "      <td>133.037508</td>\n",
    "      <td>-1.12700</td>\n",
    "      <td>4</td>\n",
    "      <td>5</td>\n",
    "      <td>0</td>\n",
    "      <td>5</td>\n",
    "      <td>4</td>\n",
    "    </tr>\n",
    "    <tr>\n",
    "      <th>E</th>\n",
    "      <td>147.053158</td>\n",
    "      <td>-0.73690</td>\n",
    "      <td>4</td>\n",
    "      <td>5</td>\n",
    "      <td>0</td>\n",
    "      <td>5</td>\n",
    "      <td>5</td>\n",
    "    </tr>\n",
    "    <tr>\n",
    "      <th>F</th>\n",
    "      <td>165.078979</td>\n",
    "      <td>0.64100</td>\n",
    "      <td>3</td>\n",
    "      <td>3</td>\n",
    "      <td>1</td>\n",
    "      <td>3</td>\n",
    "      <td>4</td>\n",
    "    </tr>\n",
    "    <tr>\n",
    "      <th>G</th>\n",
    "      <td>75.032028</td>\n",
    "      <td>-0.97030</td>\n",
    "      <td>3</td>\n",
    "      <td>3</td>\n",
    "      <td>0</td>\n",
    "      <td>3</td>\n",
    "      <td>2</td>\n",
    "    </tr>\n",
    "    <tr>\n",
    "      <th>H</th>\n",
    "      <td>155.069477</td>\n",
    "      <td>-0.63590</td>\n",
    "      <td>4</td>\n",
    "      <td>5</td>\n",
    "      <td>1</td>\n",
    "      <td>5</td>\n",
    "      <td>4</td>\n",
    "    </tr>\n",
    "    <tr>\n",
    "      <th>I</th>\n",
    "      <td>131.094629</td>\n",
    "      <td>0.44440</td>\n",
    "      <td>3</td>\n",
    "      <td>3</td>\n",
    "      <td>0</td>\n",
    "      <td>3</td>\n",
    "      <td>6</td>\n",
    "    </tr>\n",
    "    <tr>\n",
    "      <th>K</th>\n",
    "      <td>146.105528</td>\n",
    "      <td>-0.47270</td>\n",
    "      <td>5</td>\n",
    "      <td>4</td>\n",
    "      <td>0</td>\n",
    "      <td>4</td>\n",
    "      <td>7</td>\n",
    "    </tr>\n",
    "    <tr>\n",
    "      <th>L</th>\n",
    "      <td>131.094629</td>\n",
    "      <td>0.44440</td>\n",
    "      <td>3</td>\n",
    "      <td>3</td>\n",
    "      <td>0</td>\n",
    "      <td>3</td>\n",
    "      <td>6</td>\n",
    "    </tr>\n",
    "    <tr>\n",
    "      <th>M</th>\n",
    "      <td>149.051050</td>\n",
    "      <td>0.15140</td>\n",
    "      <td>3</td>\n",
    "      <td>3</td>\n",
    "      <td>0</td>\n",
    "      <td>4</td>\n",
    "      <td>6</td>\n",
    "    </tr>\n",
    "    <tr>\n",
    "      <th>N</th>\n",
    "      <td>132.053492</td>\n",
    "      <td>-1.72630</td>\n",
    "      <td>5</td>\n",
    "      <td>5</td>\n",
    "      <td>0</td>\n",
    "      <td>5</td>\n",
    "      <td>4</td>\n",
    "    </tr>\n",
    "    <tr>\n",
    "      <th>P</th>\n",
    "      <td>115.063329</td>\n",
    "      <td>-0.17700</td>\n",
    "      <td>2</td>\n",
    "      <td>3</td>\n",
    "      <td>0</td>\n",
    "      <td>3</td>\n",
    "      <td>1</td>\n",
    "    </tr>\n",
    "    <tr>\n",
    "      <th>Q</th>\n",
    "      <td>146.069142</td>\n",
    "      <td>-1.33620</td>\n",
    "      <td>5</td>\n",
    "      <td>5</td>\n",
    "      <td>0</td>\n",
    "      <td>5</td>\n",
    "      <td>5</td>\n",
    "    </tr>\n",
    "    <tr>\n",
    "      <th>R</th>\n",
    "      <td>174.111676</td>\n",
    "      <td>-1.33843</td>\n",
    "      <td>7</td>\n",
    "      <td>6</td>\n",
    "      <td>0</td>\n",
    "      <td>6</td>\n",
    "      <td>6</td>\n",
    "    </tr>\n",
    "    <tr>\n",
    "      <th>S</th>\n",
    "      <td>105.042593</td>\n",
    "      <td>-1.60940</td>\n",
    "      <td>4</td>\n",
    "      <td>4</td>\n",
    "      <td>0</td>\n",
    "      <td>4</td>\n",
    "      <td>4</td>\n",
    "    </tr>\n",
    "    <tr>\n",
    "      <th>T</th>\n",
    "      <td>119.058243</td>\n",
    "      <td>-1.22090</td>\n",
    "      <td>4</td>\n",
    "      <td>4</td>\n",
    "      <td>0</td>\n",
    "      <td>4</td>\n",
    "      <td>5</td>\n",
    "    </tr>\n",
    "    <tr>\n",
    "      <th>V</th>\n",
    "      <td>117.078979</td>\n",
    "      <td>0.05430</td>\n",
    "      <td>3</td>\n",
    "      <td>3</td>\n",
    "      <td>0</td>\n",
    "      <td>3</td>\n",
    "      <td>5</td>\n",
    "    </tr>\n",
    "    <tr>\n",
    "      <th>W</th>\n",
    "      <td>204.089878</td>\n",
    "      <td>1.12230</td>\n",
    "      <td>4</td>\n",
    "      <td>4</td>\n",
    "      <td>2</td>\n",
    "      <td>4</td>\n",
    "      <td>4</td>\n",
    "    </tr>\n",
    "    <tr>\n",
    "      <th>Y</th>\n",
    "      <td>181.073893</td>\n",
    "      <td>0.34660</td>\n",
    "      <td>4</td>\n",
    "      <td>4</td>\n",
    "      <td>1</td>\n",
    "      <td>4</td>\n",
    "      <td>5</td>\n",
    "    </tr>\n",
    "  </tbody>\n",
    "</table>"
   ]
  },
  {
   "cell_type": "code",
   "execution_count": 36,
   "metadata": {},
   "outputs": [
    {
     "data": {
      "text/plain": [
       "'MolWT\\tLogP\\tHBondDonors\\tHBondAcceptors\\tnAromaticRings\\tnHeteroAtoms\\tnRotatableBonds\\nA\\t89.047678\\t-0.58180\\t3\\t3\\t0\\t3\\t3\\nC\\t121.019749\\t-0.67190\\t3\\t3\\t0\\t4\\t4\\nD\\t133.037508\\t-1.12700\\t4\\t5\\t0\\t5\\t4\\nE\\t147.053158\\t-0.73690\\t4\\t5\\t0\\t5\\t5\\nF\\t165.078979\\t0.64100\\t3\\t3\\t1\\t3\\t4\\nG\\t75.032028\\t-0.97030\\t3\\t3\\t0\\t3\\t2\\nH\\t155.069477\\t-0.63590\\t4\\t5\\t1\\t5\\t4\\nI\\t131.094629\\t0.44440\\t3\\t3\\t0\\t3\\t6\\nK\\t146.105528\\t-0.47270\\t5\\t4\\t0\\t4\\t7\\nL\\t131.094629\\t0.44440\\t3\\t3\\t0\\t3\\t6\\nM\\t149.051050\\t0.15140\\t3\\t3\\t0\\t4\\t6\\nN\\t132.053492\\t-1.72630\\t5\\t5\\t0\\t5\\t4\\nP\\t115.063329\\t-0.17700\\t2\\t3\\t0\\t3\\t1\\nQ\\t146.069142\\t-1.33620\\t5\\t5\\t0\\t5\\t5\\nR\\t174.111676\\t-1.33843\\t7\\t6\\t0\\t6\\t6\\nS\\t105.042593\\t-1.60940\\t4\\t4\\t0\\t4\\t4\\nT\\t119.058243\\t-1.22090\\t4\\t4\\t0\\t4\\t5\\nV\\t117.078979\\t0.05430\\t3\\t3\\t0\\t3\\t5\\nW\\t204.089878\\t1.12230\\t4\\t4\\t2\\t4\\t4\\nY\\t181.073893\\t0.34660\\t4\\t4\\t1\\t4\\t5'"
      ]
     },
     "execution_count": 36,
     "metadata": {},
     "output_type": "execute_result"
    }
   ],
   "source": [
    "# I've used triple quotes to make a multi-line string\n",
    "\n",
    "data = '''MolWT\tLogP\tHBondDonors\tHBondAcceptors\tnAromaticRings\tnHeteroAtoms\tnRotatableBonds\n",
    "A\t89.047678\t-0.58180\t3\t3\t0\t3\t3\n",
    "C\t121.019749\t-0.67190\t3\t3\t0\t4\t4\n",
    "D\t133.037508\t-1.12700\t4\t5\t0\t5\t4\n",
    "E\t147.053158\t-0.73690\t4\t5\t0\t5\t5\n",
    "F\t165.078979\t0.64100\t3\t3\t1\t3\t4\n",
    "G\t75.032028\t-0.97030\t3\t3\t0\t3\t2\n",
    "H\t155.069477\t-0.63590\t4\t5\t1\t5\t4\n",
    "I\t131.094629\t0.44440\t3\t3\t0\t3\t6\n",
    "K\t146.105528\t-0.47270\t5\t4\t0\t4\t7\n",
    "L\t131.094629\t0.44440\t3\t3\t0\t3\t6\n",
    "M\t149.051050\t0.15140\t3\t3\t0\t4\t6\n",
    "N\t132.053492\t-1.72630\t5\t5\t0\t5\t4\n",
    "P\t115.063329\t-0.17700\t2\t3\t0\t3\t1\n",
    "Q\t146.069142\t-1.33620\t5\t5\t0\t5\t5\n",
    "R\t174.111676\t-1.33843\t7\t6\t0\t6\t6\n",
    "S\t105.042593\t-1.60940\t4\t4\t0\t4\t4\n",
    "T\t119.058243\t-1.22090\t4\t4\t0\t4\t5\n",
    "V\t117.078979\t0.05430\t3\t3\t0\t3\t5\n",
    "W\t204.089878\t1.12230\t4\t4\t2\t4\t4\n",
    "Y\t181.073893\t0.34660\t4\t4\t1\t4\t5'''\n",
    "\n",
    "data # try running print(data) - what's the difference?"
   ]
  },
  {
   "cell_type": "markdown",
   "metadata": {},
   "source": [
    "# ```\\t``` & ```\\n```\n",
    "\n",
    "```\\``` is an [**escape character**](https://en.wikipedia.org/wiki/Escape_character) - it precedes a character that needs special treatment. In this case:\n",
    "* ```\\t``` means ```tab``` \n",
    "* ```\\n``` means ```newline``` "
   ]
  },
  {
   "cell_type": "markdown",
   "metadata": {},
   "source": [
    "# The ```io``` module"
   ]
  },
  {
   "cell_type": "code",
   "execution_count": 37,
   "metadata": {},
   "outputs": [
    {
     "data": {
      "text/html": [
       "<div>\n",
       "<style scoped>\n",
       "    .dataframe tbody tr th:only-of-type {\n",
       "        vertical-align: middle;\n",
       "    }\n",
       "\n",
       "    .dataframe tbody tr th {\n",
       "        vertical-align: top;\n",
       "    }\n",
       "\n",
       "    .dataframe thead th {\n",
       "        text-align: right;\n",
       "    }\n",
       "</style>\n",
       "<table border=\"1\" class=\"dataframe\">\n",
       "  <thead>\n",
       "    <tr style=\"text-align: right;\">\n",
       "      <th></th>\n",
       "      <th>MolWT</th>\n",
       "      <th>LogP</th>\n",
       "      <th>HBondDonors</th>\n",
       "      <th>HBondAcceptors</th>\n",
       "      <th>nAromaticRings</th>\n",
       "      <th>nHeteroAtoms</th>\n",
       "      <th>nRotatableBonds</th>\n",
       "    </tr>\n",
       "  </thead>\n",
       "  <tbody>\n",
       "    <tr>\n",
       "      <th>A</th>\n",
       "      <td>89.047678</td>\n",
       "      <td>-0.58180</td>\n",
       "      <td>3</td>\n",
       "      <td>3</td>\n",
       "      <td>0</td>\n",
       "      <td>3</td>\n",
       "      <td>3</td>\n",
       "    </tr>\n",
       "    <tr>\n",
       "      <th>C</th>\n",
       "      <td>121.019749</td>\n",
       "      <td>-0.67190</td>\n",
       "      <td>3</td>\n",
       "      <td>3</td>\n",
       "      <td>0</td>\n",
       "      <td>4</td>\n",
       "      <td>4</td>\n",
       "    </tr>\n",
       "    <tr>\n",
       "      <th>D</th>\n",
       "      <td>133.037508</td>\n",
       "      <td>-1.12700</td>\n",
       "      <td>4</td>\n",
       "      <td>5</td>\n",
       "      <td>0</td>\n",
       "      <td>5</td>\n",
       "      <td>4</td>\n",
       "    </tr>\n",
       "    <tr>\n",
       "      <th>E</th>\n",
       "      <td>147.053158</td>\n",
       "      <td>-0.73690</td>\n",
       "      <td>4</td>\n",
       "      <td>5</td>\n",
       "      <td>0</td>\n",
       "      <td>5</td>\n",
       "      <td>5</td>\n",
       "    </tr>\n",
       "    <tr>\n",
       "      <th>F</th>\n",
       "      <td>165.078979</td>\n",
       "      <td>0.64100</td>\n",
       "      <td>3</td>\n",
       "      <td>3</td>\n",
       "      <td>1</td>\n",
       "      <td>3</td>\n",
       "      <td>4</td>\n",
       "    </tr>\n",
       "    <tr>\n",
       "      <th>G</th>\n",
       "      <td>75.032028</td>\n",
       "      <td>-0.97030</td>\n",
       "      <td>3</td>\n",
       "      <td>3</td>\n",
       "      <td>0</td>\n",
       "      <td>3</td>\n",
       "      <td>2</td>\n",
       "    </tr>\n",
       "    <tr>\n",
       "      <th>H</th>\n",
       "      <td>155.069477</td>\n",
       "      <td>-0.63590</td>\n",
       "      <td>4</td>\n",
       "      <td>5</td>\n",
       "      <td>1</td>\n",
       "      <td>5</td>\n",
       "      <td>4</td>\n",
       "    </tr>\n",
       "    <tr>\n",
       "      <th>I</th>\n",
       "      <td>131.094629</td>\n",
       "      <td>0.44440</td>\n",
       "      <td>3</td>\n",
       "      <td>3</td>\n",
       "      <td>0</td>\n",
       "      <td>3</td>\n",
       "      <td>6</td>\n",
       "    </tr>\n",
       "    <tr>\n",
       "      <th>K</th>\n",
       "      <td>146.105528</td>\n",
       "      <td>-0.47270</td>\n",
       "      <td>5</td>\n",
       "      <td>4</td>\n",
       "      <td>0</td>\n",
       "      <td>4</td>\n",
       "      <td>7</td>\n",
       "    </tr>\n",
       "    <tr>\n",
       "      <th>L</th>\n",
       "      <td>131.094629</td>\n",
       "      <td>0.44440</td>\n",
       "      <td>3</td>\n",
       "      <td>3</td>\n",
       "      <td>0</td>\n",
       "      <td>3</td>\n",
       "      <td>6</td>\n",
       "    </tr>\n",
       "    <tr>\n",
       "      <th>M</th>\n",
       "      <td>149.051050</td>\n",
       "      <td>0.15140</td>\n",
       "      <td>3</td>\n",
       "      <td>3</td>\n",
       "      <td>0</td>\n",
       "      <td>4</td>\n",
       "      <td>6</td>\n",
       "    </tr>\n",
       "    <tr>\n",
       "      <th>N</th>\n",
       "      <td>132.053492</td>\n",
       "      <td>-1.72630</td>\n",
       "      <td>5</td>\n",
       "      <td>5</td>\n",
       "      <td>0</td>\n",
       "      <td>5</td>\n",
       "      <td>4</td>\n",
       "    </tr>\n",
       "    <tr>\n",
       "      <th>P</th>\n",
       "      <td>115.063329</td>\n",
       "      <td>-0.17700</td>\n",
       "      <td>2</td>\n",
       "      <td>3</td>\n",
       "      <td>0</td>\n",
       "      <td>3</td>\n",
       "      <td>1</td>\n",
       "    </tr>\n",
       "    <tr>\n",
       "      <th>Q</th>\n",
       "      <td>146.069142</td>\n",
       "      <td>-1.33620</td>\n",
       "      <td>5</td>\n",
       "      <td>5</td>\n",
       "      <td>0</td>\n",
       "      <td>5</td>\n",
       "      <td>5</td>\n",
       "    </tr>\n",
       "    <tr>\n",
       "      <th>R</th>\n",
       "      <td>174.111676</td>\n",
       "      <td>-1.33843</td>\n",
       "      <td>7</td>\n",
       "      <td>6</td>\n",
       "      <td>0</td>\n",
       "      <td>6</td>\n",
       "      <td>6</td>\n",
       "    </tr>\n",
       "    <tr>\n",
       "      <th>S</th>\n",
       "      <td>105.042593</td>\n",
       "      <td>-1.60940</td>\n",
       "      <td>4</td>\n",
       "      <td>4</td>\n",
       "      <td>0</td>\n",
       "      <td>4</td>\n",
       "      <td>4</td>\n",
       "    </tr>\n",
       "    <tr>\n",
       "      <th>T</th>\n",
       "      <td>119.058243</td>\n",
       "      <td>-1.22090</td>\n",
       "      <td>4</td>\n",
       "      <td>4</td>\n",
       "      <td>0</td>\n",
       "      <td>4</td>\n",
       "      <td>5</td>\n",
       "    </tr>\n",
       "    <tr>\n",
       "      <th>V</th>\n",
       "      <td>117.078979</td>\n",
       "      <td>0.05430</td>\n",
       "      <td>3</td>\n",
       "      <td>3</td>\n",
       "      <td>0</td>\n",
       "      <td>3</td>\n",
       "      <td>5</td>\n",
       "    </tr>\n",
       "    <tr>\n",
       "      <th>W</th>\n",
       "      <td>204.089878</td>\n",
       "      <td>1.12230</td>\n",
       "      <td>4</td>\n",
       "      <td>4</td>\n",
       "      <td>2</td>\n",
       "      <td>4</td>\n",
       "      <td>4</td>\n",
       "    </tr>\n",
       "    <tr>\n",
       "      <th>Y</th>\n",
       "      <td>181.073893</td>\n",
       "      <td>0.34660</td>\n",
       "      <td>4</td>\n",
       "      <td>4</td>\n",
       "      <td>1</td>\n",
       "      <td>4</td>\n",
       "      <td>5</td>\n",
       "    </tr>\n",
       "  </tbody>\n",
       "</table>\n",
       "</div>"
      ],
      "text/plain": [
       "        MolWT     LogP  HBondDonors  HBondAcceptors  nAromaticRings  \\\n",
       "A   89.047678 -0.58180            3               3               0   \n",
       "C  121.019749 -0.67190            3               3               0   \n",
       "D  133.037508 -1.12700            4               5               0   \n",
       "E  147.053158 -0.73690            4               5               0   \n",
       "F  165.078979  0.64100            3               3               1   \n",
       "G   75.032028 -0.97030            3               3               0   \n",
       "H  155.069477 -0.63590            4               5               1   \n",
       "I  131.094629  0.44440            3               3               0   \n",
       "K  146.105528 -0.47270            5               4               0   \n",
       "L  131.094629  0.44440            3               3               0   \n",
       "M  149.051050  0.15140            3               3               0   \n",
       "N  132.053492 -1.72630            5               5               0   \n",
       "P  115.063329 -0.17700            2               3               0   \n",
       "Q  146.069142 -1.33620            5               5               0   \n",
       "R  174.111676 -1.33843            7               6               0   \n",
       "S  105.042593 -1.60940            4               4               0   \n",
       "T  119.058243 -1.22090            4               4               0   \n",
       "V  117.078979  0.05430            3               3               0   \n",
       "W  204.089878  1.12230            4               4               2   \n",
       "Y  181.073893  0.34660            4               4               1   \n",
       "\n",
       "   nHeteroAtoms  nRotatableBonds  \n",
       "A             3                3  \n",
       "C             4                4  \n",
       "D             5                4  \n",
       "E             5                5  \n",
       "F             3                4  \n",
       "G             3                2  \n",
       "H             5                4  \n",
       "I             3                6  \n",
       "K             4                7  \n",
       "L             3                6  \n",
       "M             4                6  \n",
       "N             5                4  \n",
       "P             3                1  \n",
       "Q             5                5  \n",
       "R             6                6  \n",
       "S             4                4  \n",
       "T             4                5  \n",
       "V             3                5  \n",
       "W             4                4  \n",
       "Y             4                5  "
      ]
     },
     "execution_count": 37,
     "metadata": {},
     "output_type": "execute_result"
    }
   ],
   "source": [
    "import pandas as pd\n",
    "import io\n",
    "\n",
    "pd.read_csv(io.StringIO(data), delimiter = '\\t')"
   ]
  },
  {
   "cell_type": "markdown",
   "metadata": {},
   "source": [
    "# How about with ```string``` tricks?\n",
    "\n",
    "Using the ```io``` module is very convenient for reading data, but how about some generally useful techniques with strings and basic datatypes? In this section we'll use some techniques that don't rely on importing modules to turn our string into something useable.\n",
    "\n",
    "# Exercise\n",
    "Here are the steps we'll take to get a ```dictionary``` of our data, which we can easily use to look up molecular properties of each amino acid.\n",
    "1. Split the ```data``` string into rows - ```split()```\n",
    "2. Split the rows into columns - ```split()```\n",
    "3. Use ```for``` loops and list indexing to extract: coulmn headers, table index, table entry values like:\n",
    "```python\n",
    "['MolWT',  'LogP',  'HBondDonors',  'HBondAcceptors',  'nAromaticRings',  'nHeteroAtoms',  'nRotatableBonds']\n",
    "&\n",
    "['A', 'C', 'D', 'E', 'F', 'G', 'H', 'I', 'K', 'L', 'M', 'N', 'P', 'Q', 'R', 'S', 'T', 'V', 'W', 'Y']\n",
    "```\n",
    "4. Use the coulmn headers, table index, table entry values to make a dictionary for an amino acid like:\n",
    "\n",
    "```python\n",
    "# for A\n",
    "{'MolWT': '89.047678',\n",
    "  'LogP': '-0.58180',\n",
    "  'HBondDonors': '3',\n",
    "  'HBondAcceptors': '3',\n",
    "  'nAromaticRings': '0',\n",
    "  'nHeteroAtoms': '3',\n",
    "  'nRotatableBonds': '3'}\n",
    "```\n",
    "5. Make a ```dictionary``` of the amino acid ```dictionaries```  like:\n",
    "\n",
    "```python\n",
    "{'A': {'MolWT': '89.047678',\n",
    "  'LogP': '-0.58180',\n",
    "  'HBondDonors': '3',\n",
    "  'HBondAcceptors': '3',\n",
    "  'nAromaticRings': '0',\n",
    "  'nHeteroAtoms': '3',\n",
    "  'nRotatableBonds': '3'},\n",
    " 'C': {'MolWT': '121.019749',\n",
    "  'LogP': '-0.67190',\n",
    "  'HBondDonors': '3',\n",
    "  'HBondAcceptors': '3'\n",
    "       ...\n",
    "```\n",
    "\n",
    "6. Use the ```dictionary``` to find the total molecular weight of the protein\n",
    "\n",
    "# Techniques:\n",
    "#### Check out Chapter 41: String Methods in [Python notes for professionals (free ebook)](https://books.goalkicker.com/PythonBook/) for more string methods\n",
    "\n",
    "## ```split()```\n",
    "\n",
    "Let's split ```data``` by row. ```split()``` is a function that splits string on a particular character, it works like this:\n",
    "```python\n",
    ">>> \"Let's split ```data``` by row. ```split()``` is a function that splits string on a particular character\".split(' ') \n",
    "\n",
    "# splitting on ' ' is default - 🤫\n",
    "# see how the function comes from the string?\n",
    "# that's because it's a method that 'belongs' to the string type of object\n",
    "# run dir(<string>) to see other methods that belong to strings\n",
    "# or run help(<string>) for more info on strings\n",
    ">>> [\"Let's\", 'split', '```data```', 'by', 'row.', '```split()```', 'is', 'a', 'function', 'that', 'splits', 'string', 'on', 'a', 'particular', 'character']\n",
    "```\n",
    "## ```for``` loops:\n",
    "#### For more detail on loops and ```list comprehensions``` (for loops in a single line) look at our [list comprehension tutorial](https://github.com/UoMMIB/Python-Club/blob/master/Tutorials/ListComprehensions.ipynb) or even better: Chapter 21 of [Python notes for professionals](https://books.goalkicker.com/PythonBook/) \n",
    "\n",
    "\n",
    "#### Filling ```lists``` and ```dictionaries``` using ```for``` loops:\n",
    "One way to fill a ```list``` or ```dictionary``` with items using ```for``` loops is to create the ```list``` or ```dictionary``` outside the loop, and then use the ```list``` or ```dictionary``` specific methods to add items to that ```list``` or ```dictionary```:\n",
    "```python\n",
    "# things to loop through\n",
    "letters = ['a','b','c','d','e']\n",
    "numbers = [1,2,3,4,5]\n",
    "\n",
    "l = [] # empty list\n",
    "d = {} # enpty dictionary\n",
    "\n",
    "for i,j in zip(letters, numbers):\n",
    "    # loop through letters and numbers at the same time\n",
    "    # i = letter; j = number\n",
    "    l.append(i) # add letter to list\n",
    "    d[i] = j # add number to dictionary under key letter\n",
    "    \n",
    "# l = ['a', 'b', 'c', 'd', 'e']\n",
    "# d = {'a': 1, 'b': 2, 'c': 3, 'd': 4, 'e': 5}\n",
    "```"
   ]
  },
  {
   "cell_type": "markdown",
   "metadata": {},
   "source": [
    "# 1. Split the ```data``` string into a list of rows\n",
    "# 2. Split each row into a list of values\n",
    "# to get a list of lists, save that variable as something like ```table```"
   ]
  },
  {
   "cell_type": "code",
   "execution_count": null,
   "metadata": {},
   "outputs": [],
   "source": []
  },
  {
   "cell_type": "markdown",
   "metadata": {},
   "source": [
    "# 3.1 Extract the top row (column headers) of your ```table``` using *list slicing*\n",
    "### Keep the top row saved as a variable like ```header```\n",
    "\n",
    "### You'll need to use list ```slicing``` (chapter 64 in [Python notes for professionals](https://books.goalkicker.com/PythonBook/))\n",
    "\n",
    "List slicing is the name for getting one or more item from a list, and other objects that behave similarly. It has a distinctive ```[square brackets``` notation. Here are some quick syntax rules for slicing:\n",
    "```python\n",
    "l = [1,2,3,4,5,6,7,8,9,10]\n",
    "\n",
    "# syntax:\n",
    "l[<start>:<stop>:<step size>]\n",
    "# leaving out start, stop or step, the interpreter will assume:\n",
    "<start> = 0\n",
    "<stop> = end\n",
    "<step size> = 1\n",
    "# first item\n",
    ">>> l[0] # python starts counting at zero - why waste a whole number?\n",
    ">>> 1\n",
    "# last item\n",
    ">>> l[-1]\n",
    ">>> 10\n",
    "# items 0-4\n",
    ">>> l[0:4]\n",
    ">>> [1, 2, 3, 4]\n",
    "# 4 onwards\n",
    ">>> l[4:]\n",
    ">>> [5, 6, 7, 8, 9, 10]\n",
    "# ever other number between 2 and 8\n",
    ">>> l[1:8:2]\n",
    ">>> [2, 4, 6, 8]\n",
    "\n",
    "```"
   ]
  },
  {
   "cell_type": "code",
   "execution_count": null,
   "metadata": {},
   "outputs": [],
   "source": []
  },
  {
   "cell_type": "markdown",
   "metadata": {},
   "source": [
    "# 3.2 Extract the row names (index) from your ```table```\n",
    "\n",
    "You may have to loop through your list of lists to find these items"
   ]
  },
  {
   "cell_type": "code",
   "execution_count": null,
   "metadata": {},
   "outputs": [],
   "source": []
  },
  {
   "cell_type": "markdown",
   "metadata": {},
   "source": [
    "# 3.3 Extract the table entries from your ```table```, excluding the headers and the index"
   ]
  },
  {
   "cell_type": "code",
   "execution_count": null,
   "metadata": {},
   "outputs": [],
   "source": []
  },
  {
   "cell_type": "markdown",
   "metadata": {},
   "source": [
    "# 3.4 Change the ```data type``` of the table entries from ```sting``` to ```float```\n",
    "### Hints:\n",
    "```python\n",
    ">>> '131.094629' + 5\n",
    ">>> TypeError\n",
    "\n",
    ">>> float('131.094629') + 5\n",
    ">>> 136.094629\n",
    "```\n",
    "### Use a ```for``` loop within a ```for``` loop, or a ```list comprehension``` within a ```list comprehension```"
   ]
  },
  {
   "cell_type": "code",
   "execution_count": null,
   "metadata": {},
   "outputs": [],
   "source": []
  },
  {
   "cell_type": "markdown",
   "metadata": {},
   "source": [
    "# 4. Create a ```dictionary``` like: ```{'MolWT': <value>, ...}``` for amino acid ```A``` - alanine\n",
    "![](alanine.png)"
   ]
  },
  {
   "cell_type": "code",
   "execution_count": null,
   "metadata": {},
   "outputs": [],
   "source": []
  },
  {
   "cell_type": "markdown",
   "metadata": {},
   "source": [
    "# 5.1 Create a ```dictionary``` for each amino acid's properties, and store each ```dictionary``` within another dictionary like:\n",
    "\n",
    "```python\n",
    "{'A': {'MolWT': '89.047678',\n",
    "  'LogP': '-0.58180',\n",
    "  'HBondDonors': '3',\n",
    "  'HBondAcceptors': '3',\n",
    "  'nAromaticRings': '0',\n",
    "  'nHeteroAtoms': '3',\n",
    "  'nRotatableBonds': '3'},\n",
    " 'C': {'MolWT': '121.019749',\n",
    "  'LogP': '-0.67190',\n",
    "  'HBondDonors': '3',\n",
    "  'HBondAcceptors': '3',\n",
    "       ...\n",
    "       ```"
   ]
  },
  {
   "cell_type": "code",
   "execution_count": null,
   "metadata": {},
   "outputs": [],
   "source": []
  },
  {
   "cell_type": "markdown",
   "metadata": {},
   "source": [
    "# 5.2 - Using the ```dictionary``` \n",
    "Information stored in a ```dictionary```can be accessed using ```keys```. Our top layer ```dictionary``` has keys like:\n",
    "\n",
    "```python\n",
    "['A', 'C', 'D', 'E', 'F', 'G', 'H', 'I', 'K', 'L', 'M', 'N', 'P', 'Q', 'R', 'S', 'T', 'V', 'W', 'Y']\n",
    "```\n",
    "\n",
    "Which correspond to our amino acids. We can use the keys to access the corresponding dictionary items with syntax similar to ```slicing```:\n",
    "\n",
    "```python\n",
    ">>> d['A']\n",
    ">>> {'MolWT': '89.047678',\n",
    " 'LogP': '-0.58180',\n",
    " 'HBondDonors': '3',\n",
    " 'HBondAcceptors': '3',\n",
    " 'nAromaticRings': '0',\n",
    " 'nHeteroAtoms': '3',\n",
    " 'nRotatableBonds': '3'}\n",
    "```\n",
    "\n",
    "#### I've made a dictionary called ```d``` below, which contains dictionaries of properties for each amino acid.\n",
    "# Find the ```nAromaticRings``` of ```W``` (tryptophan)"
   ]
  },
  {
   "cell_type": "code",
   "execution_count": 38,
   "metadata": {},
   "outputs": [],
   "source": [
    "# answers - for just in case you need them\n",
    "from backtobasics import   extract_data_with_list_comprehensions\n",
    "d = extract_data_with_list_comprehensions(data)"
   ]
  },
  {
   "cell_type": "code",
   "execution_count": null,
   "metadata": {},
   "outputs": [],
   "source": []
  },
  {
   "cell_type": "markdown",
   "metadata": {},
   "source": [
    "# 6. Use this dictionary to find the total MolWT (molecular weight) of the protein \n",
    "#### Hint: add 616.5 (molecular weight of heme) to the total weight of all the amino acids\n",
    "\n",
    "### 🧬 The sequence is at the top of this notebook 🧬\n",
    "\n",
    "### Steps:\n",
    "1. Save the sequence above as a string\n",
    "2. Use the ```<string>.replace(<from>,<to>)``` to replace ```\\n``` and ```*``` (end of sequence) characters\n",
    "3. Loop through the sequence, for each letter, lookup the corresponding ```MolWT```\n",
    "4. ```sum()``` the ```MolWT``` for each amino acid and add  ```616.5``` to account for the heme"
   ]
  },
  {
   "cell_type": "code",
   "execution_count": 39,
   "metadata": {},
   "outputs": [
    {
     "data": {
      "text/plain": [
       "'MTIKEMPQPKTFGELKNLPLLNTDKPVQALMKIADELGEIFKFEAPGRVTRYLS\\nSQRLIKEACDESRFDKNLSQALKFVRDFAGDGLFTSWTHEKNWKKAHNILLPSFSQQAMKGYHAMM\\nVDIAVQLVQKWERLNADEHIEVPEDMTRLTLDTIGLCGFNYRFNSFYRDQPHPFITSMVRALDEAM\\nNKLQRANPDDPAYDENKRQFQEDIKVMNDLVDKIIADRKASGEQSDDLLTHMLNGKDPETGEPLDD\\nENIRYQIITFLIAGHETTSGLLSFALYFLVKNPHVLQKAAEEAARVLVDPVPSYKQVKQLKYVGMV\\nLNEALRLWPTAPAFSLYAKEDTVLGGEYPLEKGDELMVLIPQLHRDKTIWGDDVEEFRPERFENPS\\nAIPQHAFKPFGNGQRACIGQQFALHEATLVLGMMLKHFDFEDHTNYELDIKETLTLKPEGFVVKAK\\nSKKIPLGGIPSPSTEQSAKKVRKKGC*'"
      ]
     },
     "execution_count": 39,
     "metadata": {},
     "output_type": "execute_result"
    }
   ],
   "source": [
    "s = '''MTIKEMPQPKTFGELKNLPLLNTDKPVQALMKIADELGEIFKFEAPGRVTRYLS\n",
    "SQRLIKEACDESRFDKNLSQALKFVRDFAGDGLFTSWTHEKNWKKAHNILLPSFSQQAMKGYHAMM\n",
    "VDIAVQLVQKWERLNADEHIEVPEDMTRLTLDTIGLCGFNYRFNSFYRDQPHPFITSMVRALDEAM\n",
    "NKLQRANPDDPAYDENKRQFQEDIKVMNDLVDKIIADRKASGEQSDDLLTHMLNGKDPETGEPLDD\n",
    "ENIRYQIITFLIAGHETTSGLLSFALYFLVKNPHVLQKAAEEAARVLVDPVPSYKQVKQLKYVGMV\n",
    "LNEALRLWPTAPAFSLYAKEDTVLGGEYPLEKGDELMVLIPQLHRDKTIWGDDVEEFRPERFENPS\n",
    "AIPQHAFKPFGNGQRACIGQQFALHEATLVLGMMLKHFDFEDHTNYELDIKETLTLKPEGFVVKAK\n",
    "SKKIPLGGIPSPSTEQSAKKVRKKGC*'''\n",
    "s"
   ]
  },
  {
   "cell_type": "code",
   "execution_count": null,
   "metadata": {},
   "outputs": [],
   "source": []
  },
  {
   "cell_type": "markdown",
   "metadata": {},
   "source": [
    "# Answers from [backtobasics.py](https://github.com/UoMMIB/Python-Club/blob/master/Tutorials/backtobasics.py)"
   ]
  },
  {
   "cell_type": "code",
   "execution_count": 40,
   "metadata": {},
   "outputs": [
    {
     "data": {
      "text/plain": [
       "'MTIKEMPQPKTFGELKNLPLLNTDKPVQALMKIADELGEIFKFEAPGRVTRYLSSQRLIKEACDESRFDKNLSQALKFVRDFAGDGLFTSWTHEKNWKKAHNILLPSFSQQAMKGYHAMMVDIAVQLVQKWERLNADEHIEVPEDMTRLTLDTIGLCGFNYRFNSFYRDQPHPFITSMVRALDEAMNKLQRANPDDPAYDENKRQFQEDIKVMNDLVDKIIADRKASGEQSDDLLTHMLNGKDPETGEPLDDENIRYQIITFLIAGHETTSGLLSFALYFLVKNPHVLQKAAEEAARVLVDPVPSYKQVKQLKYVGMVLNEALRLWPTAPAFSLYAKEDTVLGGEYPLEKGDELMVLIPQLHRDKTIWGDDVEEFRPERFENPSAIPQHAFKPFGNGQRACIGQQFALHEATLVLGMMLKHFDFEDHTNYELDIKETLTLKPEGFVVKAKSKKIPLGGIPSPSTEQSAKKVRKKGC'"
      ]
     },
     "execution_count": 40,
     "metadata": {},
     "output_type": "execute_result"
    }
   ],
   "source": [
    "from backtobasics import clean_seq\n",
    "\n",
    "clean_seq(s)"
   ]
  },
  {
   "cell_type": "code",
   "execution_count": 41,
   "metadata": {},
   "outputs": [
    {
     "name": "stdout",
     "output_type": "stream",
     "text": [
      "63409.236900999975\n"
     ]
    }
   ],
   "source": [
    "from backtobasics import  find_mw\n",
    "    \n",
    "weight = find_mw(clean_seq(s), d) + 616.5\n",
    "print(weight)"
   ]
  },
  {
   "cell_type": "markdown",
   "metadata": {},
   "source": [
    "# Session 2: 2 Basic\n",
    "\n",
    "### Aim:\n",
    "* Use ```bash``` commands to download structural data of BM3 from the internet\n",
    "* Open files with built-in python commands\n",
    "* Use string operations from section 1 to extract atom coordinates \n",
    "* Handle the coordinates in a ```pandas``` dataframe, find lengths of covalent and non-covaent bonds"
   ]
  },
  {
   "cell_type": "markdown",
   "metadata": {},
   "source": [
    "# ```bash```\n",
    "[**bash**](https://en.wikipedia.org/wiki/Bash_%28Unix_shell%29) is ANOTHER programming language used mostly for interacting with Mac and Linux/Unix operating systems.  If you're in a ```colab``` hosted version of this notebook, then the host will be running linux.\n",
    "\n",
    "For some tasks, ```bash``` is easier. We'll use a small handfull of ```bash``` commands to download structural data for our enzyme, BM3. To invoke a ```bash``` command either:\n",
    "* Use ```! <command>```, an ```!``` at the line start\n",
    "* Type ```%%bash``` at the top of a code cell\n",
    "\n",
    "Here are a few useful ```bash``` one-liners:\n",
    "```bash\n",
    "ls # list folder/directory contents\n",
    "pwd # print name of working directory\n",
    "cd <folder> # change directory to..\n",
    "rm <file> # remove file\n",
    "mv <file> <destination> # move file / folder\n",
    "cat <file> # print file contents\n",
    "mkdir <folder name> # make new directory/folder\n",
    "wget <http/s link> # download link contents to file\n",
    "```\n",
    "\n",
    "Most commands have options that give extra functionality. These options are specified like:\n",
    "```bash\n",
    "ls -l # list files in long format\n",
    "ls -lt # long format + sort by creation timestamp (some \"flags\" can be combined)\n",
    "ls --help # multi-letter commands usually have a double-dash flag\n",
    "```\n",
    "\n",
    "## Exercise -  ```bash```\n",
    "* find help for  ```wget```\n",
    "* Use wget (with no additional options) to download this file: ```https://files.rcsb.org/download/1BU7.pdb```\n",
    "* What's your current working directory called?\n",
    "* List the contents if your folder - is there a ```.pdb``` file there?"
   ]
  },
  {
   "cell_type": "code",
   "execution_count": null,
   "metadata": {},
   "outputs": [],
   "source": []
  },
  {
   "cell_type": "code",
   "execution_count": 42,
   "metadata": {},
   "outputs": [],
   "source": [
    "# answer (in python)\n",
    "from backtobasics  import get_1bu7\n",
    "get_1bu7()"
   ]
  },
  {
   "cell_type": "markdown",
   "metadata": {},
   "source": [
    "# Reading files with [**open()**](https://docs.python.org/2/library/functions.html#open)\n",
    "The most basic way to open a file in python is with:\n",
    "\n",
    "```python \n",
    "open(<filename>, <'r'/'w'/'a'>)\n",
    "```\n",
    "\n",
    "which returns a [**file object**](https://docs.python.org/2/library/stdtypes.html#bltin-file-objects). The ```open``` mode options ```'r'```, ```'w'``` and ```'a'``` stand for ```read```, ```write``` and ```'append'``` respectively and apply to text files, but note that there are [other options](https://docs.python.org/2/library/functions.html#open) that apply to binary files. In the context of reading a file this might look like:\n",
    "\n",
    "```python\n",
    ">>> file = open('backtobasics.py','r') # open a text file (python is just text)  in read mode\n",
    ">>> print(file)\n",
    ">>> <_io.TextIOWrapper name='backtobasics.py' mode='r' encoding='UTF-8'>\n",
    ">>> print(file.read()) \n",
    "```\n",
    "\n",
    "```\n",
    "def extract_data_with_for_loops(data):\n",
    "    # data: string of a table\n",
    "    table = [] # ready to catch our lists of row items\n",
    "    # loop through each row by splitting in '\\n'  (newline)\n",
    "    for i in data.split('\\n'):\n",
    "        # i.split('\\t') = list of values in each row\n",
    "        table.append(i.split('\\t') ) # add to list\n",
    "        ...\n",
    "```\n",
    "        \n",
    "```python\n",
    ">>> file.close() # remember to close your file after\n",
    "```\n",
    "\n",
    "## Why close a file?\n",
    "Check these [answers on stackoverflow](https://stackoverflow.com/questions/25070854/why-should-i-close-files-in-python)\n",
    "* It uses up RAM - with big files this can slow down your system\n",
    "* Changes may not be written to the file until it is closed\n",
    "* Other programs may not be able to access that file (e.g. antivirus)\n",
    "\n",
    "## Exercise: Writing and appending files\n",
    "We've written some functions in this notebook, but we haven't written one the prints \"python is the best language\" 100 times. \n",
    "* Write a function that prints \"python is the best language\" 100 times.\n",
    "* Open a new ```.py``` file in write mode as a variable like ```file``` and use  ```file.write('<your text (str)>')``` to write your function to the file - close it after\n",
    "* Check the contents of your file by opening it in ```read``` mode and printing the contents"
   ]
  },
  {
   "cell_type": "code",
   "execution_count": null,
   "metadata": {},
   "outputs": [],
   "source": []
  },
  {
   "cell_type": "markdown",
   "metadata": {},
   "source": [
    "# ```with``` - the [context manager](https://book.pythontips.com/en/latest/context_managers.html)\n",
    "Tired of remembering to close files after you're done? Try the context manager:\n",
    "```python\n",
    "with open('backtobasics.py', 'r') as f:\n",
    "    file_contents = f.readlines()\n",
    "# do something with file_contents\n",
    "```\n",
    "\n",
    "This automatically closes the file after the indented code block **and** handles any errors.\n",
    "```f``` is now the file object, which we can extract with either ```f.read()```, which returns a single string or ```f.readlines()``` which returns a list of strings for each line.\n",
    "\n",
    "\n",
    "\n",
    "# ```1BU7.pdb```\n",
    "We've downloaded the [**pdb file**](https://en.wikipedia.org/wiki/Protein_Data_Bank_(file_format)) ```1BU7.pdb``` from the [Protein Data Bank](https://en.wikipedia.org/wiki/Protein_Data_Bank). It contains information about the structure of BM3 in terms of atom coordinates. \n",
    "### Aim: Extract Atom coordinates from the file\n"
   ]
  },
  {
   "cell_type": "code",
   "execution_count": 43,
   "metadata": {},
   "outputs": [
    {
     "name": "stdout",
     "output_type": "stream",
     "text": [
      "9220\n"
     ]
    }
   ],
   "source": [
    "with open('1BU7.pdb', 'r') as f:\n",
    "    PDB = f.readlines()\n",
    "    \n",
    "print(len(PDB)) # number of lines"
   ]
  },
  {
   "cell_type": "markdown",
   "metadata": {},
   "source": [
    "### This file format \n",
    "```.pdb``` files are strange creatures IMO, they were devised in 1976 with human readability and [punch cards](https://en.wikipedia.org/wiki/Punched_card) in mind. See [**here**](https://journals.iucr.org/a/issues/2008/01/00/sc5004/index.html#4.1.%20Data%20representation) for some history on the PDB. The section of the file can be identified by the leftmost word in each line. Here's a breakdown of some of the fields:\n",
    "* **REMARK:** General annotation annd description\n",
    "* **SEQRES:** Sequence of \"residues\" - a term for amino acids\n",
    "* **HELIX/SHEET:** [Secondary structure](https://en.wikipedia.org/wiki/Protein_secondary_structure) map of sequence - proteins often fold into [flat sheets](https://en.wikipedia.org/wiki/Beta_sheet) or [helices](https://en.wikipedia.org/wiki/Alpha_helix)\n",
    "* **ATOM:** Protein atom coordinates\n",
    "* **HETATM:** Non-protein atom coordinates\n",
    "* **CONNECT:** Bonds between atoms (by atom number)"
   ]
  },
  {
   "cell_type": "code",
   "execution_count": 44,
   "metadata": {},
   "outputs": [
    {
     "name": "stdout",
     "output_type": "stream",
     "text": [
      "HEADER    OXIDOREDUCTASE                          14-SEP-98   1BU7              \n",
      "\n",
      "TITLE     CRYOGENIC STRUCTURE OF CYTOCHROME P450BM-3 HEME DOMAIN                \n",
      "\n",
      "COMPND    MOL_ID: 1;                                                            \n",
      "\n",
      "COMPND   2 MOLECULE: PROTEIN (CYTOCHROME P450);                                 \n",
      "\n",
      "...\n",
      "SEQRES  26 A  455  PRO THR ALA PRO ALA PHE SER LEU TYR ALA LYS GLU ASP          \n",
      "\n",
      "SEQRES  27 A  455  THR VAL LEU GLY GLY GLU TYR PRO LEU GLU LYS GLY ASP          \n",
      "\n",
      "SEQRES  28 A  455  GLU LEU MET VAL LEU ILE PRO GLN LEU HIS ARG ASP LYS          \n",
      "\n",
      "SEQRES  29 A  455  THR ILE TRP GLY ASP ASP VAL GLU GLU PHE ARG PRO GLU          \n",
      "\n",
      "...\n",
      "HELIX   46  46 GLY B  396  ARG B  398  5                                   3    \n",
      "\n",
      "HELIX   47  47 GLN B  403  HIS B  420  1                                  18    \n",
      "\n",
      "SHEET    1   A 5 ILE A  39  ALA A  44  0                                        \n",
      "\n",
      "SHEET    2   A 5 ARG A  47  LEU A  52 -1  N  TYR A  51   O  PHE A  40           \n",
      "\n",
      "...\n",
      "ATOM      5  CB  THR A   1      47.421  33.900  28.149  1.00 66.37           C  \n",
      "\n",
      "ATOM      6  OG1 THR A   1      46.182  34.621  28.231  1.00 60.57           O  \n",
      "\n",
      "ATOM      7  CG2 THR A   1      47.106  32.441  28.435  1.00 70.25           C  \n",
      "\n",
      "ATOM      8  N   ILE A   2      49.559  35.803  27.507  1.00 65.28           N  \n",
      "\n",
      "ATOM      9  CA  ILE A   2      49.925  37.060  26.861  1.00 61.26           C  \n",
      "\n",
      "ATOM     10  C   ILE A   2      48.708  37.635  26.135  1.00 59.65           C  \n",
      "\n",
      "ATOM     11  O   ILE A   2      48.092  36.996  25.282  1.00 56.24           O  \n",
      "\n",
      "ATOM     12  CB  ILE A   2      51.090  36.915  25.868  1.00 56.37           C  \n",
      "\n",
      "ATOM     13  CG1 ILE A   2      52.450  36.666  26.521  1.00 52.40           C  \n",
      "\n",
      "ATOM     14  CG2 ILE A   2      51.141  38.130  24.942  1.00 51.37           C  \n",
      "\n",
      "...\n",
      "CONECT 7486 7485                                                                \n",
      "\n",
      "CONECT 7492 7345                                                                \n",
      "\n",
      "CONECT 8329 7412                                                                \n",
      "\n",
      "MASTER      339    0   16   47   22    0   35    9 8482    2  148   70          \n",
      "\n",
      "END                                                                             \n",
      "\n"
     ]
    }
   ],
   "source": [
    "for i in PDB[0:4]:\n",
    "    print(i)\n",
    "print('...')\n",
    "for i in PDB[400:404]:\n",
    "    print(i)\n",
    "print('...')\n",
    "for i in PDB[513:517]:\n",
    "    print(i)\n",
    "print('...')\n",
    "for i in PDB[590:600]:\n",
    "    print(i)\n",
    "print('...')\n",
    "for i in PDB[-5:]:\n",
    "    print(i)"
   ]
  },
  {
   "cell_type": "markdown",
   "metadata": {},
   "source": [
    "# Filtering - Atom Coordinates\n",
    "### Aim of section:\n",
    " * Filter the data to only the atom coordinates\n",
    "\n",
    "## ```filter()```\n",
    "\n",
    "```filter``` is a built-in python function that takes in: a ```function``` & a ```collection``` (e.g. a list) and returns every item for which the ```function``` returns ```True```.  It returns a ```generator``` that will actually compute the result when it absolutely has to, like when you call ```list(<generator>)```.\n",
    "\n",
    "```filter``` is worth knowing about, but it is almost always [simpler and more readable](https://www.artima.com/weblogs/viewpost.jsp?thread=98196) to use a ```[list comprehension]``` to filter. Here's a quick example:"
   ]
  },
  {
   "cell_type": "code",
   "execution_count": 45,
   "metadata": {},
   "outputs": [
    {
     "name": "stdout",
     "output_type": "stream",
     "text": [
      "ATOM     15  CD1 ILE A   2      52.392  36.579  28.028  1.00 47.53           C  \n",
      "\n"
     ]
    },
    {
     "data": {
      "text/plain": [
       "True"
      ]
     },
     "execution_count": 45,
     "metadata": {},
     "output_type": "execute_result"
    }
   ],
   "source": [
    "def filtering_critera(item):\n",
    "    if 'ATOM' in item:\n",
    "        return True\n",
    "    else:\n",
    "        return False\n",
    "    \n",
    "print(PDB[600])\n",
    "filtering_critera(PDB[600]) # demo of function"
   ]
  },
  {
   "cell_type": "code",
   "execution_count": 46,
   "metadata": {},
   "outputs": [
    {
     "data": {
      "text/plain": [
       "['REVDAT   2 2                   4       ATOM   SOURCE SEQRES                     \\n',\n",
       " 'REMARK   3  NUMBER OF NON-HYDROGEN ATOMS USED IN REFINEMENT.                    \\n',\n",
       " 'REMARK   3   PROTEIN ATOMS      : 7342                                          \\n',\n",
       " 'REMARK   3   NUCLEIC ACID ATOMS : 0                                             \\n',\n",
       " 'REMARK   3   HETEROGEN ATOMS    : 142                                           \\n',\n",
       " 'REMARK   3   SOLVENT ATOMS      : 998                                           \\n',\n",
       " 'REMARK   3   OCCUPANCY SUM OF NON-HYDROGEN ATOMS      : NULL                    \\n',\n",
       " 'REMARK   3   OCCUPANCY SUM OF HYDROGEN ATOMS          : NULL                    \\n',\n",
       " 'REMARK 290 THE FOLLOWING TRANSFORMATIONS OPERATE ON THE ATOM/HETATM             \\n',\n",
       " 'REMARK 500 THE FOLLOWING ATOMS ARE IN CLOSE CONTACT.                            \\n',\n",
       " 'REMARK 620 N RES CSSEQI ATOM                                                    \\n',\n",
       " 'REMARK 620 N RES CSSEQI ATOM                                                    \\n',\n",
       " 'ATOM      1  N   THR A   1      47.785  34.623  30.495  1.00 78.19           N  \\n',\n",
       " 'ATOM      2  CA  THR A   1      48.405  34.483  29.188  1.00 66.23           C  \\n',\n",
       " 'ATOM      3  C   THR A   1      48.901  35.826  28.669  1.00 63.58           C  \\n',\n",
       " 'ATOM      4  O   THR A   1      48.690  36.867  29.294  1.00 56.16           O  \\n',\n",
       " 'ATOM      5  CB  THR A   1      47.421  33.900  28.149  1.00 66.37           C  \\n',\n",
       " 'ATOM      6  OG1 THR A   1      46.182  34.621  28.231  1.00 60.57           O  \\n',\n",
       " 'ATOM      7  CG2 THR A   1      47.106  32.441  28.435  1.00 70.25           C  \\n',\n",
       " 'ATOM      8  N   ILE A   2      49.559  35.803  27.507  1.00 65.28           N  \\n']"
      ]
     },
     "execution_count": 46,
     "metadata": {},
     "output_type": "execute_result"
    }
   ],
   "source": [
    "filter_obj = filter(filtering_critera, PDB)\n",
    "list(filter_obj)[:20]"
   ]
  },
  {
   "cell_type": "markdown",
   "metadata": {},
   "source": [
    "# Exercise:\n",
    "* Use a ```for``` loop  and an ```if``` statement to extract all the ```ATOM``` lines with this format:\n",
    "\n",
    "```ATOM      1  N   THR A   1      47.785  34.623  30.495  1.00 78.19           N '```\n",
    "\n",
    "* Make another to extract all the ```HETATM``` lines with this format:\n",
    "\n",
    "```HETATM 7345 FE   HEM A 999      51.969  67.648  45.223  1.00 12.09          FE ```"
   ]
  },
  {
   "cell_type": "code",
   "execution_count": null,
   "metadata": {},
   "outputs": [],
   "source": []
  },
  {
   "cell_type": "code",
   "execution_count": 47,
   "metadata": {
    "jupyter": {
     "outputs_hidden": true
    }
   },
   "outputs": [],
   "source": [
    "from backtobasics import get_atoms_from_pdb, get_hetatms_from_pdb\n",
    "\n",
    "atoms = get_atoms_from_pdb(PDB)\n",
    "hetatms = get_hetatms_from_pdb(PDB)"
   ]
  },
  {
   "cell_type": "markdown",
   "metadata": {},
   "source": [
    "# 🐼 ```pandas```: 🐼 the ```excel``` of python\n",
    "```pandas``` is a python package (collection of python files) designed to make handling **table data** easy. We've touched on it before in the [UV-Vis](https://github.com/UoMMIB/Python-Club/blob/master/Tutorials/uv-vis-data.ipynb), and in [IntroToDataWranglingWithPandas](https://github.com/UoMMIB/Python-Club/blob/master/Tutorials/IntroToDataWranglingWithPandas.ipynb), and here we are again! Probably because it's one of the most versatile and ubiquitous data handling packages ot there.\n",
    "\n",
    "## Aim: \n",
    "* We'll make ```DataFrames``` of our ```ATOM``` and ```HETATM``` data\n",
    "* We'll rename the columns\n",
    "* We'll locate some key atoms\n",
    "* We'll look at the lengths of covalent and non-covalent bonds"
   ]
  },
  {
   "cell_type": "code",
   "execution_count": 48,
   "metadata": {},
   "outputs": [
    {
     "data": {
      "text/html": [
       "<div>\n",
       "<style scoped>\n",
       "    .dataframe tbody tr th:only-of-type {\n",
       "        vertical-align: middle;\n",
       "    }\n",
       "\n",
       "    .dataframe tbody tr th {\n",
       "        vertical-align: top;\n",
       "    }\n",
       "\n",
       "    .dataframe thead th {\n",
       "        text-align: right;\n",
       "    }\n",
       "</style>\n",
       "<table border=\"1\" class=\"dataframe\">\n",
       "  <thead>\n",
       "    <tr style=\"text-align: right;\">\n",
       "      <th></th>\n",
       "      <th>0</th>\n",
       "      <th>1</th>\n",
       "      <th>2</th>\n",
       "      <th>3</th>\n",
       "      <th>4</th>\n",
       "      <th>5</th>\n",
       "      <th>6</th>\n",
       "      <th>7</th>\n",
       "      <th>8</th>\n",
       "      <th>9</th>\n",
       "      <th>10</th>\n",
       "      <th>11</th>\n",
       "    </tr>\n",
       "  </thead>\n",
       "  <tbody>\n",
       "    <tr>\n",
       "      <th>0</th>\n",
       "      <td>ATOM</td>\n",
       "      <td>1</td>\n",
       "      <td>N</td>\n",
       "      <td>THR</td>\n",
       "      <td>A</td>\n",
       "      <td>1</td>\n",
       "      <td>47.785</td>\n",
       "      <td>34.623</td>\n",
       "      <td>30.495</td>\n",
       "      <td>1.00</td>\n",
       "      <td>78.19</td>\n",
       "      <td>N</td>\n",
       "    </tr>\n",
       "    <tr>\n",
       "      <th>1</th>\n",
       "      <td>ATOM</td>\n",
       "      <td>2</td>\n",
       "      <td>CA</td>\n",
       "      <td>THR</td>\n",
       "      <td>A</td>\n",
       "      <td>1</td>\n",
       "      <td>48.405</td>\n",
       "      <td>34.483</td>\n",
       "      <td>29.188</td>\n",
       "      <td>1.00</td>\n",
       "      <td>66.23</td>\n",
       "      <td>C</td>\n",
       "    </tr>\n",
       "    <tr>\n",
       "      <th>2</th>\n",
       "      <td>ATOM</td>\n",
       "      <td>3</td>\n",
       "      <td>C</td>\n",
       "      <td>THR</td>\n",
       "      <td>A</td>\n",
       "      <td>1</td>\n",
       "      <td>48.901</td>\n",
       "      <td>35.826</td>\n",
       "      <td>28.669</td>\n",
       "      <td>1.00</td>\n",
       "      <td>63.58</td>\n",
       "      <td>C</td>\n",
       "    </tr>\n",
       "    <tr>\n",
       "      <th>3</th>\n",
       "      <td>ATOM</td>\n",
       "      <td>4</td>\n",
       "      <td>O</td>\n",
       "      <td>THR</td>\n",
       "      <td>A</td>\n",
       "      <td>1</td>\n",
       "      <td>48.690</td>\n",
       "      <td>36.867</td>\n",
       "      <td>29.294</td>\n",
       "      <td>1.00</td>\n",
       "      <td>56.16</td>\n",
       "      <td>O</td>\n",
       "    </tr>\n",
       "    <tr>\n",
       "      <th>4</th>\n",
       "      <td>ATOM</td>\n",
       "      <td>5</td>\n",
       "      <td>CB</td>\n",
       "      <td>THR</td>\n",
       "      <td>A</td>\n",
       "      <td>1</td>\n",
       "      <td>47.421</td>\n",
       "      <td>33.900</td>\n",
       "      <td>28.149</td>\n",
       "      <td>1.00</td>\n",
       "      <td>66.37</td>\n",
       "      <td>C</td>\n",
       "    </tr>\n",
       "  </tbody>\n",
       "</table>\n",
       "</div>"
      ],
      "text/plain": [
       "      0  1   2    3  4  5       6       7       8     9     10 11\n",
       "0  ATOM  1   N  THR  A  1  47.785  34.623  30.495  1.00  78.19  N\n",
       "1  ATOM  2  CA  THR  A  1  48.405  34.483  29.188  1.00  66.23  C\n",
       "2  ATOM  3   C  THR  A  1  48.901  35.826  28.669  1.00  63.58  C\n",
       "3  ATOM  4   O  THR  A  1  48.690  36.867  29.294  1.00  56.16  O\n",
       "4  ATOM  5  CB  THR  A  1  47.421  33.900  28.149  1.00  66.37  C"
      ]
     },
     "execution_count": 48,
     "metadata": {},
     "output_type": "execute_result"
    }
   ],
   "source": [
    "import pandas as pd # we've already done this in session 1\n",
    "\n",
    "atoms_df = pd.DataFrame(atoms)\n",
    "het_df = pd.DataFrame(hetatms)\n",
    "atoms_df.head() #  how big is this dataFrame? atoms_df.shape"
   ]
  },
  {
   "cell_type": "markdown",
   "metadata": {},
   "source": [
    "## Exercise: find size (n rows & columns) of ```het_df``` and ```atoms_df```"
   ]
  },
  {
   "cell_type": "code",
   "execution_count": null,
   "metadata": {
    "scrolled": true
   },
   "outputs": [],
   "source": []
  },
  {
   "cell_type": "markdown",
   "metadata": {},
   "source": [
    "# ✄ Joining DataFrames - ```append``` & ```concat``` ✄\n",
    "\n",
    "Pandas has many of joining together ```DataFrames```, from simple joins to complex database-style joins that handle ```DataFrame``` overlaps. We want to join ```het_df``` to the end of ```atoms_df```. To do this, we'll look at:\n",
    "* ```append```\n",
    "* ```concat```\n",
    "\n",
    "### ```append``` 📄📄 ✄\n",
    "\n",
    "We've seen another function called ```append```, which adds an item to the end of a list like:\n",
    "```python\n",
    ">>> l = [1,2,3]\n",
    ">>> l.append('a')\n",
    ">>> l\n",
    ">>> [1,2,3,'a']\n",
    "```\n",
    "The 🐼 ```pandas``` 🐼 ```append``` has similar syntax, but joins one ```pandas``` object (```Series``` & ```DataFrame```) to the end of another, rather than lists and list items. \n",
    "\n",
    "When using ```append``` to join two ```DataFrames```, the second ```Dataframe``` is joined to the bottom of the first. Here's an example of usage, showing the optional arguments (set to defaults)\n",
    "\n",
    "```python\n",
    "# minimally:\n",
    "df.append(df2)\n",
    "# other arguments\n",
    "df.append(df2, ignore_index=False, verify_integrity=False, sort=False) # can be handy\n",
    "```\n",
    "\n",
    "Here's an example from the ```pandas``` docs; run ```help(df.append)``` (with an existing dataframe as ```df```) for more.\n",
    "\n",
    "```python\n",
    ">>> df = pd.DataFrame([[1, 2], [3, 4]], columns=['A','B'])\n",
    ">>> df\n",
    "   A  B\n",
    "0  1  2\n",
    "1  3  4\n",
    ">>> df2 = pd.DataFrame([[5, 6], [7, 8]], columns=['A','B'])\n",
    ">>> df.append(df2)\n",
    "   A  B\n",
    "0  1  2\n",
    "1  3  4\n",
    "0  5  6\n",
    "1  7  8\n",
    "```\n",
    "\n",
    "## ```pd.concat([df1, df2,...])``` - join anything\n",
    "```concat``` (concatenate), like ```append``` is for joining ```DataFrames``` but has extra flexibility, since you can choose an axis and set logic. Here's an example with some key arguments:\n",
    "\n",
    "```python \n",
    ">>> pd.concat(<list of dataframes> axis=0,join='outer')\n",
    "\n",
    "```\n",
    "**Arguments:**\n",
    "* **axis** : ```{0:'index', 1:'columns'}```, default ```0```;  the axis to concatenate along.\n",
    "* **join:** ```{'inner', 'outer'}```, default ```'outer'```; How to handle indexes on other axis (or axes). \n",
    "\n",
    "\n",
    "**outer join:** include all columns/rows\n",
    "# todo"
   ]
  },
  {
   "cell_type": "markdown",
   "metadata": {},
   "source": [
    "# exercise \n",
    "Join ```atoms_df``` &  ```het_df``` into a single 8482 x 12 ```DataFrame```  using ```append``` and ```concat```.\n",
    "\n",
    "**How is the syntax different?**\n",
    "\n",
    "Try joining ```atoms_df``` &  ```het_df``` side-by-side\n",
    "\n",
    "**which axis do you use?** \n",
    "\n",
    "**what's the difference between ```join='inner'``` and ```join='outer'``` ?**"
   ]
  },
  {
   "cell_type": "code",
   "execution_count": null,
   "metadata": {},
   "outputs": [],
   "source": []
  },
  {
   "cell_type": "code",
   "execution_count": 49,
   "metadata": {},
   "outputs": [
    {
     "name": "stdout",
     "output_type": "stream",
     "text": [
      "RangeIndex(start=0, stop=12, step=1)\n"
     ]
    }
   ],
   "source": [
    "df = atoms_df.append(het_df) \n",
    "print(df.columns)"
   ]
  },
  {
   "cell_type": "markdown",
   "metadata": {},
   "source": [
    "# renaming columns & index\n",
    "\n",
    "We can reset the column and index names of a ```pandas``` object easily. Let's start with the columns of ```df```, which are currently just numbers. \n",
    "\n",
    "The object attribute we're resetting is ```df.columns```, which is currently ```RangeIndex(start=0, stop=12, step=1)```\n",
    "```pandas.Index```  objects are ```immutable``` which means we can't change a value in them *in place.* Instead we'll entirely replace the ```RangeIndex(start=0, stop=12, step=1)``` with a ```list``` of ```strings``` of our choosing: "
   ]
  },
  {
   "cell_type": "code",
   "execution_count": 62,
   "metadata": {},
   "outputs": [
    {
     "data": {
      "text/html": [
       "<div>\n",
       "<style scoped>\n",
       "    .dataframe tbody tr th:only-of-type {\n",
       "        vertical-align: middle;\n",
       "    }\n",
       "\n",
       "    .dataframe tbody tr th {\n",
       "        vertical-align: top;\n",
       "    }\n",
       "\n",
       "    .dataframe thead th {\n",
       "        text-align: right;\n",
       "    }\n",
       "</style>\n",
       "<table border=\"1\" class=\"dataframe\">\n",
       "  <thead>\n",
       "    <tr style=\"text-align: right;\">\n",
       "      <th></th>\n",
       "      <th>Type</th>\n",
       "      <th>ID</th>\n",
       "      <th>Atom Type</th>\n",
       "      <th>Residue-name</th>\n",
       "      <th>Chain ID</th>\n",
       "      <th>?</th>\n",
       "      <th>x</th>\n",
       "      <th>y</th>\n",
       "      <th>z</th>\n",
       "      <th>occupancy</th>\n",
       "      <th>tempFactor</th>\n",
       "      <th>Element symbol</th>\n",
       "    </tr>\n",
       "  </thead>\n",
       "  <tbody>\n",
       "    <tr>\n",
       "      <th>0</th>\n",
       "      <td>ATOM</td>\n",
       "      <td>1</td>\n",
       "      <td>N</td>\n",
       "      <td>THR</td>\n",
       "      <td>A</td>\n",
       "      <td>1</td>\n",
       "      <td>47.785</td>\n",
       "      <td>34.623</td>\n",
       "      <td>30.495</td>\n",
       "      <td>1.00</td>\n",
       "      <td>78.19</td>\n",
       "      <td>N</td>\n",
       "    </tr>\n",
       "    <tr>\n",
       "      <th>1</th>\n",
       "      <td>ATOM</td>\n",
       "      <td>2</td>\n",
       "      <td>CA</td>\n",
       "      <td>THR</td>\n",
       "      <td>A</td>\n",
       "      <td>1</td>\n",
       "      <td>48.405</td>\n",
       "      <td>34.483</td>\n",
       "      <td>29.188</td>\n",
       "      <td>1.00</td>\n",
       "      <td>66.23</td>\n",
       "      <td>C</td>\n",
       "    </tr>\n",
       "    <tr>\n",
       "      <th>2</th>\n",
       "      <td>ATOM</td>\n",
       "      <td>3</td>\n",
       "      <td>C</td>\n",
       "      <td>THR</td>\n",
       "      <td>A</td>\n",
       "      <td>1</td>\n",
       "      <td>48.901</td>\n",
       "      <td>35.826</td>\n",
       "      <td>28.669</td>\n",
       "      <td>1.00</td>\n",
       "      <td>63.58</td>\n",
       "      <td>C</td>\n",
       "    </tr>\n",
       "    <tr>\n",
       "      <th>3</th>\n",
       "      <td>ATOM</td>\n",
       "      <td>4</td>\n",
       "      <td>O</td>\n",
       "      <td>THR</td>\n",
       "      <td>A</td>\n",
       "      <td>1</td>\n",
       "      <td>48.690</td>\n",
       "      <td>36.867</td>\n",
       "      <td>29.294</td>\n",
       "      <td>1.00</td>\n",
       "      <td>56.16</td>\n",
       "      <td>O</td>\n",
       "    </tr>\n",
       "    <tr>\n",
       "      <th>4</th>\n",
       "      <td>ATOM</td>\n",
       "      <td>5</td>\n",
       "      <td>CB</td>\n",
       "      <td>THR</td>\n",
       "      <td>A</td>\n",
       "      <td>1</td>\n",
       "      <td>47.421</td>\n",
       "      <td>33.900</td>\n",
       "      <td>28.149</td>\n",
       "      <td>1.00</td>\n",
       "      <td>66.37</td>\n",
       "      <td>C</td>\n",
       "    </tr>\n",
       "  </tbody>\n",
       "</table>\n",
       "</div>"
      ],
      "text/plain": [
       "   Type ID Atom Type Residue-name Chain ID  ?       x       y       z  \\\n",
       "0  ATOM  1         N          THR        A  1  47.785  34.623  30.495   \n",
       "1  ATOM  2        CA          THR        A  1  48.405  34.483  29.188   \n",
       "2  ATOM  3         C          THR        A  1  48.901  35.826  28.669   \n",
       "3  ATOM  4         O          THR        A  1  48.690  36.867  29.294   \n",
       "4  ATOM  5        CB          THR        A  1  47.421  33.900  28.149   \n",
       "\n",
       "  occupancy tempFactor Element symbol  \n",
       "0      1.00      78.19              N  \n",
       "1      1.00      66.23              C  \n",
       "2      1.00      63.58              C  \n",
       "3      1.00      56.16              O  \n",
       "4      1.00      66.37              C  "
      ]
     },
     "execution_count": 62,
     "metadata": {},
     "output_type": "execute_result"
    }
   ],
   "source": [
    "df.columns = ['Type', 'ID', 'Atom Type', 'Residue-name', 'Chain ID', '?', 'x', 'y',\n",
    "       'z', 'occupancy', 'tempFactor', 'Element symbol']\n",
    "df.head()"
   ]
  },
  {
   "cell_type": "markdown",
   "metadata": {},
   "source": [
    "# renaming the index\n",
    "Notice how the index (row names) of ```df``` has repeated the values ```0:1139```:\n",
    "```\n",
    "Int64Index([   0,    1,    2,    3,    4,    5,    6,    7,    8,    9,\n",
    "            ...\n",
    "            1130, 1131, 1132, 1133, 1134, 1135, 1136, 1137, 1138, 1139],\n",
    "           dtype='int64', length=8482)\n",
    "```\n",
    "Like the columns, we can reassign the index values with a list if we want. We can also assign the index a ```pandas.Series``` object (a single column) provided the lengths match.\n",
    "\n",
    "# exercise\n",
    "The ```ID``` column contains the unique atom ID's. **Make that the index!**"
   ]
  },
  {
   "cell_type": "code",
   "execution_count": null,
   "metadata": {},
   "outputs": [],
   "source": []
  },
  {
   "cell_type": "markdown",
   "metadata": {},
   "source": [
    "### dtypes really fast\n",
    "Quick one; our data is all strings, and we want the xyz coordinates to be ```float```. Let's check ```dtypes``` for the whole of ```df```:\n",
    "\n",
    "```python\n",
    ">>> df.dtypes\n",
    ">>> Type              object\n",
    "ID                object\n",
    "Atom Type         object\n",
    "Residue-name      object\n",
    "Chain ID          object\n",
    "?                 object\n",
    "x                 object\n",
    "y                 object\n",
    "z                 object\n",
    "b-factor          object\n",
    "??                object\n",
    "Element symbol    object\n",
    "dtype: object\n",
    "````\n",
    "\n",
    "The ```object``` ```dtype``` applies to ```string``` and mixed ```dtypes```. Let's turn the coordinates into ```float```:"
   ]
  },
  {
   "cell_type": "code",
   "execution_count": 63,
   "metadata": {},
   "outputs": [],
   "source": [
    "for i in 'x','y','z':\n",
    "    df[i] = df[i].astype(float)"
   ]
  },
  {
   "cell_type": "markdown",
   "metadata": {},
   "source": [
    "# ```numpy```\n",
    "So far in python club I haven't mentioned ```numpy``` - [**numerical python**](https://en.wikipedia.org/wiki/NumPy) - a ubiquitous package that handles numbers in matrices and (multi-dimensional) arrays. Under the hood, 🐼```pandas``` 🐼 uses numpy, so many operations should be familiar 🤞🤞\n",
    "\n",
    "We'll go into more detail on ```numpy``` and its capabilities in the future, but for now we'll just extract our coordinates as a ```numpy array```"
   ]
  },
  {
   "cell_type": "code",
   "execution_count": 64,
   "metadata": {},
   "outputs": [
    {
     "data": {
      "text/plain": [
       "array([[ 47.785,  34.623,  30.495],\n",
       "       [ 48.405,  34.483,  29.188],\n",
       "       [ 48.901,  35.826,  28.669],\n",
       "       ...,\n",
       "       [102.725,  73.727,   1.   ],\n",
       "       [108.334,  58.964,   1.   ],\n",
       "       [ 91.502,  64.596,   1.   ]])"
      ]
     },
     "execution_count": 64,
     "metadata": {},
     "output_type": "execute_result"
    }
   ],
   "source": [
    "import numpy as np # we'll need it later\n",
    "\n",
    "coords = df[['x','y','z']].values # the 'values' attribute is the underlying numpy array\n",
    "coords"
   ]
  },
  {
   "cell_type": "code",
   "execution_count": 65,
   "metadata": {},
   "outputs": [
    {
     "data": {
      "text/plain": [
       "array([47.785, 34.623, 30.495])"
      ]
     },
     "execution_count": 65,
     "metadata": {},
     "output_type": "execute_result"
    }
   ],
   "source": [
    "# indexing/slicing - like lists [<rows>,<cols>]\n",
    "# works in n-dimensions\n",
    "coords[0,:] # first row"
   ]
  },
  {
   "cell_type": "markdown",
   "metadata": {},
   "source": [
    "# 📏 - distance in 3d space 📏\n",
    "\n",
    "To calculate distance between atoms, say with coorinates: $(x_1,y_1,z_1)$ and $(x_2, y_2, z_2)$ we'll use [Euclidean distance](https://en.wikipedia.org/wiki/Euclidean_distance):\n",
    "\n",
    "$$\\sqrt{(x_1 - x_2)^2 + (y_1 - y_2)^2 + (z_1 - z_2)^2}$$\n",
    "\n",
    "# exercise\n",
    "Write a function  to calculate the Euclidean distance between two atoms - ```atom_1``` & ```atom_2``` based on their coordinates"
   ]
  },
  {
   "cell_type": "code",
   "execution_count": 66,
   "metadata": {},
   "outputs": [
    {
     "name": "stdout",
     "output_type": "stream",
     "text": [
      "you could use slicing to get the x,y & z from the atom coordinates??\n"
     ]
    },
    {
     "data": {
      "text/plain": [
       "'?'"
      ]
     },
     "execution_count": 66,
     "metadata": {},
     "output_type": "execute_result"
    }
   ],
   "source": [
    "from numpy import sqrt # squareroot fn\n",
    "\n",
    "atom_1 = coords[0,:]\n",
    "atom_2 = coords[1,:]\n",
    "\n",
    "def distance_between_atoms(a,b):\n",
    "    print('you could use slicing to get the x,y & z from the atom coordinates??')\n",
    "    distance = '?'\n",
    "    return distance\n",
    "\n",
    "distance_between_atoms(atom_1, atom_2)"
   ]
  },
  {
   "cell_type": "code",
   "execution_count": 67,
   "metadata": {},
   "outputs": [
    {
     "data": {
      "text/plain": [
       "1.4533578361848851"
      ]
     },
     "execution_count": 67,
     "metadata": {},
     "output_type": "execute_result"
    }
   ],
   "source": [
    "# the easy way\n",
    "# https://numpy.org/doc/stable/reference/generated/numpy.linalg.norm.html\n",
    "np.linalg.norm(atom_1 - atom_2)"
   ]
  },
  {
   "cell_type": "markdown",
   "metadata": {},
   "source": [
    "# Part 4 - ```scipy```, spatial algorithms and protein structure\n",
    "\n",
    "We've been looking at the 3D coordinates of atoms in a protein structure file and at some ways to measure distance between two atoms. Today we'll look at:\n",
    "* The compexity of scaling these calculations to many atoms\n",
    "* Introduce scipy (& how to install)\n",
    "* Introduce ```KD-trees``` - an algorithm included in ```scipy``` that can speed up some distance calculations\n",
    "* Find all covalent and non-covalent bonds in our protein"
   ]
  },
  {
   "cell_type": "markdown",
   "metadata": {},
   "source": [
    "# 📏 Lots of Distance measurements 📏📏📏\n",
    "Now that we can measure distance between atoms, we'll look at the distances between every atom. Let's start with writing a simple function that loops through a set of atom coordinates, and for each atom finds the distance to every other atom.\n",
    "\n",
    "#### Complexity\n",
    "The number of calculations we have to do is $n_{atoms} ^2$, this isn't much of a problem for a small number of atoms, but very quickly becomes a problem when looking at the whole protein.\n",
    "\n",
    "For now we'll just work on the atoms that are part of the heme group (86 atoms).  "
   ]
  },
  {
   "cell_type": "code",
   "execution_count": 68,
   "metadata": {
    "scrolled": true
   },
   "outputs": [
    {
     "data": {
      "text/plain": [
       "(86, 3)"
      ]
     },
     "execution_count": 68,
     "metadata": {},
     "output_type": "execute_result"
    }
   ],
   "source": [
    "heme_coords = df.loc[df['Residue-name']=='HEM', ['x','y','z']].values\n",
    "heme_coords.shape"
   ]
  },
  {
   "cell_type": "markdown",
   "metadata": {},
   "source": [
    "# exercise 4.1 - pairwise euclidean distance function\n",
    "\n",
    "* Write a function that for each atomic coordinate in a $n \\times 3 $ numpy array (e.g. ```heme_coords```): find the distance to every other atom. (you'll need to use nested ```for``` loops.\n",
    "\n",
    "* Test it on ```heme_coords``` - what are the distances between atoms?"
   ]
  },
  {
   "cell_type": "code",
   "execution_count": null,
   "metadata": {},
   "outputs": [],
   "source": []
  },
  {
   "cell_type": "markdown",
   "metadata": {},
   "source": [
    "# computational complexity\n",
    "\n",
    "Below I've got a short experiment that shows how the time taken to compute the distance scales up: the number of the interpreter does is the square of the number of atoms. This is barely noticable at small sample sizes, but at the scale of >8,000 atoms it quickly becomes slow:"
   ]
  },
  {
   "cell_type": "code",
   "execution_count": 69,
   "metadata": {},
   "outputs": [],
   "source": [
    "from backtobasics import pairwise_euc_distance_1line, pairwise_euc_distance # answers"
   ]
  },
  {
   "cell_type": "code",
   "execution_count": 70,
   "metadata": {},
   "outputs": [
    {
     "data": {
      "text/plain": [
       "\"\\nsample_size = np.linspace(0,3000, 10) # evenly spaces numbers\\nresults = []\\nfor i in tqdm(sample_size): # for progress bar - wrap tqdm() around the iterable\\n    t1 = time.time()\\n    distances  = pairwise_euc_distance_1line(df.sample(int(i)).loc[:,['x','y','z']].astype(float).values)\\n    t2 = time.time()\\n    results.append(t2-t1)\\n    measuremments\\nplt.plot(sample_size, results)\\nplt.xlabel('number of atoms')\\nplt.ylabel('time to calculate (s)')\\nplt.show()\""
      ]
     },
     "execution_count": 70,
     "metadata": {},
     "output_type": "execute_result"
    }
   ],
   "source": [
    "import time\n",
    "import matplotlib.pyplot as plt\n",
    "from tqdm import tqdm # progress bar\n",
    "\n",
    "'''\n",
    "sample_size = np.linspace(0,3000, 10) # evenly spaces numbers\n",
    "results = []\n",
    "for i in tqdm(sample_size): # for progress bar - wrap tqdm() around the iterable\n",
    "    t1 = time.time()\n",
    "    distances  = pairwise_euc_distance_1line(df.sample(int(i)).loc[:,['x','y','z']].astype(float).values)\n",
    "    t2 = time.time()\n",
    "    results.append(t2-t1)\n",
    "    measuremments\n",
    "plt.plot(sample_size, results)\n",
    "plt.xlabel('number of atoms')\n",
    "plt.ylabel('time to calculate (s)')\n",
    "plt.show()'''"
   ]
  },
  {
   "cell_type": "markdown",
   "metadata": {},
   "source": [
    "# ```scipy``` \n",
    "\n",
    "[**scipy**](https://en.wikipedia.org/wiki/SciPy) is a scientific computing library with features thatinclude, but are not limited to:\n",
    "* signal processing\n",
    "* optimisation\n",
    "* integration\n",
    "* linear algebra\n",
    "* **spatial algorithms**\n",
    "\n",
    "We've seen ```scipy``` before in our [curve fitting](https://github.com/UoMMIB/Python-Club/blob/master/Tutorials/Curve-Fitting.ipynb) tutorial, today we will focus on one of the **spatial algorithms** on offer - [**k-d trees**](https://en.wikipedia.org/wiki/K-d_tree).\n",
    "\n",
    "# Installation\n",
    "\n",
    "```scipy``` is included by default in ```colab``` notebooks and in many ```anaconda``` installations of python, however this is a good chance to touch on installation of new packages. \n",
    "\n",
    "## package managers - ```pip``` and ```conda```\n",
    "\n",
    "### ```pip```\n",
    "[pip](https://en.wikipedia.org/wiki/Pip_(package_manager)) is the standard python [package manager](https://en.wikipedia.org/wiki/Package_manager)  - a toolbox that simplifes the installation process and more. Today we'll look at a simple, but common use case - installing a package from the internet.\n",
    "\n",
    "By default, ```pip``` uses [PyPI](https://en.wikipedia.org/wiki/Python_Package_Index) as its software repositry - where packages to be installed are fetched from. The [PyPI website](https://pypi.org/) is searchable, and will provide users with descriptions, links to tutorials, documentation, and most importantly, the install command:\n",
    "\n",
    "```bash\n",
    "pip install scipy\n",
    "```\n",
    "\n",
    "Running a command like that either in the command line/terminal or by using the ```bash``` commands in a notebook will download and install that package. Similarly, packages can be uninstalled like this:\n",
    "\n",
    "```bash\n",
    "pip uninstall scipy\n",
    "```\n",
    "\n",
    "PyPI can be queried from your notebook/terminal  using:\n",
    "\n",
    "```bash\n",
    "pip search <search terms>\n",
    "```\n",
    "\n",
    "### ```conda```\n",
    "[**conda**](https://en.wikipedia.org/wiki/Conda_(package_manager)) is another popular package manager inclunded in [**Anaconda**](https://en.wikipedia.org/wiki/Anaconda_(Python_distribution)) python distributions. Unike pip, ```conda``` can install [binary files](https://en.wikipedia.org/wiki/Binary_file) which means that packages that rely on non-python code (e.g. ```rdkit```) can be easily installed. ```conda``` is also more effective than ```pip``` at managing conflicts/incompatibilities between packages, which is a huge benefit. \n",
    "\n",
    "```conda``` installation commands are similar to ```pip``` - see the [scipy page on anaconda.org](https://anaconda.org/anaconda/scipy) - you'll see a list of compatible operating systems and the install command:\n",
    "\n",
    "```bash\n",
    "conda install -c anaconda scipy\n",
    "```\n",
    "\n",
    "Pasting the command into your terminal will be enough to install the package.  The ```-c``` option specifies the \"channel\" (repository) to download from, in this case, the ```anaconda``` channel. Then we have the package name, ```scipy```. \n",
    "\n",
    "\n",
    "```conda``` also has plenty of tools for managing **environments** - isolated areas to experiment with installations without causing conflicts in your day to day package use. Here's a [**cheat sheet**](https://docs.conda.io/projects/conda/en/latest/user-guide/tasks/manage-environments.html).\n",
    "\n",
    "Colab doesn't use ```conda``` so we'll focus on ```pip``` today\n",
    "\n",
    "# exercise 4.2 \n",
    "###  ```pip```\n",
    "* Search PyPI for ```scipy``` - is it already installed? - install if not\n",
    "* Search PyPI for [scikit-bio](http://scikit-bio.org/) - a set of bioinformatics tools\n",
    "* Install ```scikit-bio```"
   ]
  },
  {
   "cell_type": "code",
   "execution_count": null,
   "metadata": {},
   "outputs": [],
   "source": []
  },
  {
   "cell_type": "markdown",
   "metadata": {},
   "source": [
    "# ```scipy``` spatial: k-d trees\n",
    "\n",
    "[**scipy**](https://en.wikipedia.org/wiki/SciPy) is an important python package for scientific computing. ```scipy``` is rich with algorithms that make data analysis far easier. We'll revisit ```scipy``` more in the future, today we'll focus on the ```scipy``` module which contains spatial algorithms: ```scipy.spatial```.\n",
    "\n",
    "In particular, we're interested in the [k-d tree](https://en.wikipedia.org/wiki/K-d_tree) algorithm, which we'll use for a nearest neighbor search to find covalently and non-covalently bonded atoms - roughly 1-2 and 3-5 Angstroms (distance) respectively.\n",
    "\n",
    "```k-d trees``` are a way of structuring data as a tree - the 3D space is divided into halves, and halves again for several interations. That leaves us with small partitions of our 3D space that we can then do distance searches within. This saves us from measuring distances between two far away points, ideal for a nearest neighbour search.\n",
    "\n",
    "![](https://upload.wikimedia.org/wikipedia/commons/b/b6/3dtree.png)\n",
    "\n",
    "In this section, we'll use the ```scipy``` [k-d tree](https://docs.scipy.org/doc/scipy/reference/generated/scipy.spatial.KDTree.html#scipy.spatial.KDTree) to find the nearest neighbors of all atoms in our protein structure."
   ]
  },
  {
   "cell_type": "code",
   "execution_count": 71,
   "metadata": {},
   "outputs": [],
   "source": [
    "from scipy.spatial import  KDTree\n",
    "\n",
    "kd = KDTree(coords) # init object"
   ]
  },
  {
   "cell_type": "markdown",
   "metadata": {},
   "source": [
    "### ```attributes``` and ```methods``` of the ```KDTree``` object\n",
    "#### ```help```\n",
    "\n",
    "```python\n",
    "# run\n",
    "help(kd) # already initialised object\n",
    "# or \n",
    "help(KDTree) # module\n",
    "# or\n",
    "?kd\n",
    "# to find a docstring for the object\n",
    "```\n",
    "\n",
    "# exercise 4.3 - get ```help```\n",
    "* What command do I use to get a sparse distance matrix between points?\n",
    "* How would we use that command?\n",
    "* Find the sparse distance matrix between atoms in ```coords```"
   ]
  },
  {
   "cell_type": "code",
   "execution_count": null,
   "metadata": {
    "scrolled": false
   },
   "outputs": [],
   "source": []
  },
  {
   "cell_type": "code",
   "execution_count": 72,
   "metadata": {},
   "outputs": [],
   "source": [
    "dist = kd.sparse_distance_matrix(kd, max_distance=10)"
   ]
  },
  {
   "cell_type": "markdown",
   "metadata": {},
   "source": [
    "## Part 5: Sparse matices\n",
    "\n",
    "Sparse matrices are mostly zeros. Instead of explicitly storing each zero in memory, sparse matirces store the postion of each non-zero number. This is efficient for large matrices like ours, where zeros are the overwhelming majority:\n",
    "\n",
    "```python\n",
    ">>> dist.count_nonzero()\n",
    ">>> 1209472\n",
    ">>> dist.shape\n",
    ">>> (8482, 8482)\n",
    ">>> dist.count_nonzero() / (dist.shape[0] * dist.shape[1]) # fraction of non-zero values\n",
    ">>> 0.016811221966586274\n",
    "\n",
    "```\n",
    "\n",
    "We can access the coordinates and values of non-zero numbers like this:\n",
    "\n",
    "```python\n",
    ">>> dist.nonzero() # coordinates\n",
    ">>> (array([7720, 7720, 7720, ..., 1825, 1825, 1825], dtype=int32),\n",
    " array([7735, 7819, 7937, ..., 1840, 1841, 1855], dtype=int32))\n",
    ">>> dist.values() # non-zero values \n",
    ">>> dict_values([2.732846135441949, 3.2434859333747665,  ... 9.067853660045472])\n",
    "```\n",
    "\n",
    "There are a few formats of sparse matrices. ```dist``` is a **dictionary of keys** matrix, where the key to each non-zero value is it's index:\n",
    "\n",
    "```python\n",
    ">>> dist[(7720, 7735)]\n",
    ">>> 2.732846135441949\n",
    "```\n",
    "\n",
    "Indexing in sparse matrices is the same as ```numpy``` matrices:\n",
    "\n",
    "```python\n",
    ">>> dist[0:5,:5]## Part 5: Sparse matices\n",
    "\n",
    "Sparse matrices are mostly zeros. Instead of explicitly storing each zero in memory, sparse matirces store the postion of each non-zero number. This is efficient for large matrices like ours, where zeros are the overwhelming majority:\n",
    "\n",
    "```python\n",
    ">>> dist.count_nonzero()\n",
    ">>> 1209472\n",
    ">>> dist.shape\n",
    ">>> (8482, 8482)\n",
    ">>> dist.count_nonzero() / (dist.shape[0] * dist.shape[1]) # fraction of non-zero values\n",
    ">>> 0.016811221966586274\n",
    "\n",
    "```\n",
    "\n",
    "We can access the coordinates and values of non-zero numbers like this:\n",
    "\n",
    "```python\n",
    ">>> dist.nonzero() # coordinates\n",
    ">>> (array([7720, 7720, 7720, ..., 1825, 1825, 1825], dtype=int32),\n",
    " array([7735, 7819, 7937, ..., 1840, 1841, 1855], dtype=int32))\n",
    ">>> dist.values() # non-zero values \n",
    ">>> dict_values([2.732846135441949, 3.2434859333747665,  ... 9.067853660045472])\n",
    "```\n",
    "\n",
    "There are a few formats of sparse matrices. ```dist``` is a **dictionary of keys** matrix, where the key to each non-zero value is it's index:\n",
    "\n",
    "```python\n",
    ">>> dist[(7720, 7735)]\n",
    ">>> 2.732846135441949\n",
    "```\n",
    "\n",
    "Indexing in sparse matrices is the same as ```numpy``` matrices:\n",
    "\n",
    "```python\n",
    ">>> dist[0:5,:5]\n",
    ">>> <5x5 sparse matrix of type '<class 'numpy.float64'>'\n",
    "\twith 20 stored elements in Dictionary Of Keys format>\n",
    "```\n",
    "Conversion to a normal, **dense** matrix is simple:\n",
    "\n",
    "```python\n",
    ">>> dist[0:5,:5].todense() # or .toarray()\n",
    ">>> matrix([[0.        , 1.45335784, 2.45498289, 2.70128895, 2.48172138],\n",
    "        [1.45335784, 0.        , 1.52283486, 2.40331375, 1.54520743],\n",
    "        [2.45498289, 1.52283486, 0.        , 1.23240699, 2.48400403],\n",
    "        [2.70128895, 2.40331375, 1.23240699, 0.        , 3.42410207],\n",
    "        [2.48172138, 1.54520743, 2.48400403, 3.42410207, 0.        ]])\n",
    "```\n",
    "\n",
    "## 📝 exercise 5.1: 📝\n",
    "Below I've plotted a histogram of the values in ```dist``` by converting it to a dense array and flattening it (so that the histogram treats the values as coming from a single group). Zeros are the overwhelming majority.\n",
    "\n",
    "**plot a histogram of the non-zero values** \n",
    "\n",
    "**add labels if you know how**\n",
    ">>> <5x5 sparse matrix of type '<class 'numpy.float64'>'\n",
    "\twith 20 stored elements in Dictionary Of Keys format>\n",
    "```\n",
    "Conversion to a normal, **dense** matrix is simple:\n",
    "\n",
    "```python\n",
    ">>> dist[0:5,:5].todense() # or .toarray()\n",
    ">>> matrix([[0.        , 1.45335784, 2.45498289, 2.70128895, 2.48172138],\n",
    "        [1.45335784, 0.        , 1.52283486, 2.40331375, 1.54520743],\n",
    "        [2.45498289, 1.52283486, 0.        , 1.23240699, 2.48400403],\n",
    "        [2.70128895, 2.40331375, 1.23240699, 0.        , 3.42410207],\n",
    "        [2.48172138, 1.54520743, 2.48400403, 3.42410207, 0.        ]])\n",
    "```\n",
    "\n",
    "## 📝 exercise 5.1: 📝\n",
    "Below I've plotted a histogram of the values in ```dist``` by converting it to a dense array and flattening it (so that the histogram treats the values as coming from a single group). Zeros are the overwhelming majority.\n",
    "\n",
    "**plot a histogram of the non-zero values** \n",
    "\n",
    "**add labels if you know how**"
   ]
  },
  {
   "cell_type": "code",
   "execution_count": 73,
   "metadata": {},
   "outputs": [
    {
     "data": {
      "image/png": "[encoded data removed]",
      "text/plain": [
       "<Figure size 432x288 with 1 Axes>"
      ]
     },
     "metadata": {
      "needs_background": "light"
     },
     "output_type": "display_data"
    }
   ],
   "source": [
    "import matplotlib.pyplot as plt\n",
    "\n",
    "\n",
    "plt.hist(dist.toarray().flatten(), bins = 50)\n",
    "plt.ylabel('count')\n",
    "plt.show()"
   ]
  },
  {
   "cell_type": "code",
   "execution_count": null,
   "metadata": {},
   "outputs": [],
   "source": []
  },
  {
   "cell_type": "code",
   "execution_count": 74,
   "metadata": {},
   "outputs": [
    {
     "data": {
      "image/png": "[encoded data removed]",
      "text/plain": [
       "<Figure size 432x288 with 1 Axes>"
      ]
     },
     "metadata": {
      "needs_background": "light"
     },
     "output_type": "display_data"
    }
   ],
   "source": [
    "plt.hist(dist.values(), bins = 50)\n",
    "plt.ylabel('count')\n",
    "plt.show()"
   ]
  },
  {
   "cell_type": "markdown",
   "metadata": {},
   "source": [
    "# Bond sizes\n",
    "\n",
    "The bonds we're interested in are covalent (1-2 A) and non-covalent ( 2-3 A). We'll start with the short bonds.\n",
    "\n",
    "```python\n",
    ">>> (dist[:5,:5] < 2).toarray()\n",
    ">>> array([[ True,  True, False, False, False],\n",
    "       [ True,  True,  True, False,  True],\n",
    "       [False,  True,  True,  True, False],\n",
    "       [False, False,  True,  True, False],\n",
    "       [False,  True, False, False,  True]])\n",
    "```\n",
    "Notice that the diagonal (all zeros) has returned ```True```. We can also [filter by multiplication](https://stackoverflow.com/questions/22074163/filter-values-from-a-scipy-sparse-matrix), where the ```dist[:5,:5] < 2 ``` statement returns a boolean matrix that is treated as ```True:1``` & ```False:0```:\n",
    "\n",
    "```python\n",
    ">>> dist[:5,:5].multiply(dist[:5,:5] < 2 ).toarray()\n",
    ">>> array([[0.        , 1.45335784, 0.        , 0.        , 0.        ],\n",
    "       [1.45335784, 0.        , 1.52283486, 0.        , 1.54520743],\n",
    "       [0.        , 1.52283486, 0.        , 1.23240699, 0.        ],\n",
    "       [0.        , 0.        , 1.23240699, 0.        , 0.        ],\n",
    "       [0.        , 1.54520743, 0.        , 0.        , 0.        ]])\n",
    "\n",
    "```\n",
    "\n",
    "Stacked ```multiply``` statements are a hacky, but effective way to set custom levels of filtering:\n",
    "```python\n",
    ">>> dist[:5,:5].multiply(dist[:5,:5] < 2 ).multiply(dist[:5,:5] > 1).toarray()\n",
    ">>> array([[0.        , 1.45335784, 0.        , 0.        , 0.        ],\n",
    "       [1.45335784, 0.        , 1.52283486, 0.        , 1.54520743],\n",
    "       [0.        , 1.52283486, 0.        , 1.23240699, 0.        ],\n",
    "       [0.        , 0.        , 1.23240699, 0.        , 0.        ],\n",
    "       [0.        , 1.54520743, 0.        , 0.        , 0.        ]])\n",
    "\n",
    "```\n",
    "\n",
    "# 📝 exercise 5.2 📝\n",
    "\n",
    "Use ```dist.multiply(<filtering criteria>)``` to find the following objects from ```dist```:\n",
    "* All bonds betwen 1 & 2 A\n",
    "* All bonds between 2 & 3 A"
   ]
  },
  {
   "cell_type": "code",
   "execution_count": null,
   "metadata": {},
   "outputs": [],
   "source": []
  },
  {
   "cell_type": "markdown",
   "metadata": {},
   "source": [
    "# Graphs?\n",
    "[Graph Theory](https://en.wikipedia.org/wiki/Graph_theory) is a branch of maths that appears often in science. A **Graph** is a collection of **nodes** and conneccting **edges**. Examples of graphs include:\n",
    "\n",
    "| Object| Nodes| Edges|\n",
    "|---|---|---|\n",
    "|Chemical|atoms| bonds|\n",
    "|Metrolink|Stations|Tram lines|\n",
    "|wikipedia|pages|links|\n",
    "\n",
    "Graphs are useful data structures for many applications...\n",
    "\n",
    "```netwokx``` is a python package for creating and analysing graphs. ```networkx``` provides a few ways to construct graphs, including ```from_scipy_sparse_matrix```. "
   ]
  },
  {
   "cell_type": "code",
   "execution_count": 75,
   "metadata": {},
   "outputs": [
    {
     "name": "stderr",
     "output_type": "stream",
     "text": [
      "/home/james/anaconda3/lib/python3.7/site-packages/scipy/sparse/compressed.py:287: SparseEfficiencyWarning: Comparing a sparse matrix with a scalar greater than zero using < is inefficient, try using >= instead.\n",
      "  warn(bad_scalar_msg, SparseEfficiencyWarning)\n"
     ]
    },
    {
     "data": {
      "image/png": "[encoded data removed]",
      "text/plain": [
       "<Figure size 432x288 with 1 Axes>"
      ]
     },
     "metadata": {},
     "output_type": "display_data"
    }
   ],
   "source": [
    "import networkx as nx\n",
    "\n",
    "short_bonds = dist.multiply(dist<2).multiply(dist> 1)\n",
    "G = nx.convert_matrix.from_scipy_sparse_matrix(short_bonds[:50,:50])\n",
    "nx.draw(G)"
   ]
  },
  {
   "cell_type": "markdown",
   "metadata": {},
   "source": [
    "# 📝 exercise 5.3 📝\n",
    "Nodes and edges can store additional information, like atom identity and bond order (e.g. single, double etc). We know that the order of atom:atom distances in ```dist``` is the same as that in ```df```.\n",
    "\n",
    "**extract the ```element symbol``` for each atom from ```df```**\n",
    "\n",
    "❗ check ```df.tail()``` - where are the elements? ❗"
   ]
  },
  {
   "cell_type": "code",
   "execution_count": null,
   "metadata": {},
   "outputs": [],
   "source": []
  },
  {
   "cell_type": "code",
   "execution_count": 76,
   "metadata": {
    "collapsed": true
   },
   "outputs": [
    {
     "ename": "KeyError",
     "evalue": "'??'",
     "output_type": "error",
     "traceback": [
      "\u001b[0;31m---------------------------------------------------------------------------\u001b[0m",
      "\u001b[0;31mKeyError\u001b[0m                                  Traceback (most recent call last)",
      "\u001b[0;32m~/anaconda3/lib/python3.7/site-packages/pandas/core/indexes/base.py\u001b[0m in \u001b[0;36mget_loc\u001b[0;34m(self, key, method, tolerance)\u001b[0m\n\u001b[1;32m   2645\u001b[0m             \u001b[0;32mtry\u001b[0m\u001b[0;34m:\u001b[0m\u001b[0;34m\u001b[0m\u001b[0;34m\u001b[0m\u001b[0m\n\u001b[0;32m-> 2646\u001b[0;31m                 \u001b[0;32mreturn\u001b[0m \u001b[0mself\u001b[0m\u001b[0;34m.\u001b[0m\u001b[0m_engine\u001b[0m\u001b[0;34m.\u001b[0m\u001b[0mget_loc\u001b[0m\u001b[0;34m(\u001b[0m\u001b[0mkey\u001b[0m\u001b[0;34m)\u001b[0m\u001b[0;34m\u001b[0m\u001b[0;34m\u001b[0m\u001b[0m\n\u001b[0m\u001b[1;32m   2647\u001b[0m             \u001b[0;32mexcept\u001b[0m \u001b[0mKeyError\u001b[0m\u001b[0;34m:\u001b[0m\u001b[0;34m\u001b[0m\u001b[0;34m\u001b[0m\u001b[0m\n",
      "\u001b[0;32mpandas/_libs/index.pyx\u001b[0m in \u001b[0;36mpandas._libs.index.IndexEngine.get_loc\u001b[0;34m()\u001b[0m\n",
      "\u001b[0;32mpandas/_libs/index.pyx\u001b[0m in \u001b[0;36mpandas._libs.index.IndexEngine.get_loc\u001b[0;34m()\u001b[0m\n",
      "\u001b[0;32mpandas/_libs/hashtable_class_helper.pxi\u001b[0m in \u001b[0;36mpandas._libs.hashtable.PyObjectHashTable.get_item\u001b[0;34m()\u001b[0m\n",
      "\u001b[0;32mpandas/_libs/hashtable_class_helper.pxi\u001b[0m in \u001b[0;36mpandas._libs.hashtable.PyObjectHashTable.get_item\u001b[0;34m()\u001b[0m\n",
      "\u001b[0;31mKeyError\u001b[0m: '??'",
      "\nDuring handling of the above exception, another exception occurred:\n",
      "\u001b[0;31mKeyError\u001b[0m                                  Traceback (most recent call last)",
      "\u001b[0;32m<ipython-input-76-b84ecb090d2f>\u001b[0m in \u001b[0;36m<module>\u001b[0;34m\u001b[0m\n\u001b[1;32m      1\u001b[0m \u001b[0;32mfrom\u001b[0m \u001b[0mbacktobasics\u001b[0m \u001b[0;32mimport\u001b[0m \u001b[0mget_atom_identities\u001b[0m\u001b[0;34m\u001b[0m\u001b[0;34m\u001b[0m\u001b[0m\n\u001b[1;32m      2\u001b[0m \u001b[0;34m\u001b[0m\u001b[0m\n\u001b[0;32m----> 3\u001b[0;31m \u001b[0matom_identities\u001b[0m \u001b[0;34m=\u001b[0m \u001b[0mget_atom_identities\u001b[0m\u001b[0;34m(\u001b[0m\u001b[0mdf\u001b[0m\u001b[0;34m)\u001b[0m\u001b[0;34m\u001b[0m\u001b[0;34m\u001b[0m\u001b[0m\n\u001b[0m\u001b[1;32m      4\u001b[0m \u001b[0matom_identities\u001b[0m\u001b[0;34m.\u001b[0m\u001b[0mhead\u001b[0m\u001b[0;34m(\u001b[0m\u001b[0;34m)\u001b[0m\u001b[0;34m\u001b[0m\u001b[0;34m\u001b[0m\u001b[0m\n",
      "\u001b[0;32m~/Documents/MIBPythonClub/Tutorials/backtobasics.py\u001b[0m in \u001b[0;36mget_atom_identities\u001b[0;34m(df)\u001b[0m\n\u001b[1;32m     99\u001b[0m     \u001b[0melements\u001b[0m \u001b[0;34m=\u001b[0m \u001b[0mdf\u001b[0m\u001b[0;34m.\u001b[0m\u001b[0mloc\u001b[0m\u001b[0;34m[\u001b[0m\u001b[0mdf\u001b[0m\u001b[0;34m[\u001b[0m\u001b[0;34m'Type'\u001b[0m\u001b[0;34m]\u001b[0m \u001b[0;34m==\u001b[0m \u001b[0;34m'ATOM'\u001b[0m\u001b[0;34m,\u001b[0m \u001b[0;34m'Element symbol'\u001b[0m\u001b[0;34m]\u001b[0m\u001b[0;34m.\u001b[0m\u001b[0mdropna\u001b[0m\u001b[0;34m(\u001b[0m\u001b[0;34m)\u001b[0m \u001b[0;31m# 2 None values in there\u001b[0m\u001b[0;34m\u001b[0m\u001b[0;34m\u001b[0m\u001b[0m\n\u001b[1;32m    100\u001b[0m     \u001b[0mhem\u001b[0m \u001b[0;34m=\u001b[0m \u001b[0mdf\u001b[0m\u001b[0;34m.\u001b[0m\u001b[0mloc\u001b[0m\u001b[0;34m[\u001b[0m\u001b[0mdf\u001b[0m\u001b[0;34m[\u001b[0m\u001b[0;34m'Type'\u001b[0m\u001b[0;34m]\u001b[0m \u001b[0;34m==\u001b[0m \u001b[0;34m'HETATM'\u001b[0m\u001b[0;34m,\u001b[0m\u001b[0;34m'Element symbol'\u001b[0m\u001b[0;34m]\u001b[0m\u001b[0;34m.\u001b[0m\u001b[0mdropna\u001b[0m\u001b[0;34m(\u001b[0m\u001b[0;34m)\u001b[0m\u001b[0;34m\u001b[0m\u001b[0;34m\u001b[0m\u001b[0m\n\u001b[0;32m--> 101\u001b[0;31m     \u001b[0mmissing\u001b[0m \u001b[0;34m=\u001b[0m \u001b[0mdf\u001b[0m\u001b[0;34m.\u001b[0m\u001b[0mloc\u001b[0m\u001b[0;34m[\u001b[0m\u001b[0mdf\u001b[0m\u001b[0;34m[\u001b[0m\u001b[0;34m'Element symbol'\u001b[0m\u001b[0;34m]\u001b[0m\u001b[0;34m.\u001b[0m\u001b[0misna\u001b[0m\u001b[0;34m(\u001b[0m\u001b[0;34m)\u001b[0m\u001b[0;34m,\u001b[0m \u001b[0;34m'tempFactor'\u001b[0m\u001b[0;34m]\u001b[0m\u001b[0;34m\u001b[0m\u001b[0;34m\u001b[0m\u001b[0m\n\u001b[0m\u001b[1;32m    102\u001b[0m     \u001b[0matom_ids\u001b[0m \u001b[0;34m=\u001b[0m \u001b[0mpd\u001b[0m\u001b[0;34m.\u001b[0m\u001b[0mconcat\u001b[0m\u001b[0;34m(\u001b[0m\u001b[0;34m[\u001b[0m\u001b[0melements\u001b[0m\u001b[0;34m,\u001b[0m \u001b[0mmissing\u001b[0m\u001b[0;34m,\u001b[0m \u001b[0mhem\u001b[0m\u001b[0;34m]\u001b[0m\u001b[0;34m)\u001b[0m\u001b[0;34m\u001b[0m\u001b[0;34m\u001b[0m\u001b[0m\n\u001b[1;32m    103\u001b[0m     \u001b[0matom_ids\u001b[0m\u001b[0;34m.\u001b[0m\u001b[0mindex\u001b[0m \u001b[0;34m=\u001b[0m \u001b[0mdf\u001b[0m\u001b[0;34m[\u001b[0m\u001b[0;34m'ID'\u001b[0m\u001b[0;34m]\u001b[0m\u001b[0;34m.\u001b[0m\u001b[0mastype\u001b[0m\u001b[0;34m(\u001b[0m\u001b[0mint\u001b[0m\u001b[0;34m)\u001b[0m\u001b[0;34m\u001b[0m\u001b[0;34m\u001b[0m\u001b[0m\n",
      "\u001b[0;32m~/anaconda3/lib/python3.7/site-packages/pandas/core/indexing.py\u001b[0m in \u001b[0;36m__getitem__\u001b[0;34m(self, key)\u001b[0m\n\u001b[1;32m   1760\u001b[0m                 \u001b[0;32mexcept\u001b[0m \u001b[0;34m(\u001b[0m\u001b[0mKeyError\u001b[0m\u001b[0;34m,\u001b[0m \u001b[0mIndexError\u001b[0m\u001b[0;34m,\u001b[0m \u001b[0mAttributeError\u001b[0m\u001b[0;34m)\u001b[0m\u001b[0;34m:\u001b[0m\u001b[0;34m\u001b[0m\u001b[0;34m\u001b[0m\u001b[0m\n\u001b[1;32m   1761\u001b[0m                     \u001b[0;32mpass\u001b[0m\u001b[0;34m\u001b[0m\u001b[0;34m\u001b[0m\u001b[0m\n\u001b[0;32m-> 1762\u001b[0;31m             \u001b[0;32mreturn\u001b[0m \u001b[0mself\u001b[0m\u001b[0;34m.\u001b[0m\u001b[0m_getitem_tuple\u001b[0m\u001b[0;34m(\u001b[0m\u001b[0mkey\u001b[0m\u001b[0;34m)\u001b[0m\u001b[0;34m\u001b[0m\u001b[0;34m\u001b[0m\u001b[0m\n\u001b[0m\u001b[1;32m   1763\u001b[0m         \u001b[0;32melse\u001b[0m\u001b[0;34m:\u001b[0m\u001b[0;34m\u001b[0m\u001b[0;34m\u001b[0m\u001b[0m\n\u001b[1;32m   1764\u001b[0m             \u001b[0;31m# we by definition only have the 0th axis\u001b[0m\u001b[0;34m\u001b[0m\u001b[0;34m\u001b[0m\u001b[0;34m\u001b[0m\u001b[0m\n",
      "\u001b[0;32m~/anaconda3/lib/python3.7/site-packages/pandas/core/indexing.py\u001b[0m in \u001b[0;36m_getitem_tuple\u001b[0;34m(self, tup)\u001b[0m\n\u001b[1;32m   1270\u001b[0m     \u001b[0;32mdef\u001b[0m \u001b[0m_getitem_tuple\u001b[0m\u001b[0;34m(\u001b[0m\u001b[0mself\u001b[0m\u001b[0;34m,\u001b[0m \u001b[0mtup\u001b[0m\u001b[0;34m:\u001b[0m \u001b[0mTuple\u001b[0m\u001b[0;34m)\u001b[0m\u001b[0;34m:\u001b[0m\u001b[0;34m\u001b[0m\u001b[0;34m\u001b[0m\u001b[0m\n\u001b[1;32m   1271\u001b[0m         \u001b[0;32mtry\u001b[0m\u001b[0;34m:\u001b[0m\u001b[0;34m\u001b[0m\u001b[0;34m\u001b[0m\u001b[0m\n\u001b[0;32m-> 1272\u001b[0;31m             \u001b[0;32mreturn\u001b[0m \u001b[0mself\u001b[0m\u001b[0;34m.\u001b[0m\u001b[0m_getitem_lowerdim\u001b[0m\u001b[0;34m(\u001b[0m\u001b[0mtup\u001b[0m\u001b[0;34m)\u001b[0m\u001b[0;34m\u001b[0m\u001b[0;34m\u001b[0m\u001b[0m\n\u001b[0m\u001b[1;32m   1273\u001b[0m         \u001b[0;32mexcept\u001b[0m \u001b[0mIndexingError\u001b[0m\u001b[0;34m:\u001b[0m\u001b[0;34m\u001b[0m\u001b[0;34m\u001b[0m\u001b[0m\n\u001b[1;32m   1274\u001b[0m             \u001b[0;32mpass\u001b[0m\u001b[0;34m\u001b[0m\u001b[0;34m\u001b[0m\u001b[0m\n",
      "\u001b[0;32m~/anaconda3/lib/python3.7/site-packages/pandas/core/indexing.py\u001b[0m in \u001b[0;36m_getitem_lowerdim\u001b[0;34m(self, tup)\u001b[0m\n\u001b[1;32m   1387\u001b[0m         \u001b[0;32mfor\u001b[0m \u001b[0mi\u001b[0m\u001b[0;34m,\u001b[0m \u001b[0mkey\u001b[0m \u001b[0;32min\u001b[0m \u001b[0menumerate\u001b[0m\u001b[0;34m(\u001b[0m\u001b[0mtup\u001b[0m\u001b[0;34m)\u001b[0m\u001b[0;34m:\u001b[0m\u001b[0;34m\u001b[0m\u001b[0;34m\u001b[0m\u001b[0m\n\u001b[1;32m   1388\u001b[0m             \u001b[0;32mif\u001b[0m \u001b[0mis_label_like\u001b[0m\u001b[0;34m(\u001b[0m\u001b[0mkey\u001b[0m\u001b[0;34m)\u001b[0m \u001b[0;32mor\u001b[0m \u001b[0misinstance\u001b[0m\u001b[0;34m(\u001b[0m\u001b[0mkey\u001b[0m\u001b[0;34m,\u001b[0m \u001b[0mtuple\u001b[0m\u001b[0;34m)\u001b[0m\u001b[0;34m:\u001b[0m\u001b[0;34m\u001b[0m\u001b[0;34m\u001b[0m\u001b[0m\n\u001b[0;32m-> 1389\u001b[0;31m                 \u001b[0msection\u001b[0m \u001b[0;34m=\u001b[0m \u001b[0mself\u001b[0m\u001b[0;34m.\u001b[0m\u001b[0m_getitem_axis\u001b[0m\u001b[0;34m(\u001b[0m\u001b[0mkey\u001b[0m\u001b[0;34m,\u001b[0m \u001b[0maxis\u001b[0m\u001b[0;34m=\u001b[0m\u001b[0mi\u001b[0m\u001b[0;34m)\u001b[0m\u001b[0;34m\u001b[0m\u001b[0;34m\u001b[0m\u001b[0m\n\u001b[0m\u001b[1;32m   1390\u001b[0m \u001b[0;34m\u001b[0m\u001b[0m\n\u001b[1;32m   1391\u001b[0m                 \u001b[0;31m# we have yielded a scalar ?\u001b[0m\u001b[0;34m\u001b[0m\u001b[0;34m\u001b[0m\u001b[0;34m\u001b[0m\u001b[0m\n",
      "\u001b[0;32m~/anaconda3/lib/python3.7/site-packages/pandas/core/indexing.py\u001b[0m in \u001b[0;36m_getitem_axis\u001b[0;34m(self, key, axis)\u001b[0m\n\u001b[1;32m   1963\u001b[0m         \u001b[0;31m# fall thru to straight lookup\u001b[0m\u001b[0;34m\u001b[0m\u001b[0;34m\u001b[0m\u001b[0;34m\u001b[0m\u001b[0m\n\u001b[1;32m   1964\u001b[0m         \u001b[0mself\u001b[0m\u001b[0;34m.\u001b[0m\u001b[0m_validate_key\u001b[0m\u001b[0;34m(\u001b[0m\u001b[0mkey\u001b[0m\u001b[0;34m,\u001b[0m \u001b[0maxis\u001b[0m\u001b[0;34m)\u001b[0m\u001b[0;34m\u001b[0m\u001b[0;34m\u001b[0m\u001b[0m\n\u001b[0;32m-> 1965\u001b[0;31m         \u001b[0;32mreturn\u001b[0m \u001b[0mself\u001b[0m\u001b[0;34m.\u001b[0m\u001b[0m_get_label\u001b[0m\u001b[0;34m(\u001b[0m\u001b[0mkey\u001b[0m\u001b[0;34m,\u001b[0m \u001b[0maxis\u001b[0m\u001b[0;34m=\u001b[0m\u001b[0maxis\u001b[0m\u001b[0;34m)\u001b[0m\u001b[0;34m\u001b[0m\u001b[0;34m\u001b[0m\u001b[0m\n\u001b[0m\u001b[1;32m   1966\u001b[0m \u001b[0;34m\u001b[0m\u001b[0m\n\u001b[1;32m   1967\u001b[0m \u001b[0;34m\u001b[0m\u001b[0m\n",
      "\u001b[0;32m~/anaconda3/lib/python3.7/site-packages/pandas/core/indexing.py\u001b[0m in \u001b[0;36m_get_label\u001b[0;34m(self, label, axis)\u001b[0m\n\u001b[1;32m    623\u001b[0m             \u001b[0;32mraise\u001b[0m \u001b[0mIndexingError\u001b[0m\u001b[0;34m(\u001b[0m\u001b[0;34m\"no slices here, handle elsewhere\"\u001b[0m\u001b[0;34m)\u001b[0m\u001b[0;34m\u001b[0m\u001b[0;34m\u001b[0m\u001b[0m\n\u001b[1;32m    624\u001b[0m \u001b[0;34m\u001b[0m\u001b[0m\n\u001b[0;32m--> 625\u001b[0;31m         \u001b[0;32mreturn\u001b[0m \u001b[0mself\u001b[0m\u001b[0;34m.\u001b[0m\u001b[0mobj\u001b[0m\u001b[0;34m.\u001b[0m\u001b[0m_xs\u001b[0m\u001b[0;34m(\u001b[0m\u001b[0mlabel\u001b[0m\u001b[0;34m,\u001b[0m \u001b[0maxis\u001b[0m\u001b[0;34m=\u001b[0m\u001b[0maxis\u001b[0m\u001b[0;34m)\u001b[0m\u001b[0;34m\u001b[0m\u001b[0;34m\u001b[0m\u001b[0m\n\u001b[0m\u001b[1;32m    626\u001b[0m \u001b[0;34m\u001b[0m\u001b[0m\n\u001b[1;32m    627\u001b[0m     \u001b[0;32mdef\u001b[0m \u001b[0m_get_loc\u001b[0m\u001b[0;34m(\u001b[0m\u001b[0mself\u001b[0m\u001b[0;34m,\u001b[0m \u001b[0mkey\u001b[0m\u001b[0;34m:\u001b[0m \u001b[0mint\u001b[0m\u001b[0;34m,\u001b[0m \u001b[0maxis\u001b[0m\u001b[0;34m:\u001b[0m \u001b[0mint\u001b[0m\u001b[0;34m)\u001b[0m\u001b[0;34m:\u001b[0m\u001b[0;34m\u001b[0m\u001b[0;34m\u001b[0m\u001b[0m\n",
      "\u001b[0;32m~/anaconda3/lib/python3.7/site-packages/pandas/core/generic.py\u001b[0m in \u001b[0;36mxs\u001b[0;34m(self, key, axis, level, drop_level)\u001b[0m\n\u001b[1;32m   3527\u001b[0m \u001b[0;34m\u001b[0m\u001b[0m\n\u001b[1;32m   3528\u001b[0m         \u001b[0;32mif\u001b[0m \u001b[0maxis\u001b[0m \u001b[0;34m==\u001b[0m \u001b[0;36m1\u001b[0m\u001b[0;34m:\u001b[0m\u001b[0;34m\u001b[0m\u001b[0;34m\u001b[0m\u001b[0m\n\u001b[0;32m-> 3529\u001b[0;31m             \u001b[0;32mreturn\u001b[0m \u001b[0mself\u001b[0m\u001b[0;34m[\u001b[0m\u001b[0mkey\u001b[0m\u001b[0;34m]\u001b[0m\u001b[0;34m\u001b[0m\u001b[0;34m\u001b[0m\u001b[0m\n\u001b[0m\u001b[1;32m   3530\u001b[0m \u001b[0;34m\u001b[0m\u001b[0m\n\u001b[1;32m   3531\u001b[0m         \u001b[0mself\u001b[0m\u001b[0;34m.\u001b[0m\u001b[0m_consolidate_inplace\u001b[0m\u001b[0;34m(\u001b[0m\u001b[0;34m)\u001b[0m\u001b[0;34m\u001b[0m\u001b[0;34m\u001b[0m\u001b[0m\n",
      "\u001b[0;32m~/anaconda3/lib/python3.7/site-packages/pandas/core/frame.py\u001b[0m in \u001b[0;36m__getitem__\u001b[0;34m(self, key)\u001b[0m\n\u001b[1;32m   2798\u001b[0m             \u001b[0;32mif\u001b[0m \u001b[0mself\u001b[0m\u001b[0;34m.\u001b[0m\u001b[0mcolumns\u001b[0m\u001b[0;34m.\u001b[0m\u001b[0mnlevels\u001b[0m \u001b[0;34m>\u001b[0m \u001b[0;36m1\u001b[0m\u001b[0;34m:\u001b[0m\u001b[0;34m\u001b[0m\u001b[0;34m\u001b[0m\u001b[0m\n\u001b[1;32m   2799\u001b[0m                 \u001b[0;32mreturn\u001b[0m \u001b[0mself\u001b[0m\u001b[0;34m.\u001b[0m\u001b[0m_getitem_multilevel\u001b[0m\u001b[0;34m(\u001b[0m\u001b[0mkey\u001b[0m\u001b[0;34m)\u001b[0m\u001b[0;34m\u001b[0m\u001b[0;34m\u001b[0m\u001b[0m\n\u001b[0;32m-> 2800\u001b[0;31m             \u001b[0mindexer\u001b[0m \u001b[0;34m=\u001b[0m \u001b[0mself\u001b[0m\u001b[0;34m.\u001b[0m\u001b[0mcolumns\u001b[0m\u001b[0;34m.\u001b[0m\u001b[0mget_loc\u001b[0m\u001b[0;34m(\u001b[0m\u001b[0mkey\u001b[0m\u001b[0;34m)\u001b[0m\u001b[0;34m\u001b[0m\u001b[0;34m\u001b[0m\u001b[0m\n\u001b[0m\u001b[1;32m   2801\u001b[0m             \u001b[0;32mif\u001b[0m \u001b[0mis_integer\u001b[0m\u001b[0;34m(\u001b[0m\u001b[0mindexer\u001b[0m\u001b[0;34m)\u001b[0m\u001b[0;34m:\u001b[0m\u001b[0;34m\u001b[0m\u001b[0;34m\u001b[0m\u001b[0m\n\u001b[1;32m   2802\u001b[0m                 \u001b[0mindexer\u001b[0m \u001b[0;34m=\u001b[0m \u001b[0;34m[\u001b[0m\u001b[0mindexer\u001b[0m\u001b[0;34m]\u001b[0m\u001b[0;34m\u001b[0m\u001b[0;34m\u001b[0m\u001b[0m\n",
      "\u001b[0;32m~/anaconda3/lib/python3.7/site-packages/pandas/core/indexes/base.py\u001b[0m in \u001b[0;36mget_loc\u001b[0;34m(self, key, method, tolerance)\u001b[0m\n\u001b[1;32m   2646\u001b[0m                 \u001b[0;32mreturn\u001b[0m \u001b[0mself\u001b[0m\u001b[0;34m.\u001b[0m\u001b[0m_engine\u001b[0m\u001b[0;34m.\u001b[0m\u001b[0mget_loc\u001b[0m\u001b[0;34m(\u001b[0m\u001b[0mkey\u001b[0m\u001b[0;34m)\u001b[0m\u001b[0;34m\u001b[0m\u001b[0;34m\u001b[0m\u001b[0m\n\u001b[1;32m   2647\u001b[0m             \u001b[0;32mexcept\u001b[0m \u001b[0mKeyError\u001b[0m\u001b[0;34m:\u001b[0m\u001b[0;34m\u001b[0m\u001b[0;34m\u001b[0m\u001b[0m\n\u001b[0;32m-> 2648\u001b[0;31m                 \u001b[0;32mreturn\u001b[0m \u001b[0mself\u001b[0m\u001b[0;34m.\u001b[0m\u001b[0m_engine\u001b[0m\u001b[0;34m.\u001b[0m\u001b[0mget_loc\u001b[0m\u001b[0;34m(\u001b[0m\u001b[0mself\u001b[0m\u001b[0;34m.\u001b[0m\u001b[0m_maybe_cast_indexer\u001b[0m\u001b[0;34m(\u001b[0m\u001b[0mkey\u001b[0m\u001b[0;34m)\u001b[0m\u001b[0;34m)\u001b[0m\u001b[0;34m\u001b[0m\u001b[0;34m\u001b[0m\u001b[0m\n\u001b[0m\u001b[1;32m   2649\u001b[0m         \u001b[0mindexer\u001b[0m \u001b[0;34m=\u001b[0m \u001b[0mself\u001b[0m\u001b[0;34m.\u001b[0m\u001b[0mget_indexer\u001b[0m\u001b[0;34m(\u001b[0m\u001b[0;34m[\u001b[0m\u001b[0mkey\u001b[0m\u001b[0;34m]\u001b[0m\u001b[0;34m,\u001b[0m \u001b[0mmethod\u001b[0m\u001b[0;34m=\u001b[0m\u001b[0mmethod\u001b[0m\u001b[0;34m,\u001b[0m \u001b[0mtolerance\u001b[0m\u001b[0;34m=\u001b[0m\u001b[0mtolerance\u001b[0m\u001b[0;34m)\u001b[0m\u001b[0;34m\u001b[0m\u001b[0;34m\u001b[0m\u001b[0m\n\u001b[1;32m   2650\u001b[0m         \u001b[0;32mif\u001b[0m \u001b[0mindexer\u001b[0m\u001b[0;34m.\u001b[0m\u001b[0mndim\u001b[0m \u001b[0;34m>\u001b[0m \u001b[0;36m1\u001b[0m \u001b[0;32mor\u001b[0m \u001b[0mindexer\u001b[0m\u001b[0;34m.\u001b[0m\u001b[0msize\u001b[0m \u001b[0;34m>\u001b[0m \u001b[0;36m1\u001b[0m\u001b[0;34m:\u001b[0m\u001b[0;34m\u001b[0m\u001b[0;34m\u001b[0m\u001b[0m\n",
      "\u001b[0;32mpandas/_libs/index.pyx\u001b[0m in \u001b[0;36mpandas._libs.index.IndexEngine.get_loc\u001b[0;34m()\u001b[0m\n",
      "\u001b[0;32mpandas/_libs/index.pyx\u001b[0m in \u001b[0;36mpandas._libs.index.IndexEngine.get_loc\u001b[0;34m()\u001b[0m\n",
      "\u001b[0;32mpandas/_libs/hashtable_class_helper.pxi\u001b[0m in \u001b[0;36mpandas._libs.hashtable.PyObjectHashTable.get_item\u001b[0;34m()\u001b[0m\n",
      "\u001b[0;32mpandas/_libs/hashtable_class_helper.pxi\u001b[0m in \u001b[0;36mpandas._libs.hashtable.PyObjectHashTable.get_item\u001b[0;34m()\u001b[0m\n",
      "\u001b[0;31mKeyError\u001b[0m: '??'"
     ]
    }
   ],
   "source": [
    "from backtobasics import get_atom_identities\n",
    "\n",
    "atom_identities = get_atom_identities(df)\n",
    "atom_identities.head()"
   ]
  },
  {
   "cell_type": "markdown",
   "metadata": {},
   "source": [
    "# [Setting Node attributes](https://networkx.github.io/documentation/stable/tutorial.html#node-attributes)\n",
    "\n",
    "```networkx``` nodes are dictionaries, so it's easy enough to access a node via ```G.nodes[<node key/index>]```and to set a new attribute like you would with a dictionary: ```G.nodes[<node key/index>][<new attribute name>] = 5```\n",
    "\n",
    "Below I've made a graph for all short bonds in the protein structure and assigned them ```atom_identities```."
   ]
  },
  {
   "cell_type": "code",
   "execution_count": 35,
   "metadata": {
    "scrolled": false
   },
   "outputs": [
    {
     "name": "stdout",
     "output_type": "stream",
     "text": [
      "0 {'element': 'N'}\n",
      "1 {'element': 'C'}\n",
      "2 {'element': 'C'}\n",
      "3 {'element': 'O'}\n",
      "4 {'element': 'C'}\n",
      "5 {'element': 'O'}\n",
      "6 {'element': 'C'}\n",
      "7 {'element': 'N'}\n",
      "8 {'element': 'C'}\n",
      "9 {'element': 'C'}\n"
     ]
    }
   ],
   "source": [
    "G_short_bonds = nx.convert_matrix.from_scipy_sparse_matrix(short_bonds)\n",
    "\n",
    "\n",
    "for i, j  in zip(G_short_bonds, atom_identities):\n",
    "    G_short_bonds.nodes[i]['element'] = j\n",
    "\n",
    "for i in range(10):\n",
    "    print(i, G_short_bonds.nodes[i])"
   ]
  }
 ],
 "metadata": {
  "kernelspec": {
   "display_name": "Python 3",
   "language": "python",
   "name": "python3"
  },
  "language_info": {
   "codemirror_mode": {
    "name": "ipython",
    "version": 3
   },
   "file_extension": ".py",
   "mimetype": "text/x-python",
   "name": "python",
   "nbconvert_exporter": "python",
   "pygments_lexer": "ipython3",
   "version": "3.7.6"
  }
 },
 "nbformat": 4,
 "nbformat_minor": 4
}
