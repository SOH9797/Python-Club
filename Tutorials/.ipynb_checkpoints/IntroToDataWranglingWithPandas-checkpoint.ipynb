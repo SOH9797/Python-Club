{
 "cells": [
  {
   "cell_type": "markdown",
   "metadata": {
    "colab_type": "text",
    "id": "oXOcc3mTML3R"
   },
   "source": [
    "# Data Wrangling and basic plotting\n",
    "\n",
    "In this tutorial we'll take a look at the module ```pandas```  which is indispensible for working with tabular data (e.g. xlxs, csv). \n",
    "\n",
    "**Resources**\n",
    "[Pandas Documentation](https://pandas.pydata.org/docs/)\n",
    "\n",
    "[Python Data Science Handbook - Jake Vanderplas](https://jakevdp.github.io/PythonDataScienceHandbook/index.html) 🌟🌟🌟🌟🌟\n",
    "\n",
    "[Todays data](https://raw.githubusercontent.com/datasets/covid-19/master/data/time-series-19-covid-combined.csv)\n",
    "\n",
    "[A collection of Jpyter notebook ebooks](https://nbviewer.jupyter.org/)\n",
    "\n",
    "[Google Dorks Cheatshee](https://www.sans.org/security-resources/GoogleCheatSheet.pdf)\n",
    "\n",
    "Today we'll look at some Covid-19 data\n",
    "\n"
   ]
  },
  {
   "cell_type": "markdown",
   "metadata": {},
   "source": [
    "### Imports\n",
    "One of the reasons python  is so popular is the huge number of **libraries**, which contain useful functions that apply to particular tasks. Here, we'll import [**pandas**](https://pandas.pydata.org/), a data analysis library that lets us handle tabular data (e.g. ```.csv``` and ```.xlsx``` files) easily.\n",
    "\n",
    "When we import the libraries, the python interpreter compiles them into bytecode that the machine can read. We'll see how to access and use these functions below."
   ]
  },
  {
   "cell_type": "code",
   "execution_count": 1,
   "metadata": {
    "colab": {
     "base_uri": "https://localhost:8080/",
     "height": 204
    },
    "colab_type": "code",
    "id": "xeKY3_QXLeNI",
    "outputId": "5cee220a-9242-4636-aa43-3950d345a758"
   },
   "outputs": [
    {
     "data": {
      "text/html": [
       "<div>\n",
       "<style scoped>\n",
       "    .dataframe tbody tr th:only-of-type {\n",
       "        vertical-align: middle;\n",
       "    }\n",
       "\n",
       "    .dataframe tbody tr th {\n",
       "        vertical-align: top;\n",
       "    }\n",
       "\n",
       "    .dataframe thead th {\n",
       "        text-align: right;\n",
       "    }\n",
       "</style>\n",
       "<table border=\"1\" class=\"dataframe\">\n",
       "  <thead>\n",
       "    <tr style=\"text-align: right;\">\n",
       "      <th></th>\n",
       "      <th>Date</th>\n",
       "      <th>Country</th>\n",
       "      <th>Confirmed</th>\n",
       "      <th>Recovered</th>\n",
       "      <th>Deaths</th>\n",
       "    </tr>\n",
       "  </thead>\n",
       "  <tbody>\n",
       "    <tr>\n",
       "      <th>0</th>\n",
       "      <td>2020-01-22</td>\n",
       "      <td>Afghanistan</td>\n",
       "      <td>0</td>\n",
       "      <td>0</td>\n",
       "      <td>0</td>\n",
       "    </tr>\n",
       "    <tr>\n",
       "      <th>1</th>\n",
       "      <td>2020-01-22</td>\n",
       "      <td>Albania</td>\n",
       "      <td>0</td>\n",
       "      <td>0</td>\n",
       "      <td>0</td>\n",
       "    </tr>\n",
       "    <tr>\n",
       "      <th>2</th>\n",
       "      <td>2020-01-22</td>\n",
       "      <td>Algeria</td>\n",
       "      <td>0</td>\n",
       "      <td>0</td>\n",
       "      <td>0</td>\n",
       "    </tr>\n",
       "    <tr>\n",
       "      <th>3</th>\n",
       "      <td>2020-01-22</td>\n",
       "      <td>Andorra</td>\n",
       "      <td>0</td>\n",
       "      <td>0</td>\n",
       "      <td>0</td>\n",
       "    </tr>\n",
       "    <tr>\n",
       "      <th>4</th>\n",
       "      <td>2020-01-22</td>\n",
       "      <td>Angola</td>\n",
       "      <td>0</td>\n",
       "      <td>0</td>\n",
       "      <td>0</td>\n",
       "    </tr>\n",
       "  </tbody>\n",
       "</table>\n",
       "</div>"
      ],
      "text/plain": [
       "         Date      Country  Confirmed  Recovered  Deaths\n",
       "0  2020-01-22  Afghanistan          0          0       0\n",
       "1  2020-01-22      Albania          0          0       0\n",
       "2  2020-01-22      Algeria          0          0       0\n",
       "3  2020-01-22      Andorra          0          0       0\n",
       "4  2020-01-22       Angola          0          0       0"
      ]
     },
     "execution_count": 1,
     "metadata": {},
     "output_type": "execute_result"
    }
   ],
   "source": [
    "import pandas as pd \n",
    "#give pandas as shorter handle (optional)\n",
    "\n",
    "# create  a DataFrame object using the pandas.read_csv function\n",
    "df = pd.read_csv('https://raw.githubusercontent.com/datasets/covid-19/master/data/countries-aggregated.csv')\n",
    "# the read_csv function can read data via a url like above, or from a filepath.\n",
    "# must be a string, so remember your quote marks!\n",
    "# df is short for DataFrame, which is a core pandas object\n",
    "df.head() # show first couple of rows"
   ]
  },
  {
   "cell_type": "code",
   "execution_count": 2,
   "metadata": {
    "colab": {
     "base_uri": "https://localhost:8080/",
     "height": 297
    },
    "colab_type": "code",
    "id": "phn3nyK3MweU",
    "outputId": "f9c1eb69-00cf-4600-b4e7-9f28e4a72b31"
   },
   "outputs": [
    {
     "data": {
      "text/html": [
       "<div>\n",
       "<style scoped>\n",
       "    .dataframe tbody tr th:only-of-type {\n",
       "        vertical-align: middle;\n",
       "    }\n",
       "\n",
       "    .dataframe tbody tr th {\n",
       "        vertical-align: top;\n",
       "    }\n",
       "\n",
       "    .dataframe thead th {\n",
       "        text-align: right;\n",
       "    }\n",
       "</style>\n",
       "<table border=\"1\" class=\"dataframe\">\n",
       "  <thead>\n",
       "    <tr style=\"text-align: right;\">\n",
       "      <th></th>\n",
       "      <th>Confirmed</th>\n",
       "      <th>Recovered</th>\n",
       "      <th>Deaths</th>\n",
       "    </tr>\n",
       "  </thead>\n",
       "  <tbody>\n",
       "    <tr>\n",
       "      <th>count</th>\n",
       "      <td>2.057000e+04</td>\n",
       "      <td>20570.000000</td>\n",
       "      <td>20570.000000</td>\n",
       "    </tr>\n",
       "    <tr>\n",
       "      <th>mean</th>\n",
       "      <td>5.388404e+03</td>\n",
       "      <td>1540.071415</td>\n",
       "      <td>357.036364</td>\n",
       "    </tr>\n",
       "    <tr>\n",
       "      <th>std</th>\n",
       "      <td>4.220631e+04</td>\n",
       "      <td>10052.542768</td>\n",
       "      <td>2922.326614</td>\n",
       "    </tr>\n",
       "    <tr>\n",
       "      <th>min</th>\n",
       "      <td>0.000000e+00</td>\n",
       "      <td>0.000000</td>\n",
       "      <td>0.000000</td>\n",
       "    </tr>\n",
       "    <tr>\n",
       "      <th>25%</th>\n",
       "      <td>0.000000e+00</td>\n",
       "      <td>0.000000</td>\n",
       "      <td>0.000000</td>\n",
       "    </tr>\n",
       "    <tr>\n",
       "      <th>50%</th>\n",
       "      <td>9.000000e+00</td>\n",
       "      <td>0.000000</td>\n",
       "      <td>0.000000</td>\n",
       "    </tr>\n",
       "    <tr>\n",
       "      <th>75%</th>\n",
       "      <td>3.870000e+02</td>\n",
       "      <td>40.000000</td>\n",
       "      <td>7.000000</td>\n",
       "    </tr>\n",
       "    <tr>\n",
       "      <th>max</th>\n",
       "      <td>1.329260e+06</td>\n",
       "      <td>216169.000000</td>\n",
       "      <td>79526.000000</td>\n",
       "    </tr>\n",
       "  </tbody>\n",
       "</table>\n",
       "</div>"
      ],
      "text/plain": [
       "          Confirmed      Recovered        Deaths\n",
       "count  2.057000e+04   20570.000000  20570.000000\n",
       "mean   5.388404e+03    1540.071415    357.036364\n",
       "std    4.220631e+04   10052.542768   2922.326614\n",
       "min    0.000000e+00       0.000000      0.000000\n",
       "25%    0.000000e+00       0.000000      0.000000\n",
       "50%    9.000000e+00       0.000000      0.000000\n",
       "75%    3.870000e+02      40.000000      7.000000\n",
       "max    1.329260e+06  216169.000000  79526.000000"
      ]
     },
     "execution_count": 2,
     "metadata": {},
     "output_type": "execute_result"
    }
   ],
   "source": [
    "df.describe() # quickly get info on the data"
   ]
  },
  {
   "cell_type": "code",
   "execution_count": 3,
   "metadata": {
    "colab": {
     "base_uri": "https://localhost:8080/",
     "height": 34
    },
    "colab_type": "code",
    "id": "MTgFesMRloeD",
    "outputId": "1c108af3-0572-4f6c-d197-f89e3557145d"
   },
   "outputs": [
    {
     "data": {
      "text/plain": [
       "(20570, 5)"
      ]
     },
     "execution_count": 3,
     "metadata": {},
     "output_type": "execute_result"
    }
   ],
   "source": [
    "df.shape # quickly find the size (rows, columns)"
   ]
  },
  {
   "cell_type": "code",
   "execution_count": 4,
   "metadata": {
    "colab": {
     "base_uri": "https://localhost:8080/",
     "height": 238
    },
    "colab_type": "code",
    "id": "edfHTgqbNXM1",
    "outputId": "3e073c6e-ebfa-40c9-86e7-6a8dd0719244"
   },
   "outputs": [
    {
     "name": "stdout",
     "output_type": "stream",
     "text": [
      "Index(['Date', 'Country', 'Confirmed', 'Recovered', 'Deaths'], dtype='object')\n"
     ]
    }
   ],
   "source": [
    "# Ways to select columns\n",
    "\n",
    "print(df.columns) # what are the columns called?"
   ]
  },
  {
   "cell_type": "code",
   "execution_count": 5,
   "metadata": {},
   "outputs": [
    {
     "data": {
      "text/plain": [
       "0        2020-01-22\n",
       "1        2020-01-22\n",
       "2        2020-01-22\n",
       "3        2020-01-22\n",
       "4        2020-01-22\n",
       "            ...    \n",
       "20565    2020-05-10\n",
       "20566    2020-05-10\n",
       "20567    2020-05-10\n",
       "20568    2020-05-10\n",
       "20569    2020-05-10\n",
       "Name: Date, Length: 20570, dtype: object"
      ]
     },
     "execution_count": 5,
     "metadata": {},
     "output_type": "execute_result"
    }
   ],
   "source": [
    "# select (and view) an individual column\n",
    "df['Date'] # also valid: df.loc[:,'Date'], where .loc is the locate function, : is all rows, 'Date' is the column header\n",
    "# and df.iloc[:,0] - which selects data based on position, can be less reliable than using the column name\n",
    "# Selecting an individual column returns a 'Series' object, which"
   ]
  },
  {
   "cell_type": "code",
   "execution_count": 6,
   "metadata": {
    "colab": {
     "base_uri": "https://localhost:8080/",
     "height": 476
    },
    "colab_type": "code",
    "id": "we14yae4NzMH",
    "outputId": "574277a6-25a1-46e9-8274-1b3617366e9f"
   },
   "outputs": [
    {
     "data": {
      "text/plain": [
       "array(['2020-01-22', '2020-01-23', '2020-01-24', '2020-01-25',\n",
       "       '2020-01-26', '2020-01-27', '2020-01-28', '2020-01-29',\n",
       "       '2020-01-30', '2020-01-31', '2020-02-01', '2020-02-02',\n",
       "       '2020-02-03', '2020-02-04', '2020-02-05', '2020-02-06',\n",
       "       '2020-02-07', '2020-02-08', '2020-02-09', '2020-02-10',\n",
       "       '2020-02-11', '2020-02-12', '2020-02-13', '2020-02-14',\n",
       "       '2020-02-15', '2020-02-16', '2020-02-17', '2020-02-18',\n",
       "       '2020-02-19', '2020-02-20', '2020-02-21', '2020-02-22',\n",
       "       '2020-02-23', '2020-02-24', '2020-02-25', '2020-02-26',\n",
       "       '2020-02-27', '2020-02-28', '2020-02-29', '2020-03-01',\n",
       "       '2020-03-02', '2020-03-03', '2020-03-04', '2020-03-05',\n",
       "       '2020-03-06', '2020-03-07', '2020-03-08', '2020-03-09',\n",
       "       '2020-03-10', '2020-03-11', '2020-03-12', '2020-03-13',\n",
       "       '2020-03-14', '2020-03-15', '2020-03-16', '2020-03-17',\n",
       "       '2020-03-18', '2020-03-19', '2020-03-20', '2020-03-21',\n",
       "       '2020-03-22', '2020-03-23', '2020-03-24', '2020-03-25',\n",
       "       '2020-03-26', '2020-03-27', '2020-03-28', '2020-03-29',\n",
       "       '2020-03-30', '2020-03-31', '2020-04-01', '2020-04-02',\n",
       "       '2020-04-03', '2020-04-04', '2020-04-05', '2020-04-06',\n",
       "       '2020-04-07', '2020-04-08', '2020-04-09', '2020-04-10',\n",
       "       '2020-04-11', '2020-04-12', '2020-04-13', '2020-04-14',\n",
       "       '2020-04-15', '2020-04-16', '2020-04-17', '2020-04-18',\n",
       "       '2020-04-19', '2020-04-20', '2020-04-21', '2020-04-22',\n",
       "       '2020-04-23', '2020-04-24', '2020-04-25', '2020-04-26',\n",
       "       '2020-04-27', '2020-04-28', '2020-04-29', '2020-04-30',\n",
       "       '2020-05-01', '2020-05-02', '2020-05-03', '2020-05-04',\n",
       "       '2020-05-05', '2020-05-06', '2020-05-07', '2020-05-08',\n",
       "       '2020-05-09', '2020-05-10'], dtype=object)"
      ]
     },
     "execution_count": 6,
     "metadata": {},
     "output_type": "execute_result"
    }
   ],
   "source": [
    "# There are a lot of repeats of the date, so let's see each unique date\n",
    "df['Date'].unique()"
   ]
  },
  {
   "cell_type": "code",
   "execution_count": 7,
   "metadata": {
    "colab": {
     "base_uri": "https://localhost:8080/",
     "height": 301
    },
    "colab_type": "code",
    "id": "iyq_JlpON7yX",
    "outputId": "fb388aee-4f65-4545-ab1c-3dd3cdfb97c8"
   },
   "outputs": [
    {
     "data": {
      "text/html": [
       "<div>\n",
       "<style scoped>\n",
       "    .dataframe tbody tr th:only-of-type {\n",
       "        vertical-align: middle;\n",
       "    }\n",
       "\n",
       "    .dataframe tbody tr th {\n",
       "        vertical-align: top;\n",
       "    }\n",
       "\n",
       "    .dataframe thead th {\n",
       "        text-align: right;\n",
       "    }\n",
       "</style>\n",
       "<table border=\"1\" class=\"dataframe\">\n",
       "  <thead>\n",
       "    <tr style=\"text-align: right;\">\n",
       "      <th>Date</th>\n",
       "      <th>2020-01-22</th>\n",
       "      <th>2020-01-23</th>\n",
       "      <th>2020-01-24</th>\n",
       "      <th>2020-01-25</th>\n",
       "      <th>2020-01-26</th>\n",
       "      <th>2020-01-27</th>\n",
       "      <th>2020-01-28</th>\n",
       "      <th>2020-01-29</th>\n",
       "      <th>2020-01-30</th>\n",
       "      <th>2020-01-31</th>\n",
       "      <th>...</th>\n",
       "      <th>2020-05-01</th>\n",
       "      <th>2020-05-02</th>\n",
       "      <th>2020-05-03</th>\n",
       "      <th>2020-05-04</th>\n",
       "      <th>2020-05-05</th>\n",
       "      <th>2020-05-06</th>\n",
       "      <th>2020-05-07</th>\n",
       "      <th>2020-05-08</th>\n",
       "      <th>2020-05-09</th>\n",
       "      <th>2020-05-10</th>\n",
       "    </tr>\n",
       "    <tr>\n",
       "      <th>Country</th>\n",
       "      <th></th>\n",
       "      <th></th>\n",
       "      <th></th>\n",
       "      <th></th>\n",
       "      <th></th>\n",
       "      <th></th>\n",
       "      <th></th>\n",
       "      <th></th>\n",
       "      <th></th>\n",
       "      <th></th>\n",
       "      <th></th>\n",
       "      <th></th>\n",
       "      <th></th>\n",
       "      <th></th>\n",
       "      <th></th>\n",
       "      <th></th>\n",
       "      <th></th>\n",
       "      <th></th>\n",
       "      <th></th>\n",
       "      <th></th>\n",
       "      <th></th>\n",
       "    </tr>\n",
       "  </thead>\n",
       "  <tbody>\n",
       "    <tr>\n",
       "      <th>Afghanistan</th>\n",
       "      <td>0</td>\n",
       "      <td>0</td>\n",
       "      <td>0</td>\n",
       "      <td>0</td>\n",
       "      <td>0</td>\n",
       "      <td>0</td>\n",
       "      <td>0</td>\n",
       "      <td>0</td>\n",
       "      <td>0</td>\n",
       "      <td>0</td>\n",
       "      <td>...</td>\n",
       "      <td>2335</td>\n",
       "      <td>2469</td>\n",
       "      <td>2704</td>\n",
       "      <td>2894</td>\n",
       "      <td>3224</td>\n",
       "      <td>3392</td>\n",
       "      <td>3563</td>\n",
       "      <td>3778</td>\n",
       "      <td>4033</td>\n",
       "      <td>4402</td>\n",
       "    </tr>\n",
       "    <tr>\n",
       "      <th>Albania</th>\n",
       "      <td>0</td>\n",
       "      <td>0</td>\n",
       "      <td>0</td>\n",
       "      <td>0</td>\n",
       "      <td>0</td>\n",
       "      <td>0</td>\n",
       "      <td>0</td>\n",
       "      <td>0</td>\n",
       "      <td>0</td>\n",
       "      <td>0</td>\n",
       "      <td>...</td>\n",
       "      <td>782</td>\n",
       "      <td>789</td>\n",
       "      <td>795</td>\n",
       "      <td>803</td>\n",
       "      <td>820</td>\n",
       "      <td>832</td>\n",
       "      <td>842</td>\n",
       "      <td>850</td>\n",
       "      <td>856</td>\n",
       "      <td>868</td>\n",
       "    </tr>\n",
       "    <tr>\n",
       "      <th>Algeria</th>\n",
       "      <td>0</td>\n",
       "      <td>0</td>\n",
       "      <td>0</td>\n",
       "      <td>0</td>\n",
       "      <td>0</td>\n",
       "      <td>0</td>\n",
       "      <td>0</td>\n",
       "      <td>0</td>\n",
       "      <td>0</td>\n",
       "      <td>0</td>\n",
       "      <td>...</td>\n",
       "      <td>4154</td>\n",
       "      <td>4295</td>\n",
       "      <td>4474</td>\n",
       "      <td>4648</td>\n",
       "      <td>4838</td>\n",
       "      <td>4997</td>\n",
       "      <td>5182</td>\n",
       "      <td>5369</td>\n",
       "      <td>5558</td>\n",
       "      <td>5723</td>\n",
       "    </tr>\n",
       "    <tr>\n",
       "      <th>Andorra</th>\n",
       "      <td>0</td>\n",
       "      <td>0</td>\n",
       "      <td>0</td>\n",
       "      <td>0</td>\n",
       "      <td>0</td>\n",
       "      <td>0</td>\n",
       "      <td>0</td>\n",
       "      <td>0</td>\n",
       "      <td>0</td>\n",
       "      <td>0</td>\n",
       "      <td>...</td>\n",
       "      <td>745</td>\n",
       "      <td>747</td>\n",
       "      <td>748</td>\n",
       "      <td>750</td>\n",
       "      <td>751</td>\n",
       "      <td>751</td>\n",
       "      <td>752</td>\n",
       "      <td>752</td>\n",
       "      <td>754</td>\n",
       "      <td>755</td>\n",
       "    </tr>\n",
       "    <tr>\n",
       "      <th>Angola</th>\n",
       "      <td>0</td>\n",
       "      <td>0</td>\n",
       "      <td>0</td>\n",
       "      <td>0</td>\n",
       "      <td>0</td>\n",
       "      <td>0</td>\n",
       "      <td>0</td>\n",
       "      <td>0</td>\n",
       "      <td>0</td>\n",
       "      <td>0</td>\n",
       "      <td>...</td>\n",
       "      <td>30</td>\n",
       "      <td>35</td>\n",
       "      <td>35</td>\n",
       "      <td>35</td>\n",
       "      <td>36</td>\n",
       "      <td>36</td>\n",
       "      <td>36</td>\n",
       "      <td>43</td>\n",
       "      <td>43</td>\n",
       "      <td>45</td>\n",
       "    </tr>\n",
       "  </tbody>\n",
       "</table>\n",
       "<p>5 rows × 110 columns</p>\n",
       "</div>"
      ],
      "text/plain": [
       "Date         2020-01-22  2020-01-23  2020-01-24  2020-01-25  2020-01-26  \\\n",
       "Country                                                                   \n",
       "Afghanistan           0           0           0           0           0   \n",
       "Albania               0           0           0           0           0   \n",
       "Algeria               0           0           0           0           0   \n",
       "Andorra               0           0           0           0           0   \n",
       "Angola                0           0           0           0           0   \n",
       "\n",
       "Date         2020-01-27  2020-01-28  2020-01-29  2020-01-30  2020-01-31  ...  \\\n",
       "Country                                                                  ...   \n",
       "Afghanistan           0           0           0           0           0  ...   \n",
       "Albania               0           0           0           0           0  ...   \n",
       "Algeria               0           0           0           0           0  ...   \n",
       "Andorra               0           0           0           0           0  ...   \n",
       "Angola                0           0           0           0           0  ...   \n",
       "\n",
       "Date         2020-05-01  2020-05-02  2020-05-03  2020-05-04  2020-05-05  \\\n",
       "Country                                                                   \n",
       "Afghanistan        2335        2469        2704        2894        3224   \n",
       "Albania             782         789         795         803         820   \n",
       "Algeria            4154        4295        4474        4648        4838   \n",
       "Andorra             745         747         748         750         751   \n",
       "Angola               30          35          35          35          36   \n",
       "\n",
       "Date         2020-05-06  2020-05-07  2020-05-08  2020-05-09  2020-05-10  \n",
       "Country                                                                  \n",
       "Afghanistan        3392        3563        3778        4033        4402  \n",
       "Albania             832         842         850         856         868  \n",
       "Algeria            4997        5182        5369        5558        5723  \n",
       "Andorra             751         752         752         754         755  \n",
       "Angola               36          36          43          43          45  \n",
       "\n",
       "[5 rows x 110 columns]"
      ]
     },
     "execution_count": 7,
     "metadata": {},
     "output_type": "execute_result"
    }
   ],
   "source": [
    "# the 'pivot' function reshapes the DataFrame based on two column values\n",
    "# in this case I want to make a table of the confirmed cases, by country and by date\n",
    "\n",
    "confirmed = df.pivot(index = 'Country', columns = 'Date', values = 'Confirmed')\n",
    "confirmed.head()"
   ]
  },
  {
   "cell_type": "markdown",
   "metadata": {
    "colab_type": "text",
    "id": "i_aq8bgFPdjz"
   },
   "source": [
    "## Plotting\n",
    "\n",
    "I want to plot the ```confirmed``` dataframe as a line plot. To do that, I'll use a plotting library called ```matplotlib.pyplot``` from Matworks. \n",
    "\n",
    "[matplotlib.pyplot Documentation](https://matplotlib.org/api/pyplot_api.html)"
   ]
  },
  {
   "cell_type": "code",
   "execution_count": 8,
   "metadata": {
    "colab": {
     "base_uri": "https://localhost:8080/",
     "height": 265
    },
    "colab_type": "code",
    "id": "qhK6MdEFPdEp",
    "outputId": "d5e250f5-26b1-49c2-a959-726d4e23dade"
   },
   "outputs": [
    {
     "data": {
      "image/png": "[encoded data removed]",
      "text/plain": [
       "<Figure size 432x288 with 1 Axes>"
      ]
     },
     "metadata": {
      "needs_background": "light"
     },
     "output_type": "display_data"
    }
   ],
   "source": [
    "import matplotlib.pyplot as plt # another short handle\n",
    "\n",
    "# Let's start with a single line\n",
    "uk_cases = confirmed.loc['United Kingdom',:] # row = 'United Kingdom', columns = : (all)\n",
    "\n",
    "plt.plot(uk_cases) # plt.plot for line plots \n",
    "plt.show() # render\n",
    "# horrid!\n",
    "# We can do better than this!"
   ]
  },
  {
   "cell_type": "code",
   "execution_count": 10,
   "metadata": {
    "colab": {
     "base_uri": "https://localhost:8080/",
     "height": 398
    },
    "colab_type": "code",
    "id": "oDCxTuyZPHMe",
    "outputId": "86735829-509f-4385-915f-b1369e7fde34"
   },
   "outputs": [
    {
     "data": {
      "image/png": "[encoded data removed]",
      "text/plain": [
       "<Figure size 1080x360 with 1 Axes>"
      ]
     },
     "metadata": {
      "needs_background": "light"
     },
     "output_type": "display_data"
    }
   ],
   "source": [
    "plt.figure(figsize=(15,5)) # manually make the canvas size wider\n",
    "plt.plot(uk_cases)\n",
    "\n",
    "evey_other_date = confirmed.columns[::2] # indexing a list or series by [::2] returns\n",
    "# every other value. This will make our axis less crowded\n",
    "plt.xticks(evey_other_date, rotation = 70) \n",
    "# the default behaviour was to detect the index of the uk_cases series\n",
    "# Here, we manually give the plt.xticks() function the index we want to plot\n",
    "# and also the extra rotation=x parameter, to rotate the dates\n",
    "\n",
    "plt.xlabel('Date') # always label your axes! \n",
    "plt.ylabel('Confirmed Cases', fontsize = 20) # add keyword arguments for extra features, see documentation\n",
    "plt.title('Confirmed UK COVID-19 Cases')\n",
    "plt.show()"
   ]
  },
  {
   "cell_type": "markdown",
   "metadata": {
    "colab_type": "text",
    "id": "XW2WUvOwSYWP"
   },
   "source": [
    "# Multiple Lines, one plot"
   ]
  },
  {
   "cell_type": "code",
   "execution_count": 11,
   "metadata": {
    "colab": {
     "base_uri": "https://localhost:8080/",
     "height": 398
    },
    "colab_type": "code",
    "id": "78OZowxVRFOz",
    "outputId": "f4059fff-dc80-46ee-d379-dc63787ffa7d"
   },
   "outputs": [
    {
     "data": {
      "image/png": "[encoded data removed]",
      "text/plain": [
       "<Figure size 1080x360 with 1 Axes>"
      ]
     },
     "metadata": {
      "needs_background": "light"
     },
     "output_type": "display_data"
    }
   ],
   "source": [
    "# worse affected countries\n",
    "worst_affected =  confirmed.iloc[:,-1].nlargest(10) # .iloc[:,-1] is the index lookup method, which lets you \n",
    "# find a column or row based on its position, instead of its name. [:,-1] means all rows, last column (most recent)\n",
    "# nlargest(10) selects the 10 largest confirmed cases\n",
    "\n",
    "plt.figure(figsize=(15,5)) \n",
    "\n",
    "for i in worst_affected.index:\n",
    "    # for every country in the confirmed sheet\n",
    "    cases = confirmed.loc[i,:]\n",
    "    plt.plot(cases) # overlay the plots!\n",
    "\n",
    "# Only need to add these touch ups once\n",
    "plt.xticks(confirmed.columns[::2], rotation = 70)\n",
    "plt.xlabel('Date')\n",
    "plt.ylabel('Confirmed Cases') \n",
    "plt.title('Worst Affected Countries: Confirmed COVID-19 Cases')\n",
    "plt.legend(worst_affected.index)\n",
    "\n",
    "#plt.yscale('log') #try uncommenting this command for a log scale\n",
    "plt.show()"
   ]
  }
 ],
 "metadata": {
  "colab": {
   "collapsed_sections": [],
   "name": "IntroToDataWranglingWithPandas.ipynb",
   "provenance": []
  },
  "kernelspec": {
   "display_name": "Python 3",
   "language": "python",
   "name": "python3"
  },
  "language_info": {
   "codemirror_mode": {
    "name": "ipython",
    "version": 3
   },
   "file_extension": ".py",
   "mimetype": "text/x-python",
   "name": "python",
   "nbconvert_exporter": "python",
   "pygments_lexer": "ipython3",
   "version": "3.7.6"
  }
 },
 "nbformat": 4,
 "nbformat_minor": 1
}
