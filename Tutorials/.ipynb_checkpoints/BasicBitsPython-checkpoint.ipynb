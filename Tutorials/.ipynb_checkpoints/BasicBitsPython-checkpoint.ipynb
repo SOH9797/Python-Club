{
 "cells": [
  {
   "cell_type": "markdown",
   "metadata": {
    "colab_type": "text",
    "id": "vcfRLiyWwe-I"
   },
   "source": [
    "## Basic Bits Python \n",
    "\n",
    "#### Who is this for?\n",
    "* Python beginners\n",
    "\n",
    "## Contents:\n",
    "* Comments and variables\n",
    "* Loops\n",
    "* Functions\n",
    "* Dictionaries\n",
    "* Make a DNA translator"
   ]
  },
  {
   "cell_type": "markdown",
   "metadata": {
    "colab_type": "text",
    "id": "LWp0BKTZYEPz"
   },
   "source": [
    "### What is this??\n",
    "\n",
    "This a **Jupyter Notebook**, which is an interactive way of coding in python. You might be looking at this via **Google Colab** which hosts jupyter notebooks remotely (and gives access to more computing power than a laptop 👍)\n",
    "\n",
    "Notebooks particularly well suited to data analysis because it can support text **like this**, graphs, and and the code to make your analysis replicable.\n",
    "\n",
    "This tutorial is a quick look at some basic elements of python ✅ but is  not a comprehensive guide ❌ The best guide is the [**Python Data Science Handbook - Jake Vanderplas**](https://jakevdp.github.io/PythonDataScienceHandbook/index.html) 🌟🌟🌟🌟🌟 (free ebook)"
   ]
  },
  {
   "cell_type": "markdown",
   "metadata": {
    "colab_type": "text",
    "id": "uva_xFzGxJOM"
   },
   "source": [
    "# Comments"
   ]
  },
  {
   "cell_type": "code",
   "execution_count": 1,
   "metadata": {
    "colab": {
     "base_uri": "https://localhost:8080/",
     "height": 68
    },
    "colab_type": "code",
    "id": "6j0oO5qDYEP3",
    "outputId": "ad0c6c42-5653-4605-8c65-676face8e4cc"
   },
   "outputs": [
    {
     "name": "stdout",
     "output_type": "stream",
     "text": [
      "2\n",
      "4\n",
      "6\n"
     ]
    }
   ],
   "source": [
    "# This is a python cell\n",
    "# All the code run here (ctrl+enter/shift+enter/the 'play' button)\n",
    "# will be run and the output presented below\n",
    "# These lines behind the '#' are comments and will be ignored by the interpreter\n",
    "\n",
    "'''\n",
    "This is another way of making comments\n",
    "over\n",
    "several lines\n",
    "'''\n",
    "\n",
    "\n",
    "# Have a play with this 'for loop'\n",
    "\n",
    "for i in [1,2,3]: # for each item in the set [1,2,3]\n",
    "    # do something\n",
    "    print(i*2)"
   ]
  },
  {
   "cell_type": "markdown",
   "metadata": {
    "colab_type": "text",
    "id": "53OWPk3AYEQB"
   },
   "source": [
    "# Variables\n",
    "\n",
    "\n",
    "Just like in maths, variables in python are handles for data\n",
    "\n",
    "Here's a few examples of the fundamental data types stored in variables"
   ]
  },
  {
   "cell_type": "code",
   "execution_count": 2,
   "metadata": {
    "colab": {
     "base_uri": "https://localhost:8080/",
     "height": 85
    },
    "colab_type": "code",
    "id": "MvIDEQBuYEQC",
    "outputId": "fdc1b295-b7e4-4f40-ebfe-555ed35fce21"
   },
   "outputs": [
    {
     "name": "stdout",
     "output_type": "stream",
     "text": [
      "10      <class 'int'>\n",
      "9.02984      <class 'float'>\n",
      "this is a string      <class 'str'>\n",
      "True      <class 'bool'>\n"
     ]
    }
   ],
   "source": [
    "a = 10   # this is an integer (int)\n",
    "b = 9.02984  # this is a floating point number (float) - a number with a decimal point\n",
    "# floats and integers are stored differently on the computer\n",
    "c = 'this is a string'\n",
    "d = True # this is a bool (boolean), which can be either True or False (always with a capital first letter)\n",
    "\n",
    "list_of_variables = [a,b,c,d] # this is a list\n",
    "\n",
    "# lists are 'iterable', which means that you can loop through them like this:\n",
    "\n",
    "for i in list_of_variables: \n",
    "        \n",
    "    print(i,'    ',type(i))\n",
    "    \n",
    "    #'i' is just a variable that changes each time,\n",
    "    # you can use any letter or word though\n",
    "    # you can print multiple variables in a print statement\n",
    "    # the 'type()' function returns what type of thing the variable is"
   ]
  },
  {
   "cell_type": "markdown",
   "metadata": {
    "colab_type": "text",
    "id": "rAP1iDrpbw45"
   },
   "source": [
    "These are simple variables on which you can build fairly complex objects, like neural networks, for example"
   ]
  },
  {
   "cell_type": "markdown",
   "metadata": {
    "colab_type": "text",
    "id": "WbvGk1YcYEQI"
   },
   "source": [
    "# Loops\n",
    " ```for loops``` are useful for loads of things, like doing the same function over and over. They iterate through iterable objects, like lists for example. \n",
    " \n",
    " If I don't have a list to iterate through\n",
    " then I can use the ```range()``` function, which generates  integers between a minimum and a \n",
    " maximum value. If no minimum value is given then it's assumed that the minimum is 0.\n",
    "\n",
    "Loops are a mainstay of automating repetitive tasks, for example: processing every file in a folder."
   ]
  },
  {
   "cell_type": "code",
   "execution_count": 3,
   "metadata": {
    "colab": {
     "base_uri": "https://localhost:8080/",
     "height": 170
    },
    "colab_type": "code",
    "id": "zKvkBPIsYEQK",
    "outputId": "b0bfd8a4-8d8e-4ce5-c933-9d6c7cb392a1",
    "scrolled": true
   },
   "outputs": [
    {
     "name": "stdout",
     "output_type": "stream",
     "text": [
      "1\n",
      "2\n",
      "3\n",
      "4\n",
      "5\n",
      "6\n",
      "7\n",
      "8\n",
      "9\n"
     ]
    }
   ],
   "source": [
    "for i in range(1,10):\n",
    "    print(i)"
   ]
  },
  {
   "cell_type": "markdown",
   "metadata": {
    "colab_type": "text",
    "id": "MOB9e_3fYEQQ"
   },
   "source": [
    "## Functions\n",
    "\n",
    " Functions are very useful. They can be written to do complicated operations\n",
    " but for now I'll do one based on dilution calculations that we'd use in the lab.\n",
    " \n",
    " I want a function that calculates what volume of liquid A to add to liquid B\n",
    " to get a final concentration of C.\n",
    "I've rearranged the equation :\n",
    "\n",
    "\\begin{equation*}\n",
    "C1 \\times V1=C2 \\times V2\n",
    " \\end{equation*}\n",
    " into:\n",
    " \n",
    " \\begin{equation*}\n",
    " V1=\\frac{C2 \\times V2}{C1}\n",
    " \\end{equation*}\n",
    " \n",
    " where $V1$ is the volume of solution A to add to $V2$ of solution B. \n",
    " $C1$ is the concentrtation of A and $C2$ is the concentration of B.\n",
    " \n",
    "\n",
    " Functions are defined like this:\n",
    "\n",
    "```\n",
    "def f():\n",
    "        ...\n",
    "        # do something\n",
    "``` \n",
    "\n",
    "  where ```f``` is the name of the function, and ```()``` optionally contains placeholders for variables. Even if your function does not take in variables, you'll still need to include the parenthesis. \n",
    "\n",
    "  You'll also need to remember the colon following the parenthesis and to indent the body of the function. Most text editors will indent automatically for you."
   ]
  },
  {
   "cell_type": "code",
   "execution_count": 4,
   "metadata": {
    "colab": {},
    "colab_type": "code",
    "id": "IxkkWEpKYEQS"
   },
   "outputs": [],
   "source": [
    "def WhatVolumeDoIAdd(c1,c2,v2): # this no-space + capitalizaion naming convention is called 'Camel case'\n",
    "    # The machine will recognise this as a function because it's defined after 'def'.\n",
    "    # Also important are the brackets which (optionally) contains variables that are\n",
    "    # input into the function. Don't forget the colon after the variables and to \n",
    "    # indent all the code within the function\n",
    "    \n",
    "    #here's how I'm calculating v1:\n",
    "    v1=(c2+v2)/c1\n",
    "    \n",
    "    # and I'm having the function return v1\n",
    "    # Functions don't have to return variables, but lots do\n",
    "    return v1"
   ]
  },
  {
   "cell_type": "markdown",
   "metadata": {
    "colab_type": "text",
    "id": "xz8SntWWYEQZ"
   },
   "source": [
    "#### Time to test the function!\n",
    "Let's say I need to make the concentration of ð-Amino-Levulnic acid (ð-ALA) in my cell culture broth 100µM. \n",
    "* $C2$ = 100uM (target conc of ð-ALA)\n",
    "* $C1$ = 0.45 M (my stock solution of ð-ALA)\n",
    "* $V2$ = 500 ml (volume of cell culture)"
   ]
  },
  {
   "cell_type": "code",
   "execution_count": 5,
   "metadata": {
    "colab": {
     "base_uri": "https://localhost:8080/",
     "height": 34
    },
    "colab_type": "code",
    "id": "bACUg_OZYEQb",
    "outputId": "edd292df-e576-4cc1-e074-8630af8894eb"
   },
   "outputs": [
    {
     "name": "stdout",
     "output_type": "stream",
     "text": [
      "1.1111333333333333 µl\n"
     ]
    }
   ],
   "source": [
    "# First I have to normalize all the units. I'll but everything into uM and ul\n",
    "c1 = 0.45 * 10e6 # M to uM. 10e6 is python's scientific notation for 1*10^6\n",
    "c2 = 100 # uM\n",
    "v2 = 500 * 10e3 # ml to ul\n",
    "\n",
    "v1 = WhatVolumeDoIAdd(c1 ,c2, v2)\n",
    "\n",
    "print(v1, 'µl') # for the 'µ' symbol, use AltGr+m"
   ]
  },
  {
   "cell_type": "code",
   "execution_count": 6,
   "metadata": {
    "colab": {
     "base_uri": "https://localhost:8080/",
     "height": 34
    },
    "colab_type": "code",
    "id": "Gc3y4G4zYEQi",
    "outputId": "8b933f6b-f27f-4d4b-d568-08494b6d3e07"
   },
   "outputs": [
    {
     "name": "stdout",
     "output_type": "stream",
     "text": [
      "1.11 µl\n"
     ]
    }
   ],
   "source": [
    "# I can round the answer like ths:\n",
    "\n",
    "print(round(v1, 2), 'µl') # round() takes the number to be rounded, then the number of decimals. I did 2."
   ]
  },
  {
   "cell_type": "markdown",
   "metadata": {
    "colab_type": "text",
    "id": "zPBC5v95rxmZ"
   },
   "source": [
    "# Dictionaries\n",
    "\n",
    "Dictionaries are recognisable for their ```{}``` 'curly' braces. They function as a lookup system, where you can store and access lots of variables. We'll put them into action here with a DNA translator."
   ]
  },
  {
   "cell_type": "code",
   "execution_count": 7,
   "metadata": {
    "colab": {},
    "colab_type": "code",
    "id": "rSg_3TXEwNA6"
   },
   "outputs": [],
   "source": [
    "# Here's the open reading frame for P450 BM3 in a pET15b plasmid:\n",
    "# the '\\' is an 'escape character' which lets me put in a line break mid-string \n",
    "# without upsetting the interpreter\n",
    "seq = 'atgacaattaaagaaatgcctcagccaaaaacgtttggagagcttaaaaatttaccgttattaaacacagataaaccggttcaagctttg\\\n",
    "atgaaaattgcggatgaattaggagaaatctttaaattcgaggcgcctggccgtgtaacgcgctacttatcaagtcagcgtctaattaaagaagcatg\\\n",
    "cgatgaatcacgctttgataaaaacttaagtcaagcgcttaaatttgtacgtgattttGCAggagacgggttaTTTacaagctggacgcatgaaaaaa\\\n",
    "attggaaaaaagcgcataatatcttacttccaagcttcagtcagcaggcaatgaaaggctatcatgcgatgatggtcgatatcgccgtgcagcttgtt\\\n",
    "caaaagtgggagcgtctaaatgcagatgagcatattgaggtaccggaagacatgacacgtttaacgcttgatacaattggtctttgcggctttaacta\\\n",
    "tcgctttaacagcttttaccgagatcagcctcatccatttattacaagtatggtccgtgcactggatgaagcaatgaacaagctgcagcgagcaaatc\\\n",
    "cagacgacccagcttatgatgaaaacaagcgccagtttcaagaagatatcaaggtgatgaacgacctagtagataaaattattgcagatcgcaaagca\\\n",
    "agcggtgaacaaagcgatgatttattaacgcacatgctaaacggaaaagatccagaaacgggtgagccgcttgatgacgagaacattcgctatcaaatt\\\n",
    "attacattcttaattgcgggacacgaaacaactagtggtcttttatcatttgcgctgtatttcttagtgaaaaatccacatgtattacaaaaagcagca\\\n",
    "gaagaagcagcacgagttctagtagatcctgttccaagctacaaacaagtcaaacagcttaaatatgtcggcatggtcttaaacgaagcgctgcgctta\\\n",
    "tggccaactgctcctgcgttttccctatatgcaaaagaagatacggtgcttggaggagaatatcctttagaaaaaggcgacgaactaatggttctgatt\\\n",
    "cctcagcttcaccgtgataaaacaatttggggagacgatgtggaagagttccgtccagagcgttttgaaaatccaagtgcgattccgcagcatgcgttt\\\n",
    "aaaccgtttggaaacggtcagcgtgcgtgtatcggtcagcagttcgctcttcatgaagcaacgctggtcctaggtatgatgctaaaacactttgacttt\\\n",
    "gaagatcatacaaactacgagctggatattaaagaaactttaacgttaaaacctgaaggctttgtggtaaaagcaaaatcgaaaaaaattccgcttggc\\\n",
    "ggtattccttcacctagcactgaacagtctgctaaaaaagtacgcaaaaagggctgctaaca'"
   ]
  },
  {
   "cell_type": "code",
   "execution_count": 8,
   "metadata": {
    "colab": {
     "base_uri": "https://localhost:8080/",
     "height": 34
    },
    "colab_type": "code",
    "id": "1wGcTNp81B7f",
    "outputId": "dc37e4ea-02d3-4fc9-ab88-0c0d0cdcad7b"
   },
   "outputs": [
    {
     "data": {
      "text/plain": [
       "'G'"
      ]
     },
     "execution_count": 8,
     "metadata": {},
     "output_type": "execute_result"
    }
   ],
   "source": [
    "# Here's a dictionary from the wild. Each entry is seperated by a comma and contains two values\n",
    "# like this a:b. Access the contents like this:\n",
    "# contents = DictionaryName[key] \n",
    "# where 'key' can be anything. Usually numbers or strings.\n",
    "\n",
    "CodonTable = {'ATA':'I', 'ATC':'I', 'ATT':'I', 'ATG':'M',\n",
    "        'ACA':'T', 'ACC':'T', 'ACG':'T', 'ACT':'T',\n",
    "        'AAC':'N', 'AAT':'N', 'AAA':'K', 'AAG':'K',\n",
    "        'AGC':'S', 'AGT':'S', 'AGA':'R', 'AGG':'R',\n",
    "        'CTA':'L', 'CTC':'L', 'CTG':'L', 'CTT':'L',\n",
    "        'CCA':'P', 'CCC':'P', 'CCG':'P', 'CCT':'P',\n",
    "        'CAC':'H', 'CAT':'H', 'CAA':'Q', 'CAG':'Q',\n",
    "        'CGA':'R', 'CGC':'R', 'CGG':'R', 'CGT':'R',\n",
    "        'GTA':'V', 'GTC':'V', 'GTG':'V', 'GTT':'V',\n",
    "        'GCA':'A', 'GCC':'A', 'GCG':'A', 'GCT':'A',\n",
    "        'GAC':'D', 'GAT':'D', 'GAA':'E', 'GAG':'E',\n",
    "        'GGA':'G', 'GGC':'G', 'GGG':'G', 'GGT':'G',\n",
    "        'TCA':'S', 'TCC':'S', 'TCG':'S', 'TCT':'S',\n",
    "        'TTC':'F', 'TTT':'F', 'TTA':'L', 'TTG':'L',\n",
    "        'TAC':'Y', 'TAT':'Y', 'TAA':'_', 'TAG':'_',\n",
    "        'TGC':'C', 'TGT':'C', 'TGA':'_', 'TGG':'W'}\n",
    "\n",
    "# Access some amino acids\n",
    "CodonTable['GGG'] # return (and print) the amino acid corresponding to 'GGG'"
   ]
  },
  {
   "cell_type": "code",
   "execution_count": 9,
   "metadata": {
    "colab": {
     "base_uri": "https://localhost:8080/",
     "height": 54
    },
    "colab_type": "code",
    "id": "prF59C1P3myZ",
    "outputId": "aa3c1e8e-2159-4b57-f1b3-72bcbe3b7660"
   },
   "outputs": [
    {
     "data": {
      "text/plain": [
       "'ATGACAATTAAAGAAATGCCTCAGCCAAAAACGTTTGGAGAGCTTAAAAATTTACCGTTATTAAACACAGATAAACCGGTTCAAGCTTTGATGAAAATTGCGGATGAATTAGGAGAAATCTTTAAATTCGAGGCGCCTGGCCGTGTAACGCGCTACTTATCAAGTCAGCGTCTAATTAAAGAAGCATGCGATGAATCACGCTTTGATAAAAACTTAAGTCAAGCGCTTAAATTTGTACGTGATTTTGCAGGAGACGGGTTATTTACAAGCTGGACGCATGAAAAAAATTGGAAAAAAGCGCATAATATCTTACTTCCAAGCTTCAGTCAGCAGGCAATGAAAGGCTATCATGCGATGATGGTCGATATCGCCGTGCAGCTTGTTCAAAAGTGGGAGCGTCTAAATGCAGATGAGCATATTGAGGTACCGGAAGACATGACACGTTTAACGCTTGATACAATTGGTCTTTGCGGCTTTAACTATCGCTTTAACAGCTTTTACCGAGATCAGCCTCATCCATTTATTACAAGTATGGTCCGTGCACTGGATGAAGCAATGAACAAGCTGCAGCGAGCAAATCCAGACGACCCAGCTTATGATGAAAACAAGCGCCAGTTTCAAGAAGATATCAAGGTGATGAACGACCTAGTAGATAAAATTATTGCAGATCGCAAAGCAAGCGGTGAACAAAGCGATGATTTATTAACGCACATGCTAAACGGAAAAGATCCAGAAACGGGTGAGCCGCTTGATGACGAGAACATTCGCTATCAAATTATTACATTCTTAATTGCGGGACACGAAACAACTAGTGGTCTTTTATCATTTGCGCTGTATTTCTTAGTGAAAAATCCACATGTATTACAAAAAGCAGCAGAAGAAGCAGCACGAGTTCTAGTAGATCCTGTTCCAAGCTACAAACAAGTCAAACAGCTTAAATATGTCGGCATGGTCTTAAACGAAGCGCTGCGCTTATGGCCAACTGCTCCTGCGTTTTCCCTATATGCAAAAGAAGATACGGTGCTTGGAGGAGAATATCCTTTAGAAAAAGGCGACGAACTAATGGTTCTGATTCCTCAGCTTCACCGTGATAAAACAATTTGGGGAGACGATGTGGAAGAGTTCCGTCCAGAGCGTTTTGAAAATCCAAGTGCGATTCCGCAGCATGCGTTTAAACCGTTTGGAAACGGTCAGCGTGCGTGTATCGGTCAGCAGTTCGCTCTTCATGAAGCAACGCTGGTCCTAGGTATGATGCTAAAACACTTTGACTTTGAAGATCATACAAACTACGAGCTGGATATTAAAGAAACTTTAACGTTAAAACCTGAAGGCTTTGTGGTAAAAGCAAAATCGAAAAAAATTCCGCTTGGCGGTATTCCTTCACCTAGCACTGAACAGTCTGCTAAAAAAGTACGCAAAAAGGGCTGCTAACA'"
      ]
     },
     "execution_count": 9,
     "metadata": {},
     "output_type": "execute_result"
    }
   ],
   "source": [
    "# The keys in the dictionary are upper case, so I'll need to change case of either them\n",
    "# or the sequence\n",
    "\n",
    "seq  = seq.upper() # seq is now updated to be uppercase\n",
    "seq"
   ]
  },
  {
   "cell_type": "markdown",
   "metadata": {
    "colab_type": "text",
    "id": "rUOt9M0Z5QWR"
   },
   "source": [
    "# Exercise!\n",
    "\n",
    "The aim of the exercise is to translate the DNA sequence in ```seq``` to amino acids. Luckily ```seq``` is in frame, so there's no need to shift around the reading frame. There are multiple ways to approach this. My instinct would be to:\n",
    "*  Divide ```seq``` into its codon triplets\n",
    "* Look up every codon in the ```CodonTable``` for the corresponding amino acid with a ```for``` loop (and store the translation somewhere)\n",
    "* Clean up the the output so that we finish with a single string\n",
    "\n",
    "Google is allowed! Part of programming is knowing what to google ;)\n",
    "\n",
    "\n",
    "Extra points: \n",
    "* Make these steps into a reusable function\n",
    "* Re-use the function on your ORF of choice\n",
    "\n"
   ]
  },
  {
   "cell_type": "code",
   "execution_count": 10,
   "metadata": {
    "colab": {
     "base_uri": "https://localhost:8080/",
     "height": 34
    },
    "colab_type": "code",
    "id": "cyUVEg8M5Lx0",
    "outputId": "e6a02075-c2d0-4023-fdbe-6bcf8f8a8238"
   },
   "outputs": [
    {
     "data": {
      "text/plain": [
       "['ATG', 'ACA', 'ATT', 'AAA', 'GAA', 'ATG', 'CCT', 'CAG', 'CCA', 'AAA']"
      ]
     },
     "execution_count": 10,
     "metadata": {},
     "output_type": "execute_result"
    }
   ],
   "source": [
    "# to get you started, here's a snippet for splitting seq into triplets:\n",
    "\n",
    "triplets = [seq[i:i+3] for i in range(0,len(seq),3)]\n",
    "# This is a for loop stuffed inside a list, which comes in useful very often. \n",
    "# it returns the triplets of seq in the form of a list \n",
    "\n",
    "# The syntax for these types of loops (caled 'list comprehension') are:\n",
    "# [dosomething(i) for i in [iterable]] \n",
    "# i can be any  variable name, the operation can be just about anything \n",
    "# and the iterable can be any iterable, including but not limited to: lists, range() objects and dictionaries\n",
    "\n",
    "# seq[i:i+3] is selecting values i to i+3 of the list. Square brackets are used to retreive items\n",
    "# from lists. the colon lets us select everything between the two values\n",
    "# try running these to get the hang of addressing strings:\n",
    "# seq[0] should be the first letter of the string. Python starts counting from zero because it wastes fewer bits\n",
    "#  seq[-1] selects the last letter of the string\n",
    "# seq[10:15] selects everything including and between the 10th and 15th character\n",
    "\n",
    "# lists are accessed in the same way as string items\n",
    "\n",
    "# range() returns an object that's ready to generate all the numbers specified, and will generate\n",
    "# when we iterate through it. \n",
    "# range(0,len(seq),3) will generate every third number from 0 to the end of the sequence.\n",
    "# range() takes in the variables/'arguments': start (default = 0), stop, step (default = 1)\n",
    "\n",
    "triplets[0:10] # Select the first 10 triplets to display"
   ]
  },
  {
   "cell_type": "code",
   "execution_count": 11,
   "metadata": {
    "colab": {
     "base_uri": "https://localhost:8080/",
     "height": 34
    },
    "colab_type": "code",
    "id": "TPkZvzOb_LRx",
    "outputId": "be436cd9-4950-43f4-ced9-105b3717b3bc"
   },
   "outputs": [
    {
     "name": "stdout",
     "output_type": "stream",
     "text": [
      "['M', 'T', 'I', 'K', 'E', 'M', 'P', 'Q', 'P', 'K']\n"
     ]
    }
   ],
   "source": [
    "translation = []\n",
    "\n",
    "for i in triplets:\n",
    "    if len(i) == 3:\n",
    "        aa = CodonTable[i]\n",
    "        translation.append(aa)\n",
    "print(translation[0:10])"
   ]
  },
  {
   "cell_type": "code",
   "execution_count": 12,
   "metadata": {
    "colab": {},
    "colab_type": "code",
    "id": "358A63cWAKdT"
   },
   "outputs": [
    {
     "name": "stdout",
     "output_type": "stream",
     "text": [
      "MTIKEMPQPKTFGELKNLPLLNTDKPVQALMKIADELGEIFKFEAPGRVTRYLSSQRLIKEACDESRFDKNLSQALKFVRDFAGDGLFTSWTHEKNWKKAHNILLPSFSQQAMKGYHAMMVDIAVQLVQKWERLNADEHIEVPEDMTRLTLDTIGLCGFNYRFNSFYRDQPHPFITSMVRALDEAMNKLQRANPDDPAYDENKRQFQEDIKVMNDLVDKIIADRKASGEQSDDLLTHMLNGKDPETGEPLDDENIRYQIITFLIAGHETTSGLLSFALYFLVKNPHVLQKAAEEAARVLVDPVPSYKQVKQLKYVGMVLNEALRLWPTAPAFSLYAKEDTVLGGEYPLEKGDELMVLIPQLHRDKTIWGDDVEEFRPERFENPSAIPQHAFKPFGNGQRACIGQQFALHEATLVLGMMLKHFDFEDHTNYELDIKETLTLKPEGFVVKAKSKKIPLGGIPSPSTEQSAKKVRKKGC_\n"
     ]
    }
   ],
   "source": [
    "translation_string = ''.join(translation)\n",
    "\n",
    "print(translation_string)"
   ]
  }
 ],
 "metadata": {
  "colab": {
   "collapsed_sections": [],
   "name": "Copy of PythonForBiologists1-Basics.ipynb",
   "provenance": []
  },
  "kernelspec": {
   "display_name": "Python 3",
   "language": "python",
   "name": "python3"
  },
  "language_info": {
   "codemirror_mode": {
    "name": "ipython",
    "version": 3
   },
   "file_extension": ".py",
   "mimetype": "text/x-python",
   "name": "python",
   "nbconvert_exporter": "python",
   "pygments_lexer": "ipython3",
   "version": "3.7.6"
  }
 },
 "nbformat": 4,
 "nbformat_minor": 4
}
