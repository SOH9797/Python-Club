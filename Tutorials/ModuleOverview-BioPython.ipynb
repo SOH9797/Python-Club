{
 "cells": [
  {
   "cell_type": "markdown",
   "metadata": {},
   "source": [
    "# BioPython\n",
    "### A bioinformatics toolbox\n",
    "### Description\n",
    "\n",
    "\n",
    "### Resources\n",
    "* [**Official Page**](https://biopython.org/)\n",
    "* [**Official Tutorial**](http://biopython.org/DIST/docs/tutorial/Tutorial.html)\n",
    "\n",
    "### Installation\n",
    "\n",
    "```conda install -c anaconda biopython```\n",
    "\n",
    "```pip install biopython```\n",
    "\n",
    "### Features\n",
    "* Biological file reading (e.g. FASTA, GB, MSA, PDB)\n"
   ]
  }
 ],
 "metadata": {
  "kernelspec": {
   "display_name": "Python 3",
   "language": "python",
   "name": "python3"
  },
  "language_info": {
   "codemirror_mode": {
    "name": "ipython",
    "version": 3
   },
   "file_extension": ".py",
   "mimetype": "text/x-python",
   "name": "python",
   "nbconvert_exporter": "python",
   "pygments_lexer": "ipython3",
   "version": "3.7.6"
  }
 },
 "nbformat": 4,
 "nbformat_minor": 4
}
