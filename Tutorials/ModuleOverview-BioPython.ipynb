{
 "cells": [
  {
   "cell_type": "markdown",
   "metadata": {},
   "source": [
    "# BioPython\n",
    "### A bioinformatics toolbox\n",
    "### Description\n",
    "\n",
    "\n",
    "### Resources\n",
    "* [**Official Page**](https://biopython.org/)\n",
    "* [**Official Tutorial**](http://biopython.org/DIST/docs/tutorial/Tutorial.html)\n",
    "\n",
    "### Installation\n",
    "\n",
    "```conda install -c anaconda biopython```\n",
    "\n",
    "```pip install biopython```\n",
    "\n",
    "### Features\n",
    "* Biological file reading (e.g. FASTA, GB, MSA, PDB)\n"
   ]
  },
  {
   "cell_type": "code",
   "execution_count": 17,
   "metadata": {},
   "outputs": [
    {
     "data": {
      "text/plain": [
       "Seq('tatggctgtgcaggtcgtaaatcactgcataattcgtgtcgctcaaggcgcac')"
      ]
     },
     "execution_count": 17,
     "metadata": {},
     "output_type": "execute_result"
    }
   ],
   "source": [
    "from Bio import Seq\n",
    "\n",
    "snippet = Seq.Seq('tatggctgtgcaggtcgtaaatcactgcata\\\n",
    "attcgtgtcgctcaaggcgcac')\n",
    "\n",
    "snippet"
   ]
  },
  {
   "cell_type": "code",
   "execution_count": 20,
   "metadata": {},
   "outputs": [
    {
     "name": "stdout",
     "output_type": "stream",
     "text": [
      "Complement:\t ataccgacacgtccagcatttagtgacgtattaagcacagcgagttccgcgtg\n",
      "Reverse Complement:\t gtgcgccttgagcgacacgaattatgcagtgatttacgacctgcacagccata\n",
      "Transcription:\t uauggcugugcaggucguaaaucacugcauaauucgugucgcucaaggcgcac\n",
      "Translation ORF 1:\t YGCAGRKSLHNSCRSRR\n",
      "Translation ORF 2:\t MAVQVVNHCIIRVAQGA\n"
     ]
    }
   ],
   "source": [
    "print('Complement:\\t',snippet.complement())\n",
    "print('Reverse Complement:\\t',snippet.reverse_complement())\n",
    "print('Transcription:\\t',snippet.transcribe())\n",
    "print('Translation ORF 1:\\t',snippet.translate())\n",
    "print('Translation ORF 2:\\t',snippet[1:].translate())"
   ]
  },
  {
   "cell_type": "code",
   "execution_count": 85,
   "metadata": {},
   "outputs": [
    {
     "data": {
      "text/plain": [
       "<generator object FastaIterator at 0x7fb8c2de7dd0>"
      ]
     },
     "execution_count": 85,
     "metadata": {},
     "output_type": "execute_result"
    }
   ],
   "source": [
    "from Bio import SeqIO\n",
    "\n",
    "fasta = SeqIO.parse('pBbe1k-RFP.fasta', format='fasta')\n",
    "fasta # generator, explain"
   ]
  },
  {
   "cell_type": "code",
   "execution_count": 86,
   "metadata": {},
   "outputs": [
    {
     "name": "stdout",
     "output_type": "stream",
     "text": [
      "1\n"
     ]
    },
    {
     "data": {
      "text/plain": [
       "SeqRecord(seq=Seq('gacgtcgacaccatcgaatggtgcaaaacctttcgcggtatggcatgatagcgc...tcc', SingleLetterAlphabet()), id='pBbE1k-RFP', name='pBbE1k-RFP', description=' pBbE1k-RFP sequence 4206 bps', dbxrefs=[])"
      ]
     },
     "execution_count": 86,
     "metadata": {},
     "output_type": "execute_result"
    }
   ],
   "source": [
    "fasta = list(fasta) # unpack\n",
    "print(len(fasta)) # how many items\n",
    "plasmid = fasta[0] # access first item\n",
    "plasmid"
   ]
  },
  {
   "cell_type": "code",
   "execution_count": 87,
   "metadata": {},
   "outputs": [
    {
     "name": "stdout",
     "output_type": "stream",
     "text": [
      " pBbE1k-RFP sequence 4206 bps\n"
     ]
    }
   ],
   "source": [
    "print(plasmid.description)"
   ]
  },
  {
   "cell_type": "code",
   "execution_count": 88,
   "metadata": {},
   "outputs": [
    {
     "data": {
      "text/plain": [
       "SeqRecord(seq=Seq('GACGTCGACACCATCGAATGGTGCAAAACCTTTCGCGGTATGGCATGATAGCGC...TCC', IUPACAmbiguousDNA()), id='.', name='Exported', description='synthetic circular DNA', dbxrefs=[])"
      ]
     },
     "execution_count": 88,
     "metadata": {},
     "output_type": "execute_result"
    }
   ],
   "source": [
    "plasmid_annotated = SeqIO.parse('pBbe1k-RFP.gbk', format = 'gb')\n",
    "plasmid_annotated = list(plasmid_annotated)[0]\n",
    "plasmid_annotated"
   ]
  },
  {
   "cell_type": "code",
   "execution_count": 91,
   "metadata": {},
   "outputs": [
    {
     "name": "stdout",
     "output_type": "stream",
     "text": [
      "synthetic circular DNA\n",
      ".\n",
      "source [0:4206](+)\n",
      "promoter [6:84](+)\n",
      "CDS [84:1167](+)\n",
      "primer_bind [103:123](-)\n",
      "promoter [1398:1428](+)\n",
      "protein_bind [1435:1452](+)\n",
      "CDS [1492:2170](+)\n",
      "terminator [2202:2274](+)\n",
      "terminator [2289:2317](+)\n",
      "rep_origin [2474:3063](-)\n",
      "primer_bind [2554:2574](-)\n",
      "terminator [3150:3245](+)\n",
      "CDS [3275:4070](-)\n",
      "primer_bind [3386:3406](-)\n",
      "primer_bind [3996:4016](+)\n"
     ]
    }
   ],
   "source": [
    "print(plasmid_annotated.description)\n",
    "print(plasmid_annotated.id)\n",
    "\n",
    "for i in plasmid_annotated.features:\n",
    "    print(i.type, i.location)"
   ]
  },
  {
   "cell_type": "code",
   "execution_count": 101,
   "metadata": {},
   "outputs": [],
   "source": [
    "cds1 = plasmid_annotated[84:1167]\n",
    "cds2 = plasmid_annotated[1492:2170]\n",
    "cds3 = plasmid_annotated[3275:4070].reverse_complement()"
   ]
  },
  {
   "cell_type": "code",
   "execution_count": 108,
   "metadata": {},
   "outputs": [
    {
     "data": {
      "text/plain": [
       "SeqRecord(seq=Seq('VKPVTLYDVAEYAGVSYQTVSRVVNQASHVSAKTREKVEAAMAELNYIPNRVAQ...HHH', HasStopCodon(ExtendedIUPACProtein(), '*')), id='<unknown id>', name='<unknown name>', description='<unknown description>', dbxrefs=[])"
      ]
     },
     "execution_count": 108,
     "metadata": {},
     "output_type": "execute_result"
    }
   ],
   "source": [
    "unkownProtein = cds1.translate() \n",
    "unkownProtein += 'GSGHHHHH' # add hist tag\n",
    "unkownProtein."
   ]
  }
 ],
 "metadata": {
  "kernelspec": {
   "display_name": "Python 3",
   "language": "python",
   "name": "python3"
  },
  "language_info": {
   "codemirror_mode": {
    "name": "ipython",
    "version": 3
   },
   "file_extension": ".py",
   "mimetype": "text/x-python",
   "name": "python",
   "nbconvert_exporter": "python",
   "pygments_lexer": "ipython3",
   "version": "3.7.6"
  }
 },
 "nbformat": 4,
 "nbformat_minor": 4
}
