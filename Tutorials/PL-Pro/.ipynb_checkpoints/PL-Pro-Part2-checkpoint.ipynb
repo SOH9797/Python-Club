{
 "cells": [
  {
   "cell_type": "code",
   "execution_count": 11,
   "metadata": {},
   "outputs": [
    {
     "data": {
      "text/html": [
       "<div>\n",
       "<style scoped>\n",
       "    .dataframe tbody tr th:only-of-type {\n",
       "        vertical-align: middle;\n",
       "    }\n",
       "\n",
       "    .dataframe tbody tr th {\n",
       "        vertical-align: top;\n",
       "    }\n",
       "\n",
       "    .dataframe thead th {\n",
       "        text-align: right;\n",
       "    }\n",
       "</style>\n",
       "<table border=\"1\" class=\"dataframe\">\n",
       "  <thead>\n",
       "    <tr style=\"text-align: right;\">\n",
       "      <th></th>\n",
       "      <th>CanonicalSMILES</th>\n",
       "    </tr>\n",
       "    <tr>\n",
       "      <th>CID</th>\n",
       "      <th></th>\n",
       "    </tr>\n",
       "  </thead>\n",
       "  <tbody>\n",
       "    <tr>\n",
       "      <th>644842</th>\n",
       "      <td>COC(=O)C1=CC=CC=C1NC(=O)C2CC(=O)N(C2)C3=CC=C(C...</td>\n",
       "    </tr>\n",
       "    <tr>\n",
       "      <th>645071</th>\n",
       "      <td>CCOC(=O)CNC(=O)CSC1=NN=NN1C2=C(C=CC(=C2)C)C</td>\n",
       "    </tr>\n",
       "    <tr>\n",
       "      <th>645240</th>\n",
       "      <td>C1CN(CCC1(C2=CN=CC=C2)O)C(=O)C3=CC=CC=C3F</td>\n",
       "    </tr>\n",
       "    <tr>\n",
       "      <th>646070</th>\n",
       "      <td>CC12CC3(CN(C1)C(N(C2)C3)C4=CC(=C(C=C4)O)OC)C</td>\n",
       "    </tr>\n",
       "    <tr>\n",
       "      <th>646239</th>\n",
       "      <td>C1CC(OC1)CN(CC2=CC3=CC4=C(C=C3NC2=O)OCCO4)S(=O...</td>\n",
       "    </tr>\n",
       "  </tbody>\n",
       "</table>\n",
       "</div>"
      ],
      "text/plain": [
       "                                          CanonicalSMILES\n",
       "CID                                                      \n",
       "644842  COC(=O)C1=CC=CC=C1NC(=O)C2CC(=O)N(C2)C3=CC=C(C...\n",
       "645071        CCOC(=O)CNC(=O)CSC1=NN=NN1C2=C(C=CC(=C2)C)C\n",
       "645240          C1CN(CCC1(C2=CN=CC=C2)O)C(=O)C3=CC=CC=C3F\n",
       "646070       CC12CC3(CN(C1)C(N(C2)C3)C4=CC(=C(C=C4)O)OC)C\n",
       "646239  C1CC(OC1)CN(CC2=CC3=CC4=C(C=C3NC2=O)OCCO4)S(=O..."
      ]
     },
     "execution_count": 11,
     "metadata": {},
     "output_type": "execute_result"
    }
   ],
   "source": [
    "import pandas as pd\n",
    "\n",
    "df = pd.read_csv('AID_1706.csv', index_col=0)\n",
    "\n",
    "smiles = pd.read_csv('SmilesCIDMapping.csv', index_col=1)\n",
    "smiles = smiles.drop('Unnamed: 0', axis=1)\n",
    "smiles.head()"
   ]
  },
  {
   "cell_type": "code",
   "execution_count": 8,
   "metadata": {},
   "outputs": [
    {
     "data": {
      "text/plain": [
       "Index(['PUBCHEM_RESULT_TAG', 'PUBCHEM_SID', 'PUBCHEM_CID',\n",
       "       'PUBCHEM_ACTIVITY_OUTCOME', 'PUBCHEM_ACTIVITY_SCORE', 'Inhibition'],\n",
       "      dtype='object')"
      ]
     },
     "execution_count": 8,
     "metadata": {},
     "output_type": "execute_result"
    }
   ],
   "source": [
    "df.columns"
   ]
  }
 ],
 "metadata": {
  "kernelspec": {
   "display_name": "Python 3",
   "language": "python",
   "name": "python3"
  },
  "language_info": {
   "codemirror_mode": {
    "name": "ipython",
    "version": 3
   },
   "file_extension": ".py",
   "mimetype": "text/x-python",
   "name": "python",
   "nbconvert_exporter": "python",
   "pygments_lexer": "ipython3",
   "version": "3.7.6"
  }
 },
 "nbformat": 4,
 "nbformat_minor": 4
}
