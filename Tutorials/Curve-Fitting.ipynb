{
 "cells": [
  {
   "cell_type": "markdown",
   "metadata": {},
   "source": [
    "# Curve fitting\n",
    "\n",
    "In this notebook we'll look at fitting curves to biological data\n",
    "\n",
    "requirements:\n",
    "```pandas```\n",
    "```numpy```\n",
    "```scipy```\n",
    "\n",
    "\n",
    "Curve types:\n",
    "* Enzyme kinetics - mm\n",
    "* Growth curves - sigmoid\n"
   ]
  },
  {
   "cell_type": "code",
   "execution_count": 1,
   "metadata": {},
   "outputs": [
    {
     "name": "stdout",
     "output_type": "stream",
     "text": [
      "First file: \t tutorial-data/curve-fitting/Enzyme-vmax=1.53-km=17.41.csv\n"
     ]
    },
    {
     "data": {
      "text/html": [
       "<div>\n",
       "<style scoped>\n",
       "    .dataframe tbody tr th:only-of-type {\n",
       "        vertical-align: middle;\n",
       "    }\n",
       "\n",
       "    .dataframe tbody tr th {\n",
       "        vertical-align: top;\n",
       "    }\n",
       "\n",
       "    .dataframe thead th {\n",
       "        text-align: right;\n",
       "    }\n",
       "</style>\n",
       "<table border=\"1\" class=\"dataframe\">\n",
       "  <thead>\n",
       "    <tr style=\"text-align: right;\">\n",
       "      <th></th>\n",
       "      <th>[Substrate]/µM</th>\n",
       "      <th>Reaction Rate</th>\n",
       "    </tr>\n",
       "  </thead>\n",
       "  <tbody>\n",
       "    <tr>\n",
       "      <th>0</th>\n",
       "      <td>0.000000</td>\n",
       "      <td>-0.071544</td>\n",
       "    </tr>\n",
       "    <tr>\n",
       "      <th>1</th>\n",
       "      <td>7.142857</td>\n",
       "      <td>0.466195</td>\n",
       "    </tr>\n",
       "    <tr>\n",
       "      <th>2</th>\n",
       "      <td>14.285714</td>\n",
       "      <td>0.594671</td>\n",
       "    </tr>\n",
       "    <tr>\n",
       "      <th>3</th>\n",
       "      <td>21.428571</td>\n",
       "      <td>0.852463</td>\n",
       "    </tr>\n",
       "    <tr>\n",
       "      <th>4</th>\n",
       "      <td>28.571429</td>\n",
       "      <td>0.931972</td>\n",
       "    </tr>\n",
       "    <tr>\n",
       "      <th>5</th>\n",
       "      <td>35.714286</td>\n",
       "      <td>1.030320</td>\n",
       "    </tr>\n",
       "    <tr>\n",
       "      <th>6</th>\n",
       "      <td>42.857143</td>\n",
       "      <td>1.145793</td>\n",
       "    </tr>\n",
       "    <tr>\n",
       "      <th>7</th>\n",
       "      <td>50.000000</td>\n",
       "      <td>1.206577</td>\n",
       "    </tr>\n",
       "    <tr>\n",
       "      <th>8</th>\n",
       "      <td>57.142857</td>\n",
       "      <td>1.144247</td>\n",
       "    </tr>\n",
       "    <tr>\n",
       "      <th>9</th>\n",
       "      <td>64.285714</td>\n",
       "      <td>1.318903</td>\n",
       "    </tr>\n",
       "    <tr>\n",
       "      <th>10</th>\n",
       "      <td>71.428571</td>\n",
       "      <td>1.064867</td>\n",
       "    </tr>\n",
       "    <tr>\n",
       "      <th>11</th>\n",
       "      <td>78.571429</td>\n",
       "      <td>1.165363</td>\n",
       "    </tr>\n",
       "    <tr>\n",
       "      <th>12</th>\n",
       "      <td>85.714286</td>\n",
       "      <td>1.322093</td>\n",
       "    </tr>\n",
       "    <tr>\n",
       "      <th>13</th>\n",
       "      <td>92.857143</td>\n",
       "      <td>1.327905</td>\n",
       "    </tr>\n",
       "    <tr>\n",
       "      <th>14</th>\n",
       "      <td>100.000000</td>\n",
       "      <td>1.288127</td>\n",
       "    </tr>\n",
       "  </tbody>\n",
       "</table>\n",
       "</div>"
      ],
      "text/plain": [
       "    [Substrate]/µM  Reaction Rate\n",
       "0         0.000000      -0.071544\n",
       "1         7.142857       0.466195\n",
       "2        14.285714       0.594671\n",
       "3        21.428571       0.852463\n",
       "4        28.571429       0.931972\n",
       "5        35.714286       1.030320\n",
       "6        42.857143       1.145793\n",
       "7        50.000000       1.206577\n",
       "8        57.142857       1.144247\n",
       "9        64.285714       1.318903\n",
       "10       71.428571       1.064867\n",
       "11       78.571429       1.165363\n",
       "12       85.714286       1.322093\n",
       "13       92.857143       1.327905\n",
       "14      100.000000       1.288127"
      ]
     },
     "execution_count": 1,
     "metadata": {},
     "output_type": "execute_result"
    }
   ],
   "source": [
    "import os\n",
    "import pandas as pd\n",
    "\n",
    "kinetics_data = [i for i in os.listdir('tutorial-data/curve-fitting') if 'Enzyme' in i]\n",
    "\n",
    "first_file_path = os.path.join('tutorial-data/curve-fitting', kinetics_data[0])\n",
    "print(f'First file: \\t {first_file_path}')\n",
    "\n",
    "\n",
    "data = pd.read_csv(first_file_path, index_col =0)\n",
    "data"
   ]
  },
  {
   "cell_type": "code",
   "execution_count": 2,
   "metadata": {},
   "outputs": [
    {
     "data": {
      "image/png": "[encoded data removed]",
      "text/plain": [
       "<Figure size 432x288 with 1 Axes>"
      ]
     },
     "metadata": {
      "needs_background": "light"
     },
     "output_type": "display_data"
    }
   ],
   "source": [
    "import matplotlib.pyplot as plt\n",
    "\n",
    "plt.scatter(data['[Substrate]/µM'], data['Reaction Rate'])\n",
    "plt.ylabel('Rate of reaction s^-1')\n",
    "plt.xlabel('Substrate concentration - µM')\n",
    "plt.show()"
   ]
  },
  {
   "cell_type": "code",
   "execution_count": 3,
   "metadata": {},
   "outputs": [],
   "source": [
    "def michaelis_menten(x,km,vmax):\n",
    "    return (vmax*x)/(km + x)"
   ]
  },
  {
   "cell_type": "code",
   "execution_count": 4,
   "metadata": {},
   "outputs": [
    {
     "data": {
      "image/png": "[encoded data removed]",
      "text/plain": [
       "<Figure size 432x288 with 1 Axes>"
      ]
     },
     "metadata": {
      "needs_background": "light"
     },
     "output_type": "display_data"
    }
   ],
   "source": [
    "x = list(range(0, 100))\n",
    "\n",
    "example_km = 20\n",
    "example_vmax = 2\n",
    "\n",
    "y = [michaelis_menten(i, example_km, example_vmax) for i in x]\n",
    "\n",
    "plt.plot(x,y)\n",
    "plt.title(f'Example Michaelis Menten Plot, km = {example_km} vmax = {example_vmax}')\n",
    "plt.ylabel('Rate of reaction s^-1')\n",
    "plt.xlabel('Substrate concentration - µM')\n",
    "plt.show()"
   ]
  },
  {
   "cell_type": "code",
   "execution_count": 9,
   "metadata": {},
   "outputs": [
    {
     "name": "stdout",
     "output_type": "stream",
     "text": [
      "Km = 18.05020229193532 \t Vmax = 1.5406975060247075\n",
      "\n",
      "tutorial-data/curve-fitting/Enzyme-vmax=1.53-km=17.41.csv\n"
     ]
    }
   ],
   "source": [
    "from scipy.optimize import curve_fit\n",
    "\n",
    "params, covariance = curve_fit(michaelis_menten, data['[Substrate]/µM'], data['Reaction Rate'])\n",
    "\n",
    "print(f'Km = {params[0]} \\t Vmax = {params[1]}')\n",
    "print()\n",
    "print(first_file_path)"
   ]
  },
  {
   "cell_type": "code",
   "execution_count": 6,
   "metadata": {},
   "outputs": [
    {
     "data": {
      "image/png": "[encoded data removed]",
      "text/plain": [
       "<Figure size 432x288 with 1 Axes>"
      ]
     },
     "metadata": {
      "needs_background": "light"
     },
     "output_type": "display_data"
    }
   ],
   "source": [
    "predicted_km = params[0]\n",
    "predicted_vmax = params[1]\n",
    "\n",
    "x = list(range(0, 100))\n",
    "y = [michaelis_menten(i, predicted_km, predicted_vmax) for i in x]\n",
    "\n",
    "plt.plot(x,y)\n",
    "plt.scatter(data['[Substrate]/µM'], data['Reaction Rate'])\n",
    "plt.ylabel('Rate of reaction s^-1')\n",
    "plt.xlabel('Substrate concentration - µM')\n",
    "plt.show()"
   ]
  },
  {
   "cell_type": "code",
   "execution_count": 7,
   "metadata": {},
   "outputs": [
    {
     "data": {
      "image/png": "[encoded data removed]",
      "text/plain": [
       "<Figure size 432x288 with 2 Axes>"
      ]
     },
     "metadata": {
      "needs_background": "light"
     },
     "output_type": "display_data"
    }
   ],
   "source": [
    "import seaborn as sns\n",
    "\n",
    "sns.heatmap(covariance, annot=True, xticklabels = ['km','vmax'], yticklabels = ['km','vmax'])\n",
    "plt.title('Covariance matirix of estimated parameters')\n",
    "plt.show()"
   ]
  },
  {
   "cell_type": "code",
   "execution_count": null,
   "metadata": {},
   "outputs": [],
   "source": []
  }
 ],
 "metadata": {
  "kernelspec": {
   "display_name": "Python 3",
   "language": "python",
   "name": "python3"
  },
  "language_info": {
   "codemirror_mode": {
    "name": "ipython",
    "version": 3
   },
   "file_extension": ".py",
   "mimetype": "text/x-python",
   "name": "python",
   "nbconvert_exporter": "python",
   "pygments_lexer": "ipython3",
   "version": "3.7.6"
  }
 },
 "nbformat": 4,
 "nbformat_minor": 4
}
