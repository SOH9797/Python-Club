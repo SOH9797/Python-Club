{
 "cells": [
  {
   "cell_type": "markdown",
   "metadata": {},
   "source": [
    "# **List Comprehension - a ```for``` loop in a single line of code**\n",
    "### Aim\n",
    "* Introduce list comprehensions - compare to ```for``` loops\n",
    "* Describe advantages of **list comprehensions**\n",
    "* Describe syntax of **list comprehensions**\n",
    "* **Exercises**\n",
    "\n",
    "### Contents:\n",
    "1. **Introduction to ```for``` loops:** - begginners' overview\n",
    "2. **Introduction to ```list comprehensions```** - overview and syntax\n",
    "3. **Exercises** - Convert ```for``` loops into  **list comprehensions**"
   ]
  },
  {
   "cell_type": "markdown",
   "metadata": {},
   "source": [
    "# 1. **Introduction to ```for``` loops**\n",
    "\n",
    "What can they do?\n",
    "* ```for``` loops can be used to repeat a block of code $n$ times\n",
    "* ```for``` loops can repeat an operation on each item in a set (e.g. ```list```, ```dictionary```, ```dataframe column```)\n",
    "\n",
    "For example: ```for``` each ```.xlsx``` file in a folder: ```process_data``` ```plot_data```.\n",
    "\n",
    "### Structure of a ```for``` loop:\n",
    "```for``` loops have specific syntax and start like this:\n",
    "```python\n",
    "for i in x:\n",
    "```\n",
    "where ```x``` is your iterable set of objects and ```i``` is a temporary variable assigned to each item in each iteration. The end of line colon is essential. This statement is followed by an ***indented*** block of code that will repeat for each item ```i``` in ```x```. Below is an example that iterates over a list of files, check's if it's an excel file and then calls the functions ```process_data``` and ```plot_data``` on ```i```. \n",
    "\n",
    "```python\n",
    "iterable = ['file1.xlsx', 'file1.xlsx', 'file3.xlsx', 'file4.xlsx', 'file5.doc']\n",
    "\n",
    "for i in iterable: # colon is essential syntax\n",
    "    # i is overwritten in each iteration\n",
    "    # any name can be used, i is just convention\n",
    "    # code block to be repeated is indented (tab or 4 spaces)\n",
    "    if file_is_xlsx(i):\n",
    "        # logic statements require further indentation\n",
    "        process_data(i)\n",
    "        plot_data(i)\n",
    "    # code block ends when the indentation ends\n",
    "\n",
    "# not in code block\n",
    "print(i) # print last value of i - 'file4.xlsx'\n",
    "```\n",
    "Additional features can include:\n",
    "* ```if``` and ```else``` statements - logical tests that control the flow of the program.\n",
    "* ```break``` statements - ends the loop prematurely, often follows an ```if``` statement.\n",
    "* Recursion - loops within loops \n",
    "* ```for i,j in zip(list1, list2):``` - loop over two iterables at once\n",
    "* ```for idx, s in enumerate(list1):``` - start a counter ```idx``` that incraments in each  loop\n",
    "* ```for i in list[::n]:``` - loop over every $n^{th}$ item in ```list1```"
   ]
  },
  {
   "cell_type": "markdown",
   "metadata": {},
   "source": [
    "# 2. **Introduction to ```list comprehensions```** \n",
    "\n",
    "### **Purpose**\n",
    "* List comprehensions create new lists by applying an operation to each item in an iterable using a ```for``` loop.\n",
    "\n",
    "### Example\n",
    "We'll compare using both a ```for``` loop and a **list comprehension** to acheive the same task: apply $y = x^2 + 2x +5$ to numbers 1 to 9:"
   ]
  },
  {
   "cell_type": "code",
   "execution_count": 29,
   "metadata": {},
   "outputs": [
    {
     "name": "stdout",
     "output_type": "stream",
     "text": [
      "[8, 13, 20, 29, 40, 53, 68, 85, 104]\n",
      "[8, 13, 20, 29, 40, 53, 68, 85, 104]\n"
     ]
    }
   ],
   "source": [
    "iterable = [1,2,3,4,5,6,7,8,9]\n",
    "\n",
    "def f(x):\n",
    "    return x**2 + 2*x + 5\n",
    "\n",
    "new_list = [] \n",
    "for x in iterable:\n",
    "    new_list.append(f(x)) # add y to list\n",
    "    \n",
    "print(new_list)\n",
    "\n",
    "# using list comprehension\n",
    "new_list_2 = [f(x) for x in iterable] # more concise\n",
    "\n",
    "print(new_list_2)"
   ]
  },
  {
   "cell_type": "markdown",
   "metadata": {},
   "source": [
    "### Syntax of a **list comprhension**\n",
    "```python\n",
    "[ <expression> for <item> in <iterable> ]\n",
    "```\n",
    "Where ```<expression>``` can be the result of on operation on ```<item>```\n",
    "List comprehensions can also contain logic statements:\n",
    "```python\n",
    "[ <expression> for <item> in <iterable> if <condition>]\n",
    "[ <expression> for <item> in <iterable> if <condition> else <expression_2>]\n",
    "\n",
    "```\n",
    "Expressions will be included in the list if the ```<condition>``` evaluates to ```True```"
   ]
  },
  {
   "cell_type": "code",
   "execution_count": 23,
   "metadata": {},
   "outputs": [
    {
     "name": "stdout",
     "output_type": "stream",
     "text": [
      "['Enzyme-vmax=3.28-km=35.29.xlsx', 'Enzyme-vmax=4.08-km=31.71.xlsx', 'Enzyme-vmax=2.26-km=18.46.csv', 'Enzyme-vmax=1.7-km=44.73.xlsx', 'Enzyme-vmax=4.74-km=43.85.csv']\n",
      "['Enzyme-vmax=2.26-km=18.46.csv', 'Enzyme-vmax=4.74-km=43.85.csv']\n"
     ]
    }
   ],
   "source": [
    "# some examples\n",
    "# Extract enzyme kinetics curves \n",
    "files = [ 'DataGenerator.ipynb',\n",
    " 'Enzyme-vmax=3.28-km=35.29.xlsx',\n",
    " 'Enzyme-vmax=4.08-km=31.71.xlsx',\n",
    " 'FluoresenceRegulation.csv',\n",
    " 'Enzyme-vmax=2.26-km=18.46.csv',\n",
    " 'Enzyme-vmax=1.7-km=44.73.xlsx',\n",
    " 'Enzyme-vmax=4.74-km=43.85.csv']\n",
    "\n",
    "l1 = [i for i in files if 'Enzyme' in i] # <expression: return i> <iterable: files> <condition: if 'Enzyme' in name>\n",
    "l2 = [i for i in files if 'Enzyme' in i and 'csv' in i] # also check for filetype:csv\n",
    "\n",
    "print(l1)\n",
    "print(l2)"
   ]
  },
  {
   "cell_type": "code",
   "execution_count": 21,
   "metadata": {},
   "outputs": [
    {
     "data": {
      "text/plain": [
       "[(5, 'Enzyme-vmax=1.7-km=44.73.xlsx'), (6, 'Enzyme-vmax=4.74-km=43.85.csv')]"
      ]
     },
     "execution_count": 21,
     "metadata": {},
     "output_type": "execute_result"
    }
   ],
   "source": [
    "[(idx, file) for idx, file in enumerate(files) if idx >4]"
   ]
  },
  {
   "cell_type": "code",
   "execution_count": null,
   "metadata": {},
   "outputs": [],
   "source": []
  }
 ],
 "metadata": {
  "kernelspec": {
   "display_name": "Python 3",
   "language": "python",
   "name": "python3"
  },
  "language_info": {
   "codemirror_mode": {
    "name": "ipython",
    "version": 3
   },
   "file_extension": ".py",
   "mimetype": "text/x-python",
   "name": "python",
   "nbconvert_exporter": "python",
   "pygments_lexer": "ipython3",
   "version": "3.7.6"
  }
 },
 "nbformat": 4,
 "nbformat_minor": 4
}
