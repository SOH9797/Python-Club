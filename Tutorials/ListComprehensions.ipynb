{
 "cells": [
  {
   "cell_type": "markdown",
   "metadata": {},
   "source": [
    "# **List Comprehension - a ```for``` loop in a single line of code**\n",
    "\n",
    "[**Colab Version**](https://colab.research.google.com/drive/1kitdQhpUloBdrA4gCkF0UtOFIr4LLdnc?usp=sharing)\n",
    "\n",
    "### Aim\n",
    "* Introduce list comprehensions - compare to ```for``` loops\n",
    "* Describe advantages of **list comprehensions**\n",
    "* Describe syntax of **list comprehensions**\n",
    "* **Exercises**\n",
    "\n",
    "### Contents:\n",
    "1. **Introduction to ```for``` loops:** - begginners' overview\n",
    "2. **Introduction to ```list comprehensions```** - overview and syntax\n",
    "3. **Exercises** - Convert ```for``` loops into  **list comprehensions**"
   ]
  },
  {
   "cell_type": "markdown",
   "metadata": {},
   "source": [
    "# 1. **Introduction to ```for``` loops**\n",
    "\n",
    "What can they do?\n",
    "* ```for``` loops can be used to repeat a block of code $n$ times\n",
    "* ```for``` loops can repeat an operation on each item in a set (e.g. ```list```, ```dictionary```, ```dataframe column```)\n",
    "\n",
    "For example: ```for``` each ```.xlsx``` file in a folder: ```process_data``` ```plot_data```.\n",
    "\n",
    "### Structure of a ```for``` loop:\n",
    "```for``` loops have specific syntax and start like this:\n",
    "```python\n",
    "for i in x:\n",
    "```\n",
    "where ```x``` is your iterable set of objects and ```i``` is a temporary variable assigned to each item in each iteration. The end of line colon is essential. This statement is followed by an ***indented*** block of code that will repeat for each item ```i``` in ```x```. Below is an example that iterates over a list of files, check's if it's an excel file and then calls the functions ```process_data``` and ```plot_data``` on ```i```. \n",
    "\n",
    "```python\n",
    "iterable = ['file1.xlsx', 'file1.xlsx', 'file3.xlsx', 'file4.xlsx', 'file5.doc']\n",
    "\n",
    "for i in iterable: # colon is essential syntax\n",
    "    # i is overwritten in each iteration\n",
    "    # any name can be used, i is just convention\n",
    "    # code block to be repeated is indented (tab or 4 spaces)\n",
    "    if file_is_xlsx(i):\n",
    "        # logic statements require further indentation\n",
    "        process_data(i)\n",
    "        plot_data(i)\n",
    "    # code block ends when the indentation ends\n",
    "\n",
    "# not in code block\n",
    "print(i) # print last value of i - 'file4.xlsx'\n",
    "```\n",
    "Additional features can include:\n",
    "* ```if``` and ```else``` statements - logical tests that control the flow of the program.\n",
    "* ```break``` statements - ends the loop prematurely, often follows an ```if``` statement.\n",
    "* Recursion - loops within loops \n",
    "* ```for i,j in zip(list1, list2):``` - loop over two iterables at once\n",
    "* ```for idx, s in enumerate(list1):``` - start a counter ```idx``` that incraments in each  loop\n",
    "* ```for i in list[::n]:``` - loop over every $n^{th}$ item in ```list1```"
   ]
  },
  {
   "cell_type": "markdown",
   "metadata": {},
   "source": [
    "# 2. **Introduction to ```list comprehensions```** \n",
    "\n",
    "### **Purpose**\n",
    "* List comprehensions create new lists by applying an operation to each item in an iterable using a ```for``` loop.\n",
    "\n",
    "### Example\n",
    "We'll compare using both a ```for``` loop and a **list comprehension** to acheive the same task: apply $y = x^2 + 2x +5$ to numbers 1 to 9:"
   ]
  },
  {
   "cell_type": "code",
   "execution_count": 1,
   "metadata": {},
   "outputs": [
    {
     "name": "stdout",
     "output_type": "stream",
     "text": [
      "[8, 13, 20, 29, 40, 53, 68, 85, 104]\n",
      "[8, 13, 20, 29, 40, 53, 68, 85, 104]\n"
     ]
    }
   ],
   "source": [
    "iterable = [1,2,3,4,5,6,7,8,9]\n",
    "\n",
    "def f(x):\n",
    "    return x**2 + 2*x + 5\n",
    "\n",
    "new_list = [] \n",
    "for x in iterable:\n",
    "    new_list.append(f(x)) # add y to list\n",
    "    \n",
    "print(new_list)\n",
    "\n",
    "# using list comprehension\n",
    "new_list_2 = [f(x) for x in iterable] # more concise\n",
    "\n",
    "print(new_list_2)"
   ]
  },
  {
   "cell_type": "markdown",
   "metadata": {},
   "source": [
    "### Syntax of a **list comprhension**\n",
    "```python\n",
    "[ <expression> for <item> in <iterable> ]\n",
    "```\n",
    "Where ```<expression>``` can be the result of on operation on ```<item>```\n",
    "List comprehensions can also contain logic statements:\n",
    "```python\n",
    "[ <expression> for <item> in <iterable> if <condition>]\n",
    "[ <expression> for <item> in <iterable> if <condition> else <expression_2>]\n",
    "\n",
    "```\n",
    "Expressions will be included in the list if the ```<condition>``` evaluates to ```True```"
   ]
  },
  {
   "cell_type": "code",
   "execution_count": 2,
   "metadata": {},
   "outputs": [
    {
     "name": "stdout",
     "output_type": "stream",
     "text": [
      "['Enzyme-vmax=3.28-km=35.29.xlsx', 'Enzyme-vmax=4.08-km=31.71.xlsx', 'Enzyme-vmax=2.26-km=18.46.csv', 'Enzyme-vmax=1.7-km=44.73.xlsx', 'Enzyme-vmax=4.74-km=43.85.csv']\n",
      "['Enzyme-vmax=2.26-km=18.46.csv', 'Enzyme-vmax=4.74-km=43.85.csv']\n"
     ]
    }
   ],
   "source": [
    "# some examples\n",
    "# Extract enzyme kinetics curves \n",
    "files = [ 'DataGenerator.ipynb',\n",
    " 'Enzyme-vmax=3.28-km=35.29.xlsx',\n",
    " 'Enzyme-vmax=4.08-km=31.71.xlsx',\n",
    " 'FluoresenceRegulation.csv',\n",
    " 'Enzyme-vmax=2.26-km=18.46.csv',\n",
    " 'Enzyme-vmax=1.7-km=44.73.xlsx',\n",
    " 'Enzyme-vmax=4.74-km=43.85.csv']\n",
    "\n",
    "l1 = [i for i in files if 'Enzyme' in i] # <expression: return i> <iterable: files> <condition: if 'Enzyme' in name>\n",
    "l2 = [i for i in files if 'Enzyme' in i and 'csv' in i] # also check for filetype:csv\n",
    "\n",
    "print(l1)\n",
    "print(l2)"
   ]
  },
  {
   "cell_type": "markdown",
   "metadata": {},
   "source": [
    "# Bonus: Dictionary Comprehensions\n",
    "Just like list comprehensions, dictionary comprehensions are single line loops, but return a dictionary instead of a list. The syntax is very similar, only it uses ```{curly brackets}``` and requires an additional key for each expression: ```<key>:<expression>``` \n",
    "\n",
    "```python\n",
    "{<key>:<expression> for <item> in <iterable>}\n",
    "```\n",
    "Like list comprehensions, dictionary comprehensions also support logical checks to control the contents of the output.\n",
    "\n",
    "## Generating keys\n",
    "Here are two simple ways of generating unique keys for a dictionary comprehension:\n",
    "#### Enumeration\n",
    "The ```enumerate(<iterable>)``` function will return a tuple ```(<index>, <item>)``` for each item in the iterable. The start index can be specified using ```enumerate(<iterable>, <start_index>)``` \n",
    "```python\n",
    "{<index>:<expression> for <index><item> in enumerate(<iterable>)}\n",
    "{idx:x**2 for idx,x in enumerate([1,2,3,4])}\n",
    "```\n",
    "#### ```zip()```\n",
    "```zip(<iterable_1>, <iterable_2>)``` returns a list of **tuples** where the $i^{th}$ **tuple** contains the  $i^{th}$ element of both iterables.\n",
    "Tuples are similar to lists - they contain comma separated values, but unlike lists they cannot be modified after they've been created ```(item_1,item_2 .... item_n)``` . See their behaviour in the cell below. Notice that the loop terminates after one list is exhausted.\n"
   ]
  },
  {
   "cell_type": "code",
   "execution_count": 3,
   "metadata": {},
   "outputs": [
    {
     "name": "stdout",
     "output_type": "stream",
     "text": [
      "('a', 1)\n",
      "('b', 2)\n",
      "('c', 3)\n",
      "('d', 4)\n",
      "('e', 5)\n",
      "('f', 6)\n",
      "('g', 7)\n"
     ]
    }
   ],
   "source": [
    "l3 =  ['a', 'b', 'c', 'd', 'e', 'f', 'g']\n",
    "l4 = [1,2,3,4,5,6,7,8]\n",
    "\n",
    "for i in zip(l3,l4):\n",
    "    print(i)"
   ]
  },
  {
   "cell_type": "code",
   "execution_count": 4,
   "metadata": {},
   "outputs": [
    {
     "name": "stdout",
     "output_type": "stream",
     "text": [
      "a 1\n",
      "b 2\n",
      "c 3\n",
      "d 4\n",
      "e 5\n",
      "f 6\n",
      "g 7\n"
     ]
    }
   ],
   "source": [
    "# The tuples can be umpacked like this:\n",
    "for i,j in zip(l3,l4):\n",
    "    print(i,j)"
   ]
  },
  {
   "cell_type": "markdown",
   "metadata": {},
   "source": [
    "Knowing how ```zip()``` behaves, we can use it to iterate over two iterables at once, unpack the variables, operate on them and store them in a dictionary."
   ]
  },
  {
   "cell_type": "code",
   "execution_count": 5,
   "metadata": {},
   "outputs": [
    {
     "data": {
      "text/plain": [
       "{'a': 1, 'b': 4, 'c': 9, 'd': 16, 'e': 25, 'f': 36, 'g': 49}"
      ]
     },
     "execution_count": 5,
     "metadata": {},
     "output_type": "execute_result"
    }
   ],
   "source": [
    "d = {i:j**2 for i,j in zip(l3,l4)}\n",
    "d"
   ]
  },
  {
   "cell_type": "markdown",
   "metadata": {},
   "source": [
    "```pandas.Series``` (single column) can be constructed from a dictionary, which is useful in data analysis"
   ]
  },
  {
   "cell_type": "code",
   "execution_count": 6,
   "metadata": {},
   "outputs": [
    {
     "data": {
      "text/plain": [
       "a     1\n",
       "b     4\n",
       "c     9\n",
       "d    16\n",
       "e    25\n",
       "f    36\n",
       "g    49\n",
       "dtype: int64"
      ]
     },
     "execution_count": 6,
     "metadata": {},
     "output_type": "execute_result"
    }
   ],
   "source": [
    "import pandas as pd\n",
    "pd.Series(d)"
   ]
  },
  {
   "cell_type": "markdown",
   "metadata": {},
   "source": [
    "# **Exercises**\n",
    "\n",
    "These are translation exercises: I'll make a ```for``` loop that you need to translate into a comprehension. You can compare your answer to the output of the ```for``` loop with a logic statement:\n",
    "```python\n",
    "my_output == your_output\n",
    "```"
   ]
  },
  {
   "cell_type": "code",
   "execution_count": 7,
   "metadata": {},
   "outputs": [
    {
     "data": {
      "text/plain": [
       "[0, 1, 2, 3, 4, 5, 6, 7, 8, 9]"
      ]
     },
     "execution_count": 7,
     "metadata": {},
     "output_type": "execute_result"
    }
   ],
   "source": [
    "# ex 1 \n",
    "out = []\n",
    "for i in range(10):\n",
    "    out.append(i)\n",
    "\n",
    "# translate!\n",
    "out"
   ]
  },
  {
   "cell_type": "code",
   "execution_count": 8,
   "metadata": {},
   "outputs": [
    {
     "name": "stdout",
     "output_type": "stream",
     "text": [
      "[150, 126, 104, 84, 66, 50, 36, 24, 14, 6, 0, -4, -6, -6, -4, 0, 6, 14, 24, 36]\n"
     ]
    }
   ],
   "source": [
    "# ex 2 - parabola\n",
    "def f2(x):\n",
    "    return x**2 - 5*x\n",
    "\n",
    "out = []\n",
    "for i in range(-10,10):\n",
    "    out.append(f2(i))\n",
    "print(out)"
   ]
  },
  {
   "cell_type": "code",
   "execution_count": 9,
   "metadata": {},
   "outputs": [
    {
     "name": "stdout",
     "output_type": "stream",
     "text": [
      "['b', 'c', 'd', 'f', 'g', 'h', 'j', 'k', 'l', 'm', 'n', 'p', 'q', 'r', 's', 't', 'v', 'w', 'x', 'y', 'z']\n"
     ]
    }
   ],
   "source": [
    "# ex 3 - get consonants using conditional\n",
    "out = []\n",
    "for i in 'abcdefghijklmnopqrstuvwxyz':\n",
    "    if i not in 'aeiou':\n",
    "        out.append(i)\n",
    "print(out) # translate!"
   ]
  },
  {
   "cell_type": "code",
   "execution_count": 12,
   "metadata": {},
   "outputs": [
    {
     "name": "stdout",
     "output_type": "stream",
     "text": [
      "1    a\n",
      "2    b\n",
      "3    c\n",
      "4    d\n",
      "5    e\n",
      "dtype: object\n"
     ]
    }
   ],
   "source": [
    "# ex 4 - dictionary comprehension\n",
    "out = {}\n",
    "for i,j in enumerate('abcdefghijklmnopqrstuvwxyz', 1): #start counting at 1\n",
    "    out[i] = j\n",
    "out = pd.Series(out)\n",
    "print(out.head()) # translate!"
   ]
  }
 ],
 "metadata": {
  "kernelspec": {
   "display_name": "Python 3",
   "language": "python",
   "name": "python3"
  },
  "language_info": {
   "codemirror_mode": {
    "name": "ipython",
    "version": 3
   },
   "file_extension": ".py",
   "mimetype": "text/x-python",
   "name": "python",
   "nbconvert_exporter": "python",
   "pygments_lexer": "ipython3",
   "version": "3.7.6"
  }
 },
 "nbformat": 4,
 "nbformat_minor": 4
}
