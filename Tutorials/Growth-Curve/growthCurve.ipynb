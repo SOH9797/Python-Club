{
 "cells": [
  {
   "cell_type": "markdown",
   "metadata": {},
   "source": [
    "## Growth Curves - Gompertz Equation"
   ]
  },
  {
   "cell_type": "markdown",
   "metadata": {},
   "source": [
    "One form of the Gompertz (growth) equation is: $$W(t)=W_{m}e^{-e^{-k(t-T_{m})}}$$ where W<sub>m</sub> is the upper asymptote; k is the growth rate and T<sub>m</sub> the time at the inflexion point."
   ]
  },
  {
   "cell_type": "markdown",
   "metadata": {},
   "source": [
    "We will also be interested in _mu_, the maximum slope and _lambda_, the onset time of growth, also called the lag."
   ]
  },
  {
   "cell_type": "markdown",
   "metadata": {},
   "source": [
    "Since we are using experimental optical densities, we will also introduce a parameter, _A_ which represents the baseline optical density, to arrive at a modified equation: $$W(t)=A + (W_{m}-A)e^{-e^{-k(t-T_{m})}}$$"
   ]
  },
  {
   "cell_type": "code",
   "execution_count": 1,
   "metadata": {},
   "outputs": [],
   "source": [
    "import pandas as pd\n",
    "import numpy as np\n",
    "import matplotlib.pyplot as plt"
   ]
  },
  {
   "cell_type": "code",
   "execution_count": 2,
   "metadata": {},
   "outputs": [
    {
     "data": {
      "text/html": [
       "<div>\n",
       "<style scoped>\n",
       "    .dataframe tbody tr th:only-of-type {\n",
       "        vertical-align: middle;\n",
       "    }\n",
       "\n",
       "    .dataframe tbody tr th {\n",
       "        vertical-align: top;\n",
       "    }\n",
       "\n",
       "    .dataframe thead th {\n",
       "        text-align: right;\n",
       "    }\n",
       "</style>\n",
       "<table border=\"1\" class=\"dataframe\">\n",
       "  <thead>\n",
       "    <tr style=\"text-align: right;\">\n",
       "      <th></th>\n",
       "      <th>time</th>\n",
       "      <th>OD</th>\n",
       "    </tr>\n",
       "  </thead>\n",
       "  <tbody>\n",
       "    <tr>\n",
       "      <th>0</th>\n",
       "      <td>0</td>\n",
       "      <td>0.017176</td>\n",
       "    </tr>\n",
       "    <tr>\n",
       "      <th>1</th>\n",
       "      <td>14</td>\n",
       "      <td>0.019142</td>\n",
       "    </tr>\n",
       "    <tr>\n",
       "      <th>2</th>\n",
       "      <td>29</td>\n",
       "      <td>0.019937</td>\n",
       "    </tr>\n",
       "    <tr>\n",
       "      <th>3</th>\n",
       "      <td>44</td>\n",
       "      <td>0.019563</td>\n",
       "    </tr>\n",
       "    <tr>\n",
       "      <th>4</th>\n",
       "      <td>59</td>\n",
       "      <td>0.022208</td>\n",
       "    </tr>\n",
       "  </tbody>\n",
       "</table>\n",
       "</div>"
      ],
      "text/plain": [
       "   time        OD\n",
       "0     0  0.017176\n",
       "1    14  0.019142\n",
       "2    29  0.019937\n",
       "3    44  0.019563\n",
       "4    59  0.022208"
      ]
     },
     "execution_count": 2,
     "metadata": {},
     "output_type": "execute_result"
    }
   ],
   "source": [
    "dat = pd.read_excel('./growth_data.xlsx')\n",
    "dat.head()"
   ]
  },
  {
   "cell_type": "code",
   "execution_count": 3,
   "metadata": {},
   "outputs": [
    {
     "data": {
      "image/png": "[encoded data removed]",
      "text/plain": [
       "<Figure size 432x288 with 1 Axes>"
      ]
     },
     "metadata": {
      "needs_background": "light"
     },
     "output_type": "display_data"
    }
   ],
   "source": [
    "plt.scatter(dat.time,dat.OD);\n",
    "plt.xlabel('Time')\n",
    "plt.ylabel('Optical Density')\n",
    "plt.show()"
   ]
  },
  {
   "cell_type": "code",
   "execution_count": 4,
   "metadata": {},
   "outputs": [],
   "source": [
    "def gmpz(t,A,wm,k,tm):\n",
    "  return A+(wm-A)*np.exp(-np.exp(-k*(t-tm)))"
   ]
  },
  {
   "cell_type": "code",
   "execution_count": 5,
   "metadata": {},
   "outputs": [],
   "source": [
    "from scipy.optimize import curve_fit"
   ]
  },
  {
   "cell_type": "markdown",
   "metadata": {},
   "source": [
    " The *curve\\_fit* function may become unstable, e.g. generating **NaN** or **Inf**, depending upon the equation and starting parameters. Convergence is better if we guess reasonable starting point for parameters, this is done using p0. We can also set sensible bound on the parameter via <code>bounds = ([lower limits],[upper limits])</code>"
   ]
  },
  {
   "cell_type": "markdown",
   "metadata": {},
   "source": [
    "We will just estimate *p0* and *bounds* by inspecting the graph above."
   ]
  },
  {
   "cell_type": "code",
   "execution_count": 6,
   "metadata": {},
   "outputs": [
    {
     "data": {
      "text/plain": [
       "[0.01717597970829579, 0.7864616264748774, 0.03, 200]"
      ]
     },
     "execution_count": 6,
     "metadata": {},
     "output_type": "execute_result"
    }
   ],
   "source": [
    "A = min(dat.OD)\n",
    "Wm = max(dat.OD)\n",
    "k = 0.03\n",
    "Tm = 200\n",
    "p0 = [A,Wm,k,Tm]\n",
    "p0"
   ]
  },
  {
   "cell_type": "code",
   "execution_count": 7,
   "metadata": {},
   "outputs": [
    {
     "data": {
      "text/plain": [
       "([0, 0.6, 0.001, 0], [0.1, 1.2, 1.0, 300])"
      ]
     },
     "execution_count": 7,
     "metadata": {},
     "output_type": "execute_result"
    }
   ],
   "source": [
    "bnd = [0,0.6,0.001,0],[0.1,1.2,1.0,300]\n",
    "bnd"
   ]
  },
  {
   "cell_type": "code",
   "execution_count": 8,
   "metadata": {},
   "outputs": [
    {
     "name": "stdout",
     "output_type": "stream",
     "text": [
      "A: 0.019 Wm: 0.759 k: 0.017 Tm: 174.405\n"
     ]
    }
   ],
   "source": [
    "params, covariance = curve_fit(gmpz,dat['time'],dat['OD'],p0=p0,bounds=bnd)\n",
    "A = params[0]\n",
    "Wm = params[1]\n",
    "k = params[2]\n",
    "Tm = params[3]\n",
    "print(f'A: {A:0.3f} Wm: {Wm:0.3f} k: {k:0.3f} Tm: {Tm:0.3f}')"
   ]
  },
  {
   "cell_type": "code",
   "execution_count": 9,
   "metadata": {},
   "outputs": [],
   "source": [
    "ypred = gmpz(dat.time,A,Wm,k,Tm)"
   ]
  },
  {
   "cell_type": "code",
   "execution_count": 10,
   "metadata": {},
   "outputs": [],
   "source": [
    "from sklearn.metrics import r2_score"
   ]
  },
  {
   "cell_type": "code",
   "execution_count": 11,
   "metadata": {},
   "outputs": [
    {
     "name": "stdout",
     "output_type": "stream",
     "text": [
      "R2 Score: 0.996\n"
     ]
    }
   ],
   "source": [
    "R2 = r2_score(dat.OD,ypred)\n",
    "print(f'R2 Score: {R2:0.3f}')"
   ]
  },
  {
   "cell_type": "code",
   "execution_count": 12,
   "metadata": {},
   "outputs": [
    {
     "data": {
      "image/png": "[encoded data removed]",
      "text/plain": [
       "<Figure size 432x288 with 1 Axes>"
      ]
     },
     "metadata": {
      "needs_background": "light"
     },
     "output_type": "display_data"
    }
   ],
   "source": [
    "plt.plot(dat.time,ypred,color='red')\n",
    "plt.scatter(dat.time,dat.OD)\n",
    "plt.show()"
   ]
  },
  {
   "cell_type": "markdown",
   "metadata": {},
   "source": [
    "Derived parameters:"
   ]
  },
  {
   "cell_type": "code",
   "execution_count": 13,
   "metadata": {},
   "outputs": [
    {
     "name": "stdout",
     "output_type": "stream",
     "text": [
      "lambda = 113.964 mu = 0.005\n"
     ]
    }
   ],
   "source": [
    "mu = (Wm - A)*k/np.exp(1) #max slope\n",
    "L = (Tm*k-1)/k # lambda\n",
    "print(f'lambda = {L:0.3f} mu = {mu:0.3f}')"
   ]
  },
  {
   "cell_type": "code",
   "execution_count": 14,
   "metadata": {},
   "outputs": [
    {
     "name": "stdout",
     "output_type": "stream",
     "text": [
      "Lc = -0.494 Ly = 0.291\n"
     ]
    }
   ],
   "source": [
    "Lc = A - L*mu\n",
    "Ly = mu*Tm + Lc\n",
    "print(f'Lc = {Lc:0.3f} Ly = {Ly:0.3f}')"
   ]
  },
  {
   "cell_type": "code",
   "execution_count": 15,
   "metadata": {},
   "outputs": [],
   "source": [
    "abline = [x*mu + Lc for x in dat.time]"
   ]
  },
  {
   "cell_type": "code",
   "execution_count": 16,
   "metadata": {},
   "outputs": [
    {
     "data": {
      "image/png": "[encoded data removed]",
      "text/plain": [
       "<Figure size 576x576 with 1 Axes>"
      ]
     },
     "metadata": {
      "needs_background": "light"
     },
     "output_type": "display_data"
    }
   ],
   "source": [
    "plt.figure(figsize=(8,8))\n",
    "\n",
    "plt.plot(dat.time,ypred,color='red')\n",
    "plt.scatter(dat.time,dat.OD)\n",
    "plt.xlim(0,700)\n",
    "plt.ylim(0,max(dat.OD)+0.05)\n",
    "plt.hlines([Wm,A],0,700,color='gray',linestyles='dotted')\n",
    "plt.vlines(L,0,max(dat.OD)+0.05,color='green',linestyles='dotted')\n",
    "plt.plot(dat.time,abline,color='green',linestyle='dotted')\n",
    "plt.xlabel('Time / minutes')\n",
    "plt.ylabel('Optical Density')\n",
    "plt.title('Growth Curve\\nwith Gompertz Fit')\n",
    "plt.show()"
   ]
  },
  {
   "cell_type": "markdown",
   "metadata": {},
   "source": [
    "Notice that here we have defined _lambda_ to be where the tangent to maximum growth rate crosses the base line. Other definitions are possible, for example based on reaching some small fraction of maximum growth. "
   ]
  },
  {
   "cell_type": "markdown",
   "metadata": {},
   "source": [
    "## The Bootstrap: Finding Parameter Confidence Intervals\n",
    "Ideally, if we wanted to find the distribution of some measurement, we would perform many repeat experiments. In other words, we would drawn many samples (each of size, *n*) from the population and calculate the property of interest for each sample. These properties or measurements would then give us the *sampling distribution* from which we could obtain confidence intervals. Notice that the sampling distribution depends on *n* and is not the same as **F**."
   ]
  },
  {
   "cell_type": "markdown",
   "metadata": {},
   "source": [
    "<img src=\"image1.png\">"
   ]
  },
  {
   "cell_type": "markdown",
   "metadata": {},
   "source": [
    "Unfortunately, many experiments are too expensive in terms of time and / or resources, e.g. growth curve experiment may take 24 hours or longer. In fact, we only have a single sample: the results of one experiment."
   ]
  },
  {
   "cell_type": "markdown",
   "metadata": {},
   "source": [
    "The trick we adopt is this: use our *one sample* as a proxy for the unknown population probability density, and take *bootstrap* or *re-samples* from this. Bootstrap sampling is taking *n* samples with replacement. When we do this, some data points will be duplicated, some left out altogether; this is expected. Notice that we keep *n* the same as the original sample size. (because the sampling distributions depends on *n*)."
   ]
  },
  {
   "cell_type": "markdown",
   "metadata": {},
   "source": [
    "Let's see how to code this up to find a confidence interval for the growth curve lag time, *lambda*"
   ]
  },
  {
   "cell_type": "markdown",
   "metadata": {},
   "source": [
    "First we encapsulate our curve fitting routine into a functions the fits some data and returns *lambda*"
   ]
  },
  {
   "cell_type": "code",
   "execution_count": 17,
   "metadata": {},
   "outputs": [],
   "source": [
    "def findLambda(time,OD,p0,bnd):  \n",
    "    params, covariance = curve_fit(gmpz,time,OD,p0=p0,bounds=bnd)\n",
    "    #test if the fit failed\n",
    "    if np.any(np.isinf(covariance)):\n",
    "        return np.NaN\n",
    "    A = params[0]\n",
    "    Wm = params[1]\n",
    "    k = params[2]\n",
    "    Tm = params[3]\n",
    "    mu = (Wm - A)*k/np.exp(1) #max slope\n",
    "    L = (Tm*k-1)/k # lambda\n",
    "    return L\n",
    "    "
   ]
  },
  {
   "cell_type": "code",
   "execution_count": 18,
   "metadata": {},
   "outputs": [
    {
     "data": {
      "text/plain": [
       "113.96388543511705"
      ]
     },
     "execution_count": 18,
     "metadata": {},
     "output_type": "execute_result"
    }
   ],
   "source": [
    "findLambda(dat.time,dat.OD,p0,bnd)"
   ]
  },
  {
   "cell_type": "markdown",
   "metadata": {},
   "source": [
    "Next loop of Bootstraps"
   ]
  },
  {
   "cell_type": "code",
   "execution_count": 19,
   "metadata": {},
   "outputs": [],
   "source": [
    "boots = 1000\n",
    "L = []\n",
    "n = len(dat.time)\n",
    "idx = [i for i in range(n)]"
   ]
  },
  {
   "cell_type": "code",
   "execution_count": 20,
   "metadata": {},
   "outputs": [],
   "source": [
    "for b in range(boots):\n",
    "    bi = np.random.choice(idx,n)\n",
    "    t = dat.time[bi]\n",
    "    od = dat.OD[bi]\n",
    "    #try to get valid result\n",
    "    for i in range(10):\n",
    "        tmp = findLambda(t,od,p0,bnd)\n",
    "        if ~np.isnan(tmp):\n",
    "            break\n",
    "    L.append(tmp)"
   ]
  },
  {
   "cell_type": "code",
   "execution_count": 21,
   "metadata": {},
   "outputs": [
    {
     "data": {
      "image/png": "[encoded data removed]",
      "text/plain": [
       "<Figure size 432x288 with 1 Axes>"
      ]
     },
     "metadata": {
      "needs_background": "light"
     },
     "output_type": "display_data"
    }
   ],
   "source": [
    "plt.hist(L,bins=100)\n",
    "plt.show()"
   ]
  },
  {
   "cell_type": "code",
   "execution_count": 22,
   "metadata": {},
   "outputs": [],
   "source": [
    "ll,med,ul=np.percentile(L,[25,50,97.5])"
   ]
  },
  {
   "cell_type": "code",
   "execution_count": 23,
   "metadata": {},
   "outputs": [
    {
     "name": "stdout",
     "output_type": "stream",
     "text": [
      "Lambda: lower limit 111.19 median 113.60 upperlimit 118.67 95% CI\n"
     ]
    }
   ],
   "source": [
    "print(f'Lambda: lower limit {ll:0.2f} median {med:0.2f} upperlimit {ul:0.2f} 95% CI')"
   ]
  },
  {
   "cell_type": "markdown",
   "metadata": {},
   "source": [
    "## Bootstrap Caveats "
   ]
  },
  {
   "cell_type": "markdown",
   "metadata": {},
   "source": [
    "When we sample the population, regions where the probability density is low will be sparsely sampled, and subsequent bootstraps will represent these regions poorly. This is exacerbated if the sample size is low. In fact, if the sample size is very low (say < 8), there are too few possible [unique] bootstrap samples, and bootstrap performance is poor."
   ]
  },
  {
   "cell_type": "markdown",
   "metadata": {},
   "source": [
    "Thus, the extremes of a distribution are often poorly represented and confidence intervals found can be too narrow: they have *poor coverage*. We usually try to keep *n* high to mitigate this, but distributions that are skewed with low intensity tails may still be a problem."
   ]
  },
  {
   "cell_type": "markdown",
   "metadata": {},
   "source": [
    "## How many bootstrap samples?"
   ]
  },
  {
   "cell_type": "markdown",
   "metadata": {},
   "source": [
    "In principle, the *Full Bootstrap* would include all possible unique bootstrap samples, however, this quickly rises to enormous numbers. In the *Monte Carlo Bootstrap* [random re-sampling], we have described, a minimum of 1000 re-samples should be taken. some authors suggest even higher number, e.g. 10<sup>4</sup>."
   ]
  },
  {
   "cell_type": "markdown",
   "metadata": {},
   "source": [
    "## Exercise\n",
    "1. Reformulate the above code into a function that returns the confidence limits for all of the parameters, **A, Wm, k, Tm & mu**.\n",
    "2. Apply these techniques to curve fitting a function that is relevant to your research."
   ]
  },
  {
   "cell_type": "code",
   "execution_count": null,
   "metadata": {},
   "outputs": [],
   "source": []
  }
 ],
 "metadata": {
  "kernelspec": {
   "display_name": "tfp37",
   "language": "python",
   "name": "tfp37"
  },
  "language_info": {
   "codemirror_mode": {
    "name": "ipython",
    "version": 3
   },
   "file_extension": ".py",
   "mimetype": "text/x-python",
   "name": "python",
   "nbconvert_exporter": "python",
   "pygments_lexer": "ipython3",
   "version": "3.7.7"
  }
 },
 "nbformat": 4,
 "nbformat_minor": 4
}
