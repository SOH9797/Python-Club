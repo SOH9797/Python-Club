{
 "cells": [
  {
   "cell_type": "markdown",
   "metadata": {
    "colab_type": "text",
    "id": "vcfRLiyWwe-I"
   },
   "source": [
    "## Basic Bits Python \n",
    "\n",
    "#### Who is this for?\n",
    "* Python beginners\n",
    "\n",
    "## Contents:\n",
    "* Comments and variables\n",
    "* Loops\n",
    "* Functions\n",
    "* Dictionaries\n",
    "* Make a DNA translator"
   ]
  },
  {
   "cell_type": "markdown",
   "metadata": {
    "colab_type": "text",
    "id": "LWp0BKTZYEPz"
   },
   "source": [
    "### What is this??\n",
    "\n",
    "This a **Jupyter Notebook**, which is an interactive way of coding in python. You might be looking at this via [**Google Colab**](https://drive.google.com/open?id=1bYnD5GUBWw8L84dS5k8hMHGde4iIghBg) which hosts jupyter notebooks remotely (and gives access to more computing power than a laptop 👍)\n",
    "\n",
    "Notebooks particularly well suited to data analysis because it can support text **like this**, graphs, and and the code to make your analysis replicable.\n",
    "\n",
    "This tutorial is a quick look at some basic elements of python ✅ but is  not a comprehensive guide ❌ The best guide is the [**Python Data Science Handbook - Jake Vanderplas**](https://jakevdp.github.io/PythonDataScienceHandbook/index.html) 🌟🌟🌟🌟🌟 (free ebook)"
   ]
  },
  {
   "cell_type": "markdown",
   "metadata": {
    "colab_type": "text",
    "id": "uva_xFzGxJOM"
   },
   "source": [
    "# Comments"
   ]
  },
  {
   "cell_type": "code",
   "execution_count": 1,
   "metadata": {
    "colab": {
     "base_uri": "https://localhost:8080/",
     "height": 68
    },
    "colab_type": "code",
    "id": "6j0oO5qDYEP3",
    "outputId": "ad0c6c42-5653-4605-8c65-676face8e4cc"
   },
   "outputs": [
    {
     "data": {
      "text/plain": [
       "'\\nThis is another way of making comments\\nover\\nseveral lines\\n'"
      ]
     },
     "execution_count": 1,
     "metadata": {},
     "output_type": "execute_result"
    }
   ],
   "source": [
    "# This is a python cell\n",
    "# All the code run here (ctrl+enter/shift+enter/the 'play' button)\n",
    "# will be run and the output presented below\n",
    "# These lines behind the '#' are comments and will be ignored by the interpreter\n",
    "\n",
    "'''\n",
    "This is another way of making comments\n",
    "over\n",
    "several lines\n",
    "'''"
   ]
  },
  {
   "cell_type": "markdown",
   "metadata": {},
   "source": [
    "Jupyter notebooks automatically display anything at the bottom of the cell when it's run in the cell output \n",
    "```python\n",
    "Out [1]:\n",
    "```\n",
    "\n",
    "In this case, the multi-line string has been printed. the ```\\n``` character is the ascii new line character.\n",
    "\n",
    "### Loops\n",
    "Loops are insructions that are repeated. For example, you may want to apply an operation to every file in a folder, or to every number in a sequence. The format of a ```for loop``` is:\n",
    "```python\n",
    "for i in <insert_iterable_object_here>: # the colon is essential\n",
    "    # do something\n",
    "    print(i)\n",
    "    custom_function(i)\n",
    "```\n",
    "* An iterable object is a sequence of ```things```, e.g. the list ```[1,2,3,4,5]``` (more on lists later)\n",
    "* ```i``` can be repaced by any string if you want. It's value is updated to the next item in the ```iterable``` object in each iteration.\n",
    "* ```custom_function``` represents a function that will be performed on ```i```. The syntax of using functions is ```<fuction_name>(variables...)```, more on that later too."
   ]
  },
  {
   "cell_type": "code",
   "execution_count": 2,
   "metadata": {},
   "outputs": [
    {
     "name": "stdout",
     "output_type": "stream",
     "text": [
      "2\n",
      "4\n",
      "6\n"
     ]
    }
   ],
   "source": [
    "for i in [1,2,3]: # for each item in the set [1,2,3]\n",
    "    print(i*2)"
   ]
  },
  {
   "cell_type": "markdown",
   "metadata": {
    "colab_type": "text",
    "id": "53OWPk3AYEQB"
   },
   "source": [
    "# Variables and ```types```\n",
    "\n",
    "\n",
    "Just like in maths, variables in python are handles for data\n",
    "\n",
    "Here's a few examples of the fundamental data types stored in variables\n",
    "\n",
    "It's important to touch on ```data types```, which are attributes of a variable that are important for the ```interpreter``` to process the operation. Below, I've listed some of the most simple data types."
   ]
  },
  {
   "cell_type": "code",
   "execution_count": 3,
   "metadata": {
    "colab": {
     "base_uri": "https://localhost:8080/",
     "height": 85
    },
    "colab_type": "code",
    "id": "MvIDEQBuYEQC",
    "outputId": "fdc1b295-b7e4-4f40-ebfe-555ed35fce21"
   },
   "outputs": [
    {
     "name": "stdout",
     "output_type": "stream",
     "text": [
      "10      <class 'int'>\n",
      "9.02984      <class 'float'>\n",
      "this is a string      <class 'str'>\n",
      "True      <class 'bool'>\n"
     ]
    }
   ],
   "source": [
    "a = 10   # this is an integer (int)\n",
    "b = 9.02984  # this is a floating point number (float) - a number with a decimal point\n",
    "# floats and integers are stored differently on the computer\n",
    "c = 'this is a string'\n",
    "d = True # this is a bool (boolean), which can be either True or False (always with a capital first letter)\n",
    "\n",
    "list_of_variables = [a,b,c,d] # this is a list\n",
    "\n",
    "# lists are 'iterable', which means that you can loop through them like this:\n",
    "\n",
    "for i in list_of_variables: \n",
    "        \n",
    "    print(i,'    ',type(i))\n",
    "    \n",
    "    #'i' is just a variable that changes each time,\n",
    "    # you can use any letter or word though\n",
    "    # you can print multiple variables in a print statement\n",
    "    # the 'type()' function returns what type of thing the variable is"
   ]
  },
  {
   "cell_type": "markdown",
   "metadata": {
    "colab_type": "text",
    "id": "rAP1iDrpbw45"
   },
   "source": [
    "These are simple variables on which you can build arbitarily complex objects, from publication quality figures to molecular dynamics simulations to artificial neural networks."
   ]
  },
  {
   "cell_type": "markdown",
   "metadata": {
    "colab_type": "text",
    "id": "MOB9e_3fYEQQ"
   },
   "source": [
    "## Functions\n",
    "\n",
    " Functions are useful. They can be written to perform complex operations, or simple ones. Here, we'll write a function that helps us calculate how to make a dilution.\n",
    " \n",
    " I want a function that calculates what volume of liquid A to add to liquid B\n",
    " to get a final concentration of C.\n",
    "I've rearranged the equation :\n",
    "\n",
    "\\begin{equation*}\n",
    "C1 \\times V1=C2 \\times V2\n",
    " \\end{equation*}\n",
    " into:\n",
    " \n",
    " \\begin{equation*}\n",
    " V1=\\frac{C2 \\times V2}{C1}\n",
    " \\end{equation*}\n",
    " \n",
    " where $V1$ is the volume of solution A to add to $V2$ of solution B. \n",
    " $C1$ is the concentrtation of A and $C2$ is the concentration of B.\n",
    " \n",
    "\n",
    " Functions are defined like this:\n",
    "\n",
    "```python\n",
    "def f(): # def #function name# (parenthesis) any parameters go in here # colon\n",
    "        ... # indented code # note '...' doesn't do anything\n",
    "        # do something\n",
    "``` \n",
    "\n",
    "  where ```def``` specifies that this is a function, ```f``` is the name of the function and ```()``` optionally contains placeholders for variables. Even if your function does not take in variables, you'll still need to include the parenthesis. Code follows the  ```:``` on the next lines after an indentation, which sets it apart from the rest of the script. \n",
    "  \n",
    "  Functions can optionally ```return``` an output, which can be anything from a ```float``` to a web page. A colon follows the parenthesis, and then the code that specifies our fuction. \n",
    " \n",
    "  ```python\n",
    "def f(x):\n",
    "    return x**2\n",
    "```\n",
    "\n",
    "## Common Mistakes:\n",
    "### Missing colon\n",
    "```python\n",
    "def f()\n",
    "    return x**2\n",
    "```\n",
    "    \n",
    "### No indentation\n",
    "```python\n",
    "def f():\n",
    "return x**2\n",
    "```\n",
    "    \n",
    " ### No Brackets\n",
    " \n",
    " ```python\n",
    "def f:\n",
    "    return x**2\n",
    "  ```  \n",
    " ### Not enough arguments\n",
    " ```python\n",
    "def f(x):\n",
    "    return x**2\n",
    "\n",
    "f()\n",
    "```\n",
    "\n",
    "```\n",
    "ERROR\n",
    "```\n",
    "\n",
    "### Too many arguments\n",
    "```python\n",
    "def f(x):\n",
    "    return x**2\n",
    "\n",
    "f(1,3)\n",
    "```\n",
    "\n",
    "```\n",
    "ERROR\n",
    "```\n",
    "\n",
    "### Invalid type\n",
    "```python\n",
    "def f(x):\n",
    "    return x**2\n",
    "f('a')\n",
    "```\n",
    "\n",
    "```\n",
    "ERROR\n",
    "```"
   ]
  },
  {
   "cell_type": "code",
   "execution_count": 4,
   "metadata": {
    "colab": {},
    "colab_type": "code",
    "id": "IxkkWEpKYEQS"
   },
   "outputs": [],
   "source": [
    "def WhatVolumeDoIAdd(c1,c2,v2):\n",
    "\n",
    "    # here's how I'm calculating v1:\n",
    "    v1=(c2+v2)/c1\n",
    "    # and returning it\n",
    "    return v1"
   ]
  },
  {
   "cell_type": "markdown",
   "metadata": {
    "colab_type": "text",
    "id": "xz8SntWWYEQZ"
   },
   "source": [
    "#### Time to test the function!\n",
    "Let's say I need to make the concentration of ð-Amino-Levulnic acid (ð-ALA) in my cell culture broth 100µM. \n",
    "* $C2$ = 100uM (target conc of ð-ALA)\n",
    "* $C1$ = 0.45 M (my stock solution of ð-ALA)\n",
    "* $V2$ = 500 ml (volume of cell culture)"
   ]
  },
  {
   "cell_type": "code",
   "execution_count": 5,
   "metadata": {
    "colab": {
     "base_uri": "https://localhost:8080/",
     "height": 34
    },
    "colab_type": "code",
    "id": "bACUg_OZYEQb",
    "outputId": "edd292df-e576-4cc1-e074-8630af8894eb"
   },
   "outputs": [
    {
     "name": "stdout",
     "output_type": "stream",
     "text": [
      "1.1111333333333333 µl\n"
     ]
    }
   ],
   "source": [
    "# First I have to normalize all the units. I'll but everything into uM and ul\n",
    "c1 = 0.45 * 10e6 # M to uM. 10e6 is python's scientific notation for 1*10^6\n",
    "c2 = 100 # uM\n",
    "v2 = 500 * 10e3 # ml to ul\n",
    "\n",
    "v1 = WhatVolumeDoIAdd(c1 ,c2, v2)\n",
    "\n",
    "print(v1, 'µl') # for the 'µ' symbol, use AltGr+m"
   ]
  },
  {
   "cell_type": "code",
   "execution_count": 6,
   "metadata": {
    "colab": {
     "base_uri": "https://localhost:8080/",
     "height": 34
    },
    "colab_type": "code",
    "id": "Gc3y4G4zYEQi",
    "outputId": "8b933f6b-f27f-4d4b-d568-08494b6d3e07"
   },
   "outputs": [
    {
     "name": "stdout",
     "output_type": "stream",
     "text": [
      "1.11 µl\n"
     ]
    }
   ],
   "source": [
    "# I can round the answer like ths:\n",
    "\n",
    "print(round(v1, 2), 'µl') # round() takes the number to be rounded, then the number of decimals. I did 2."
   ]
  },
  {
   "cell_type": "markdown",
   "metadata": {
    "colab_type": "text",
    "id": "zPBC5v95rxmZ"
   },
   "source": [
    "# Dictionaries\n",
    "\n",
    "Dictionaries are recognisable for their ```{}``` 'curly' braces. They function as a lookup system, where you can store and access lots of variables under one roof. We'll put them into action here with a DNA translator."
   ]
  },
  {
   "cell_type": "code",
   "execution_count": 7,
   "metadata": {
    "colab": {},
    "colab_type": "code",
    "id": "rSg_3TXEwNA6"
   },
   "outputs": [],
   "source": [
    "# Here's the open reading frame for P450 BM3 in a pET15b plasmid:\n",
    "# the '\\' is an 'escape character' which lets me put in a line break mid-string \n",
    "# without upsetting the interpreter\n",
    "seq = 'atgacaattaaagaaatgcctcagccaaaaacgtttggagagcttaaaaatttaccgttattaaacacagataa\\\n",
    "accggttcaagctttgatgaaaattgcggatgaattaggagaaatctttaaattcgaggcgcctggccgtgtaacgcgcta\\\n",
    "cttatcaagtcagcgtctaattaaagaagcatgcgatgaatcacgctttgataaaaacttaagtcaagcgcttaaatttgt\\\n",
    "acgtgattttGCAggagacgggttaTTTacaagctggacgcatgaaaaaaattggaaaaaagcgcataatatcttacttcc\\\n",
    "aagcttcagtcagcaggcaatgaaaggctatcatgcgatgatggtcgatatcgccgtgcagcttgttcaaaagtgggagcg\\\n",
    "tctaaatgcagatgagcatattgaggtaccggaagacatgacacgtttaacgcttgatacaattggtctttgcggctttaa\\\n",
    "ctatcgctttaacagcttttaccgagatcagcctcatccatttattacaagtatggtccgtgcactggatgaagcaatgaa\\\n",
    "caagctgcagcgagcaaatccagacgacccagcttatgatgaaaacaagcgccagtttcaagaagatatcaaggtgatgaa\\\n",
    "cgacctagtagataaaattattgcagatcgcaaagcaagcggtgaacaaagcgatgatttattaacgcacatgctaaacgg\\\n",
    "aaaagatccagaaacgggtgagccgcttgatgacgagaacattcgctatcaaattattacattcttaattgcgggacacga\\\n",
    "aacaactagtggtcttttatcatttgcgctgtatttcttagtgaaaaatccacatgtattacaaaaagcagcagaagaagc\\\n",
    "agcacgagttctagtagatcctgttccaagctacaaacaagtcaaacagcttaaatatgtcggcatggtcttaaacgaagc\\\n",
    "gctgcgcttatggccaactgctcctgcgttttccctatatgcaaaagaagatacggtgcttggaggagaatatcctttaga\\\n",
    "aaaaggcgacgaactaatggttctgattcctcagcttcaccgtgataaaacaatttggggagacgatgtggaagagttccg\\\n",
    "tccagagcgttttgaaaatccaagtgcgattccgcagcatgcgtttaaaccgtttggaaacggtcagcgtgcgtgtatcgg\\\n",
    "tcagcagttcgctcttcatgaagcaacgctggtcctaggtatgatgctaaaacactttgactttgaagatcatacaaacta\\\n",
    "cgagctggatattaaagaaactttaacgttaaaacctgaaggctttgtggtaaaagcaaaatcgaaaaaaattccgcttgg\\\n",
    "cggtattccttcacctagcactgaacagtctgctaaaaaagtacgcaaaaagggctgctaaca'"
   ]
  },
  {
   "cell_type": "code",
   "execution_count": 8,
   "metadata": {
    "colab": {
     "base_uri": "https://localhost:8080/",
     "height": 34
    },
    "colab_type": "code",
    "id": "1wGcTNp81B7f",
    "outputId": "dc37e4ea-02d3-4fc9-ab88-0c0d0cdcad7b"
   },
   "outputs": [
    {
     "data": {
      "text/plain": [
       "'G'"
      ]
     },
     "execution_count": 8,
     "metadata": {},
     "output_type": "execute_result"
    }
   ],
   "source": [
    "# Here's a dictionary that functions as a codon table. \n",
    "# Each entry is seperated by a comma and contains two values\n",
    "# like this a:b. Access the contents like this:\n",
    "# contents = DictionaryName[key] \n",
    "# where 'key' can be anything. Usually numbers or strings.\n",
    "\n",
    "CodonTable = {'ATA':'I', 'ATC':'I', 'ATT':'I', 'ATG':'M',\n",
    "        'ACA':'T', 'ACC':'T', 'ACG':'T', 'ACT':'T',\n",
    "        'AAC':'N', 'AAT':'N', 'AAA':'K', 'AAG':'K',\n",
    "        'AGC':'S', 'AGT':'S', 'AGA':'R', 'AGG':'R',\n",
    "        'CTA':'L', 'CTC':'L', 'CTG':'L', 'CTT':'L',\n",
    "        'CCA':'P', 'CCC':'P', 'CCG':'P', 'CCT':'P',\n",
    "        'CAC':'H', 'CAT':'H', 'CAA':'Q', 'CAG':'Q',\n",
    "        'CGA':'R', 'CGC':'R', 'CGG':'R', 'CGT':'R',\n",
    "        'GTA':'V', 'GTC':'V', 'GTG':'V', 'GTT':'V',\n",
    "        'GCA':'A', 'GCC':'A', 'GCG':'A', 'GCT':'A',\n",
    "        'GAC':'D', 'GAT':'D', 'GAA':'E', 'GAG':'E',\n",
    "        'GGA':'G', 'GGC':'G', 'GGG':'G', 'GGT':'G',\n",
    "        'TCA':'S', 'TCC':'S', 'TCG':'S', 'TCT':'S',\n",
    "        'TTC':'F', 'TTT':'F', 'TTA':'L', 'TTG':'L',\n",
    "        'TAC':'Y', 'TAT':'Y', 'TAA':'_', 'TAG':'_',\n",
    "        'TGC':'C', 'TGT':'C', 'TGA':'_', 'TGG':'W'}\n",
    "\n",
    "# Access some amino acids\n",
    "CodonTable['GGG'] # return (and print) the amino acid corresponding to 'GGG'"
   ]
  },
  {
   "cell_type": "code",
   "execution_count": 9,
   "metadata": {
    "colab": {
     "base_uri": "https://localhost:8080/",
     "height": 54
    },
    "colab_type": "code",
    "id": "prF59C1P3myZ",
    "outputId": "aa3c1e8e-2159-4b57-f1b3-72bcbe3b7660"
   },
   "outputs": [
    {
     "data": {
      "text/plain": [
       "'ATGACAATTAAAGAAATGCCTCAGCCAAAAACGTTTGGAGAGCTTAAAAATTTACCGTTATTAAACACAGATAAACCGGTTCAAGCTTTGATGAAAATTGCGGATGAATTAGGAGAAATCTTTAAATTCGAGGCGCCTGGCCGTGTAACGCGCTACTTATCAAGTCAGCGTCTAATTAAAGAAGCATGCGATGAATCACGCTTTGATAAAAACTTAAGTCAAGCGCTTAAATTTGTACGTGATTTTGCAGGAGACGGGTTATTTACAAGCTGGACGCATGAAAAAAATTGGAAAAAAGCGCATAATATCTTACTTCCAAGCTTCAGTCAGCAGGCAATGAAAGGCTATCATGCGATGATGGTCGATATCGCCGTGCAGCTTGTTCAAAAGTGGGAGCGTCTAAATGCAGATGAGCATATTGAGGTACCGGAAGACATGACACGTTTAACGCTTGATACAATTGGTCTTTGCGGCTTTAACTATCGCTTTAACAGCTTTTACCGAGATCAGCCTCATCCATTTATTACAAGTATGGTCCGTGCACTGGATGAAGCAATGAACAAGCTGCAGCGAGCAAATCCAGACGACCCAGCTTATGATGAAAACAAGCGCCAGTTTCAAGAAGATATCAAGGTGATGAACGACCTAGTAGATAAAATTATTGCAGATCGCAAAGCAAGCGGTGAACAAAGCGATGATTTATTAACGCACATGCTAAACGGAAAAGATCCAGAAACGGGTGAGCCGCTTGATGACGAGAACATTCGCTATCAAATTATTACATTCTTAATTGCGGGACACGAAACAACTAGTGGTCTTTTATCATTTGCGCTGTATTTCTTAGTGAAAAATCCACATGTATTACAAAAAGCAGCAGAAGAAGCAGCACGAGTTCTAGTAGATCCTGTTCCAAGCTACAAACAAGTCAAACAGCTTAAATATGTCGGCATGGTCTTAAACGAAGCGCTGCGCTTATGGCCAACTGCTCCTGCGTTTTCCCTATATGCAAAAGAAGATACGGTGCTTGGAGGAGAATATCCTTTAGAAAAAGGCGACGAACTAATGGTTCTGATTCCTCAGCTTCACCGTGATAAAACAATTTGGGGAGACGATGTGGAAGAGTTCCGTCCAGAGCGTTTTGAAAATCCAAGTGCGATTCCGCAGCATGCGTTTAAACCGTTTGGAAACGGTCAGCGTGCGTGTATCGGTCAGCAGTTCGCTCTTCATGAAGCAACGCTGGTCCTAGGTATGATGCTAAAACACTTTGACTTTGAAGATCATACAAACTACGAGCTGGATATTAAAGAAACTTTAACGTTAAAACCTGAAGGCTTTGTGGTAAAAGCAAAATCGAAAAAAATTCCGCTTGGCGGTATTCCTTCACCTAGCACTGAACAGTCTGCTAAAAAAGTACGCAAAAAGGGCTGCTAACA'"
      ]
     },
     "execution_count": 9,
     "metadata": {},
     "output_type": "execute_result"
    }
   ],
   "source": [
    "# The keys in the dictionary are upper case, so I'll need to change case of either them\n",
    "# or the sequence\n",
    "# I'll use the .upper() built in function that can be called on strings\n",
    "\n",
    "seq  = seq.upper() # seq is now updated to be uppercase\n",
    "seq"
   ]
  },
  {
   "cell_type": "markdown",
   "metadata": {},
   "source": [
    "### ```range(start, stop, step)```\n",
    "\n",
    "The ```range``` function is built in to python, which means we don't need to write it or import it ourselves. It generates in ```iterable``` set of ```integers``` between ```start``` and ```stop``` (inclusive of ```start``` exlusive of ```stop```). ```start``` has a default value of ```0```, and ```step``` is ```1``` by default, so we can get away with typing:\n",
    "```python\n",
    "range(10)\n",
    "```\n",
    "for ```start = 0```, ```stop = 10``` and ```step = 1```. You'll notice that the ```range``` function doesn't return a list of numbers straight away, because it's a **\"lazy function\"**, which only generates the numbers when absolutely necessary, like when it's iterated over in a loop, or we call:\n",
    "```python\n",
    "In  [1]: list(range(10))\n",
    "Out [1]: [0, 1, 2, 3, 4, 5, 6, 7, 8, 9]\n",
    "```\n",
    "Notice that it generates numbers up to, but not including 10. \n",
    "\n",
    "If we need to generate every $n^{th}$ number, then we set the ```step``` parameter as $n$. ```range``` interpretes our parameters based on their order, so we'll explicitly set the ```start``` as 0, ```stop``` at 10 and ```step``` of 2.\n",
    "```python\n",
    "In  [2]: list(range(0,10,2))\n",
    "Out [2]: [0, 2, 4, 6, 8]\n",
    "```"
   ]
  },
  {
   "cell_type": "code",
   "execution_count": 17,
   "metadata": {
    "colab": {
     "base_uri": "https://localhost:8080/",
     "height": 34
    },
    "colab_type": "code",
    "id": "cyUVEg8M5Lx0",
    "outputId": "e6a02075-c2d0-4023-fdbe-6bcf8f8a8238"
   },
   "outputs": [
    {
     "data": {
      "text/plain": [
       "['ATG', 'ACA', 'ATT', 'AAA', 'GAA', 'ATG', 'CCT', 'CAG', 'CCA', 'AAA']"
      ]
     },
     "execution_count": 17,
     "metadata": {},
     "output_type": "execute_result"
    }
   ],
   "source": [
    "triplet_list = []\n",
    "for i in range(0,len(seq),3):\n",
    "    triplet = seq[i:i+3]\n",
    "    triplet_list.append(triplet)\n",
    "\n",
    "triplet_list[0:10] # Select the first 10 triplets to display"
   ]
  },
  {
   "cell_type": "code",
   "execution_count": 18,
   "metadata": {
    "colab": {
     "base_uri": "https://localhost:8080/",
     "height": 34
    },
    "colab_type": "code",
    "id": "TPkZvzOb_LRx",
    "outputId": "be436cd9-4950-43f4-ced9-105b3717b3bc"
   },
   "outputs": [
    {
     "name": "stdout",
     "output_type": "stream",
     "text": [
      "['M', 'T', 'I', 'K', 'E', 'M', 'P', 'Q', 'P', 'K']\n"
     ]
    }
   ],
   "source": [
    "translation = []\n",
    "\n",
    "for i in triplets:\n",
    "    if len(i) == 3:\n",
    "        aa = CodonTable[i]\n",
    "        translation.append(aa)\n",
    "print(translation[0:10])"
   ]
  },
  {
   "cell_type": "code",
   "execution_count": 19,
   "metadata": {
    "colab": {},
    "colab_type": "code",
    "id": "358A63cWAKdT"
   },
   "outputs": [
    {
     "name": "stdout",
     "output_type": "stream",
     "text": [
      "MTIKEMPQPKTFGELKNLPLLNTDKPVQALMKIADELGEIFKFEAPGRVTRYLSSQRLIKEACDESRFDKNLSQALKFVRDFAGDGLFTSWTHEKNWKKAHNILLPSFSQQAMKGYHAMMVDIAVQLVQKWERLNADEHIEVPEDMTRLTLDTIGLCGFNYRFNSFYRDQPHPFITSMVRALDEAMNKLQRANPDDPAYDENKRQFQEDIKVMNDLVDKIIADRKASGEQSDDLLTHMLNGKDPETGEPLDDENIRYQIITFLIAGHETTSGLLSFALYFLVKNPHVLQKAAEEAARVLVDPVPSYKQVKQLKYVGMVLNEALRLWPTAPAFSLYAKEDTVLGGEYPLEKGDELMVLIPQLHRDKTIWGDDVEEFRPERFENPSAIPQHAFKPFGNGQRACIGQQFALHEATLVLGMMLKHFDFEDHTNYELDIKETLTLKPEGFVVKAKSKKIPLGGIPSPSTEQSAKKVRKKGC_\n"
     ]
    }
   ],
   "source": [
    "translation_string = ''.join(translation)\n",
    "\n",
    "print(translation_string)"
   ]
  },
  {
   "cell_type": "code",
   "execution_count": null,
   "metadata": {},
   "outputs": [],
   "source": []
  }
 ],
 "metadata": {
  "colab": {
   "collapsed_sections": [],
   "name": "Copy of PythonForBiologists1-Basics.ipynb",
   "provenance": []
  },
  "kernelspec": {
   "display_name": "Python 3",
   "language": "python",
   "name": "python3"
  },
  "language_info": {
   "codemirror_mode": {
    "name": "ipython",
    "version": 3
   },
   "file_extension": ".py",
   "mimetype": "text/x-python",
   "name": "python",
   "nbconvert_exporter": "python",
   "pygments_lexer": "ipython3",
   "version": "3.7.6"
  }
 },
 "nbformat": 4,
 "nbformat_minor": 4
}
