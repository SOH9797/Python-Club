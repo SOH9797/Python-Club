{
 "cells": [
  {
   "cell_type": "markdown",
   "metadata": {},
   "source": [
    "# Curve Fitting\n",
    "The [Michaelis-Menten](https://en.wikipedia.org/wiki/Michaelis%E2%80%93Menten_kinetics) model of enzyme kinetics describes how an enzymes rate of reaction changes with substrate concentration and provides useful constants, namely $k_m$  that summarises the activity level of the enzyme.\n",
    "\n",
    "In this notebook we'll download some (synthetic) enzyme kinetics data and fit a line to the data accoring to the equation:\n",
    "$$v = V_{max} \\times \\frac{[S]}{k_m + [S]}$$\n",
    "\n",
    "* where $v$ is the rate of reaction (velocity), dependent variable (y)\n",
    "* $[S]$ is the substrate concentration, independent variable (x)\n",
    "* $V_{max}$ is the maimum possible rate of reaction - constant \n",
    "* $k_m$ is the Michaelis constant - inverse of enzyme:substrate affinity - constant\n",
    "\n",
    "By varying $k_m$ and $V_{max}$  we can adjust the curve so that it fits our data. We will use an optimisation algorithm from ```scipy.optimise``` to fit the curve, then measure the fit with the $r^2$ score."
   ]
  },
  {
   "cell_type": "code",
   "execution_count": 1,
   "metadata": {},
   "outputs": [
    {
     "name": "stdout",
     "output_type": "stream",
     "text": [
      "First file: \t ../tutorial-data/curve-fitting/Enzyme-vmax=4.08-km=31.71.csv\n"
     ]
    },
    {
     "data": {
      "text/html": [
       "<div>\n",
       "<style scoped>\n",
       "    .dataframe tbody tr th:only-of-type {\n",
       "        vertical-align: middle;\n",
       "    }\n",
       "\n",
       "    .dataframe tbody tr th {\n",
       "        vertical-align: top;\n",
       "    }\n",
       "\n",
       "    .dataframe thead th {\n",
       "        text-align: right;\n",
       "    }\n",
       "</style>\n",
       "<table border=\"1\" class=\"dataframe\">\n",
       "  <thead>\n",
       "    <tr style=\"text-align: right;\">\n",
       "      <th></th>\n",
       "      <th>[Substrate]/µM</th>\n",
       "      <th>Reaction Rate</th>\n",
       "    </tr>\n",
       "  </thead>\n",
       "  <tbody>\n",
       "    <tr>\n",
       "      <th>0</th>\n",
       "      <td>0.000000</td>\n",
       "      <td>-0.030798</td>\n",
       "    </tr>\n",
       "    <tr>\n",
       "      <th>1</th>\n",
       "      <td>7.142857</td>\n",
       "      <td>0.813815</td>\n",
       "    </tr>\n",
       "    <tr>\n",
       "      <th>2</th>\n",
       "      <td>14.285714</td>\n",
       "      <td>1.273770</td>\n",
       "    </tr>\n",
       "    <tr>\n",
       "      <th>3</th>\n",
       "      <td>21.428571</td>\n",
       "      <td>1.762318</td>\n",
       "    </tr>\n",
       "    <tr>\n",
       "      <th>4</th>\n",
       "      <td>28.571429</td>\n",
       "      <td>1.903437</td>\n",
       "    </tr>\n",
       "    <tr>\n",
       "      <th>5</th>\n",
       "      <td>35.714286</td>\n",
       "      <td>2.094922</td>\n",
       "    </tr>\n",
       "    <tr>\n",
       "      <th>6</th>\n",
       "      <td>42.857143</td>\n",
       "      <td>2.220173</td>\n",
       "    </tr>\n",
       "    <tr>\n",
       "      <th>7</th>\n",
       "      <td>50.000000</td>\n",
       "      <td>2.397875</td>\n",
       "    </tr>\n",
       "    <tr>\n",
       "      <th>8</th>\n",
       "      <td>57.142857</td>\n",
       "      <td>2.600122</td>\n",
       "    </tr>\n",
       "    <tr>\n",
       "      <th>9</th>\n",
       "      <td>64.285714</td>\n",
       "      <td>2.746610</td>\n",
       "    </tr>\n",
       "    <tr>\n",
       "      <th>10</th>\n",
       "      <td>71.428571</td>\n",
       "      <td>2.822048</td>\n",
       "    </tr>\n",
       "    <tr>\n",
       "      <th>11</th>\n",
       "      <td>78.571429</td>\n",
       "      <td>2.775557</td>\n",
       "    </tr>\n",
       "    <tr>\n",
       "      <th>12</th>\n",
       "      <td>85.714286</td>\n",
       "      <td>3.011227</td>\n",
       "    </tr>\n",
       "    <tr>\n",
       "      <th>13</th>\n",
       "      <td>92.857143</td>\n",
       "      <td>2.964131</td>\n",
       "    </tr>\n",
       "    <tr>\n",
       "      <th>14</th>\n",
       "      <td>100.000000</td>\n",
       "      <td>2.988001</td>\n",
       "    </tr>\n",
       "  </tbody>\n",
       "</table>\n",
       "</div>"
      ],
      "text/plain": [
       "    [Substrate]/µM  Reaction Rate\n",
       "0         0.000000      -0.030798\n",
       "1         7.142857       0.813815\n",
       "2        14.285714       1.273770\n",
       "3        21.428571       1.762318\n",
       "4        28.571429       1.903437\n",
       "5        35.714286       2.094922\n",
       "6        42.857143       2.220173\n",
       "7        50.000000       2.397875\n",
       "8        57.142857       2.600122\n",
       "9        64.285714       2.746610\n",
       "10       71.428571       2.822048\n",
       "11       78.571429       2.775557\n",
       "12       85.714286       3.011227\n",
       "13       92.857143       2.964131\n",
       "14      100.000000       2.988001"
      ]
     },
     "execution_count": 1,
     "metadata": {},
     "output_type": "execute_result"
    }
   ],
   "source": [
    "import os\n",
    "import pandas as pd\n",
    "\n",
    "kinetics_data = [i for i in os.listdir('../tutorial-data/curve-fitting') if 'Enzyme' in i]\n",
    "\n",
    "\n",
    "kinetics_csvs = [i for i in kinetics_data if 'csv' in i]\n",
    "kinetics_excels = [i for i in kinetics_data if 'xlsx' in i]\n",
    "\n",
    "first_file_path = os.path.join('../tutorial-data/curve-fitting', kinetics_csvs[0])\n",
    "print(f'First file: \\t {first_file_path}')\n",
    "\n",
    "\n",
    "data = pd.read_csv(first_file_path, index_col =0)\n",
    "data"
   ]
  },
  {
   "cell_type": "code",
   "execution_count": 2,
   "metadata": {},
   "outputs": [
    {
     "data": {
      "image/png": "[encoded data removed]",
      "text/plain": [
       "<Figure size 432x288 with 1 Axes>"
      ]
     },
     "metadata": {
      "needs_background": "light"
     },
     "output_type": "display_data"
    }
   ],
   "source": [
    "import matplotlib.pyplot as plt\n",
    "\n",
    "plt.scatter(data['[Substrate]/µM'], data['Reaction Rate'])\n",
    "plt.ylabel('Rate of reaction s^-1')\n",
    "plt.xlabel('Substrate concentration - µM')\n",
    "plt.show()"
   ]
  },
  {
   "cell_type": "code",
   "execution_count": 3,
   "metadata": {},
   "outputs": [],
   "source": [
    "def michaelis_menten(x,km,vmax):\n",
    "    return (vmax*x)/(km + x)"
   ]
  },
  {
   "cell_type": "code",
   "execution_count": 4,
   "metadata": {},
   "outputs": [
    {
     "data": {
      "image/png": "[encoded data removed]",
      "text/plain": [
       "<Figure size 432x288 with 1 Axes>"
      ]
     },
     "metadata": {
      "needs_background": "light"
     },
     "output_type": "display_data"
    }
   ],
   "source": [
    "x = list(range(0, 100))\n",
    "\n",
    "example_km = 20\n",
    "example_vmax = 2\n",
    "\n",
    "y = [michaelis_menten(i, example_km, example_vmax) for i in x]\n",
    "\n",
    "plt.plot(x,y)\n",
    "plt.title(f'Example Michaelis Menten Plot, km = {example_km} vmax = {example_vmax}')\n",
    "plt.ylabel('Rate of reaction s^-1')\n",
    "plt.xlabel('Substrate concentration - µM')\n",
    "plt.show()"
   ]
  },
  {
   "cell_type": "code",
   "execution_count": 5,
   "metadata": {},
   "outputs": [
    {
     "name": "stdout",
     "output_type": "stream",
     "text": [
      "Km = 29.0517125066596 \t Vmax = 3.895362903247058\n",
      "\n",
      "../tutorial-data/curve-fitting/Enzyme-vmax=4.08-km=31.71.csv\n"
     ]
    }
   ],
   "source": [
    "from scipy.optimize import curve_fit\n",
    "\n",
    "params, covariance = curve_fit(michaelis_menten, data['[Substrate]/µM'], data['Reaction Rate'])\n",
    "\n",
    "print(f'Km = {params[0]} \\t Vmax = {params[1]}')\n",
    "print()\n",
    "print(first_file_path)"
   ]
  },
  {
   "cell_type": "code",
   "execution_count": 6,
   "metadata": {},
   "outputs": [
    {
     "data": {
      "image/png": "[encoded data removed]",
      "text/plain": [
       "<Figure size 432x288 with 1 Axes>"
      ]
     },
     "metadata": {
      "needs_background": "light"
     },
     "output_type": "display_data"
    }
   ],
   "source": [
    "predicted_km = params[0]\n",
    "predicted_vmax = params[1]\n",
    "\n",
    "x = list(range(0, 100))\n",
    "y = [michaelis_menten(i, predicted_km, predicted_vmax) for i in x]\n",
    "\n",
    "plt.plot(x,y)\n",
    "plt.scatter(data['[Substrate]/µM'], data['Reaction Rate'])\n",
    "plt.ylabel('Rate of reaction s^-1')\n",
    "plt.xlabel('Substrate concentration - µM')\n",
    "plt.show()"
   ]
  },
  {
   "cell_type": "code",
   "execution_count": 7,
   "metadata": {},
   "outputs": [
    {
     "data": {
      "text/plain": [
       "0.9949247487280384"
      ]
     },
     "execution_count": 7,
     "metadata": {},
     "output_type": "execute_result"
    }
   ],
   "source": [
    "# r squared\n",
    "# the easy way\n",
    "from sklearn.metrics import r2_score\n",
    "\n",
    "# ?r2_score\n",
    "# Signature: r2_score(y_true, y_pred, sample_weight=None, multioutput='uniform_average')\n",
    "\n",
    "y_true = data['Reaction Rate']\n",
    "y_pred = michaelis_menten(data['[Substrate]/µM'], predicted_km, predicted_vmax)\n",
    "\n",
    "r2_score(y_true=y_true, y_pred=y_pred)"
   ]
  },
  {
   "cell_type": "code",
   "execution_count": 8,
   "metadata": {},
   "outputs": [
    {
     "data": {
      "text/plain": [
       "0.9949247487280384"
      ]
     },
     "execution_count": 8,
     "metadata": {},
     "output_type": "execute_result"
    }
   ],
   "source": [
    "# the hands on way\n",
    "\n",
    "sum_squares_total = sum((y_true - y_true.mean())**2)\n",
    "sum_squares_residual = sum((y_true - y_pred)**2)\n",
    "\n",
    "r_2 = 1 - (sum_squares_residual / sum_squares_total)\n",
    "r_2"
   ]
  },
  {
   "cell_type": "markdown",
   "metadata": {},
   "source": [
    "# Exercises\n",
    "\n",
    "### Function Building\n",
    "* Define a function that reads one of the enzyme kinetics csvs links and returns the km, vmax and r^2\n",
    "\n",
    "### Loops\n",
    "* Use the function you defined to find the km, vmax and r^2 of all csv files provided, using a ```for``` loop\n",
    "\n",
    "### New Curves\n",
    "* Look at and plot this dataset: ```https://github.com/UoMMIB/Python-Club/raw/master/Tutorials/../tutorial-data/curve-fitting/FluoresenceRegulation.csv```;\n",
    "\n",
    "it's a damped sine curve that follows the equation:\n",
    " $$y = 1 + \\frac{sin(p1 \\times x)}{x \\times p2}$$\n",
    "\n",
    "\n",
    " where $p1$ and $p2$ are parameters to be found.\n",
    "\n",
    " * Define a function that gives $y$ from $x$, $p1$ and $p2$ \n",
    " * Use that function and ```scipy.optimize.curve_fit``` to find $p1$ and $p2$ \n",
    "\n"
   ]
  }
 ],
 "metadata": {
  "kernelspec": {
   "display_name": "Python 3",
   "language": "python",
   "name": "python3"
  },
  "language_info": {
   "codemirror_mode": {
    "name": "ipython",
    "version": 3
   },
   "file_extension": ".py",
   "mimetype": "text/x-python",
   "name": "python",
   "nbconvert_exporter": "python",
   "pygments_lexer": "ipython3",
   "version": "3.7.6"
  }
 },
 "nbformat": 4,
 "nbformat_minor": 4
}
