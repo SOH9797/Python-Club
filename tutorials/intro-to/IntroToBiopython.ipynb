{
 "cells": [
  {
   "cell_type": "markdown",
   "metadata": {},
   "source": [
    "# Aim\n",
    "### To introduce a handful of tools for sequence data\n",
    "#### Including:\n",
    "* [**BioPython:**](https://biopython.org/)  A bioinformatics toolbox. [**Official Tutorial**](http://biopython.org/DIST/docs/tutorial/Tutorial.html) **Installation:** ```conda install -c anaconda biopython``` or ```pip install biopython```. Includes tools for: Reading and manipulating sequences, aligning sequences"
   ]
  },
  {
   "cell_type": "code",
   "execution_count": 1,
   "metadata": {},
   "outputs": [
    {
     "data": {
      "text/plain": [
       "Seq('tatggctgtgcaggtcgtaaatcactgcataattcgtgtcgctcaaggcgcac')"
      ]
     },
     "execution_count": 1,
     "metadata": {},
     "output_type": "execute_result"
    }
   ],
   "source": [
    "from Bio import Seq\n",
    "\n",
    "snippet = Seq.Seq('tatggctgtgcaggtcgtaaatcactgcata\\\n",
    "attcgtgtcgctcaaggcgcac')\n",
    "\n",
    "snippet"
   ]
  },
  {
   "cell_type": "code",
   "execution_count": 2,
   "metadata": {},
   "outputs": [
    {
     "name": "stdout",
     "output_type": "stream",
     "text": [
      "Complement:\t ataccgacacgtccagcatttagtgacgtattaagcacagcgagttccgcgtg\n",
      "Reverse Complement:\t gtgcgccttgagcgacacgaattatgcagtgatttacgacctgcacagccata\n",
      "Transcription:\t uauggcugugcaggucguaaaucacugcauaauucgugucgcucaaggcgcac\n",
      "Translation ORF 1:\t YGCAGRKSLHNSCRSRR\n",
      "Translation ORF 2:\t MAVQVVNHCIIRVAQGA\n"
     ]
    },
    {
     "name": "stderr",
     "output_type": "stream",
     "text": [
      "/home/james/anaconda3/lib/python3.7/site-packages/Bio/Seq.py:2859: BiopythonWarning: Partial codon, len(sequence) not a multiple of three. Explicitly trim the sequence or add trailing N before translation. This may become an error in future.\n",
      "  BiopythonWarning,\n"
     ]
    }
   ],
   "source": [
    "print('Complement:\\t',snippet.complement())\n",
    "print('Reverse Complement:\\t',snippet.reverse_complement())\n",
    "print('Transcription:\\t',snippet.transcribe())\n",
    "print('Translation ORF 1:\\t',snippet.translate())\n",
    "print('Translation ORF 2:\\t',snippet[1:].translate())"
   ]
  },
  {
   "cell_type": "code",
   "execution_count": 3,
   "metadata": {},
   "outputs": [
    {
     "data": {
      "text/plain": [
       "<generator object FastaIterator at 0x7fe90011a9d0>"
      ]
     },
     "execution_count": 3,
     "metadata": {},
     "output_type": "execute_result"
    }
   ],
   "source": [
    "from Bio import SeqIO\n",
    "\n",
    "fasta = SeqIO.parse('tutorial-data/pBbe1k-RFP.fasta', format='fasta')\n",
    "fasta # generator, explain"
   ]
  },
  {
   "cell_type": "code",
   "execution_count": 4,
   "metadata": {},
   "outputs": [
    {
     "name": "stdout",
     "output_type": "stream",
     "text": [
      "1\n"
     ]
    },
    {
     "data": {
      "text/plain": [
       "SeqRecord(seq=Seq('gacgtcgacaccatcgaatggtgcaaaacctttcgcggtatggcatgatagcgc...tcc', SingleLetterAlphabet()), id='pBbE1k-RFP', name='pBbE1k-RFP', description=' pBbE1k-RFP sequence 4206 bps', dbxrefs=[])"
      ]
     },
     "execution_count": 4,
     "metadata": {},
     "output_type": "execute_result"
    }
   ],
   "source": [
    "fasta = list(fasta) # unpack\n",
    "print(len(fasta)) # how many items\n",
    "plasmid = fasta[0] # access first item\n",
    "plasmid"
   ]
  },
  {
   "cell_type": "code",
   "execution_count": 5,
   "metadata": {},
   "outputs": [
    {
     "name": "stdout",
     "output_type": "stream",
     "text": [
      " pBbE1k-RFP sequence 4206 bps\n"
     ]
    }
   ],
   "source": [
    "print(plasmid.description)"
   ]
  },
  {
   "cell_type": "code",
   "execution_count": 6,
   "metadata": {},
   "outputs": [
    {
     "data": {
      "text/plain": [
       "SeqRecord(seq=Seq('GACGTCGACACCATCGAATGGTGCAAAACCTTTCGCGGTATGGCATGATAGCGC...TCC', IUPACAmbiguousDNA()), id='.', name='Exported', description='synthetic circular DNA', dbxrefs=[])"
      ]
     },
     "execution_count": 6,
     "metadata": {},
     "output_type": "execute_result"
    }
   ],
   "source": [
    "plasmid_annotated = SeqIO.parse('tutorial-data/pBbe1k-RFP.gbk', format = 'gb')\n",
    "plasmid_annotated = list(plasmid_annotated)[0]\n",
    "plasmid_annotated"
   ]
  },
  {
   "cell_type": "code",
   "execution_count": 7,
   "metadata": {},
   "outputs": [
    {
     "name": "stdout",
     "output_type": "stream",
     "text": [
      "synthetic circular DNA\n",
      ".\n",
      "source [0:4206](+)\n",
      "promoter [6:84](+)\n",
      "CDS [84:1167](+)\n",
      "primer_bind [103:123](-)\n",
      "promoter [1398:1428](+)\n",
      "protein_bind [1435:1452](+)\n",
      "CDS [1492:2170](+)\n",
      "terminator [2202:2274](+)\n",
      "terminator [2289:2317](+)\n",
      "rep_origin [2474:3063](-)\n",
      "primer_bind [2554:2574](-)\n",
      "terminator [3150:3245](+)\n",
      "CDS [3275:4070](-)\n",
      "primer_bind [3386:3406](-)\n",
      "primer_bind [3996:4016](+)\n"
     ]
    }
   ],
   "source": [
    "print(plasmid_annotated.description)\n",
    "print(plasmid_annotated.id)\n",
    "\n",
    "for i in plasmid_annotated.features:\n",
    "    print(i.type, i.location)"
   ]
  },
  {
   "cell_type": "code",
   "execution_count": 8,
   "metadata": {},
   "outputs": [],
   "source": [
    "cds1 = plasmid_annotated[84:1167]\n",
    "cds2 = plasmid_annotated[1492:2170]\n",
    "cds3 = plasmid_annotated[3275:4070].reverse_complement()"
   ]
  },
  {
   "cell_type": "code",
   "execution_count": 9,
   "metadata": {},
   "outputs": [],
   "source": [
    "unkownProtein1 = cds1.translate() \n",
    "unkownProtein2 = cds2.translate() \n",
    "unkownProtein3 = cds3.translate() "
   ]
  },
  {
   "cell_type": "code",
   "execution_count": 10,
   "metadata": {},
   "outputs": [],
   "source": [
    "#>sp|Q9U6Y8|RFP_DISSP Red fluorescent protein drFP583 OS=Discosoma sp. OX=86600 PE=1 SV=1\n",
    "rfp_seq = '''MRSSKNVIKEFMRFKVRMEGTVNGHEFEIEGEGEGRPYEGHNTVKLKVTKGGPLPFAWDI\n",
    "LSPQFQYGSKVYVKHPADIPDYKKLSFPEGFKWERVMNFEDGGVVTVTQDSSLQDGCFIY\n",
    "KVKFIGVNFPSDGPVMQKKTMGWEASTERLYPRDGVLKGEIHKALKLKDGGHYLVEFKSI\n",
    "YMAKKPVQLPGYYYVDSKLDITSHNEDYTIVEQYERTEGRHHLFL'''"
   ]
  },
  {
   "cell_type": "code",
   "execution_count": 11,
   "metadata": {
    "scrolled": true
   },
   "outputs": [
    {
     "name": "stdout",
     "output_type": "stream",
     "text": [
      "Number of alignments: 336\n",
      "\n",
      "\n",
      "\n",
      "First sequence:  MA-SSED--VIKEFMRFKVRMEGS-VNGHE\n",
      "Second sequence:  M-RSS--KNVIKEFMRFKVRMEG-TVNGHE\n",
      "Alignment score = 193.0\n",
      "Alignment start = 0\n",
      "Alignment end = 261\n"
     ]
    }
   ],
   "source": [
    "from Bio import pairwise2\n",
    "\n",
    "alignments = pairwise2.align.globalxx(unkownProtein2.seq, rfp_seq)\n",
    "\n",
    "print(f'Number of alignments: {len(alignments)}') # returns list of alignmets\n",
    "top_alignment = alignments[0] # each alignment is a tuple \n",
    "\n",
    "print('\\n\\n')\n",
    "print('First sequence: ',top_alignment[0][0:30])\n",
    "print('Second sequence: ',top_alignment[1][0:30])\n",
    "print(f'Alignment score = {top_alignment[2]}')\n",
    "print(f'Alignment start = {top_alignment[3]}')\n",
    "print(f'Alignment end = {top_alignment[4]}')"
   ]
  },
  {
   "cell_type": "code",
   "execution_count": 12,
   "metadata": {},
   "outputs": [
    {
     "data": {
      "text/html": [
       "<div>\n",
       "<style scoped>\n",
       "    .dataframe tbody tr th:only-of-type {\n",
       "        vertical-align: middle;\n",
       "    }\n",
       "\n",
       "    .dataframe tbody tr th {\n",
       "        vertical-align: top;\n",
       "    }\n",
       "\n",
       "    .dataframe thead th {\n",
       "        text-align: right;\n",
       "    }\n",
       "</style>\n",
       "<table border=\"1\" class=\"dataframe\">\n",
       "  <thead>\n",
       "    <tr style=\"text-align: right;\">\n",
       "      <th></th>\n",
       "      <th>0</th>\n",
       "      <th>1</th>\n",
       "      <th>2</th>\n",
       "      <th>3</th>\n",
       "      <th>4</th>\n",
       "      <th>5</th>\n",
       "      <th>6</th>\n",
       "      <th>7</th>\n",
       "      <th>8</th>\n",
       "      <th>9</th>\n",
       "      <th>...</th>\n",
       "      <th>251</th>\n",
       "      <th>252</th>\n",
       "      <th>253</th>\n",
       "      <th>254</th>\n",
       "      <th>255</th>\n",
       "      <th>256</th>\n",
       "      <th>257</th>\n",
       "      <th>258</th>\n",
       "      <th>259</th>\n",
       "      <th>260</th>\n",
       "    </tr>\n",
       "  </thead>\n",
       "  <tbody>\n",
       "    <tr>\n",
       "      <th>pBbe1k-RFP</th>\n",
       "      <td>M</td>\n",
       "      <td>A</td>\n",
       "      <td>-</td>\n",
       "      <td>S</td>\n",
       "      <td>S</td>\n",
       "      <td>E</td>\n",
       "      <td>D</td>\n",
       "      <td>-</td>\n",
       "      <td>-</td>\n",
       "      <td>V</td>\n",
       "      <td>...</td>\n",
       "      <td>H</td>\n",
       "      <td>S</td>\n",
       "      <td>T</td>\n",
       "      <td>G</td>\n",
       "      <td>A</td>\n",
       "      <td>*</td>\n",
       "      <td>-</td>\n",
       "      <td>-</td>\n",
       "      <td>-</td>\n",
       "      <td>-</td>\n",
       "    </tr>\n",
       "    <tr>\n",
       "      <th>RFP_DISSP</th>\n",
       "      <td>M</td>\n",
       "      <td>-</td>\n",
       "      <td>R</td>\n",
       "      <td>S</td>\n",
       "      <td>S</td>\n",
       "      <td>-</td>\n",
       "      <td>-</td>\n",
       "      <td>K</td>\n",
       "      <td>N</td>\n",
       "      <td>V</td>\n",
       "      <td>...</td>\n",
       "      <td>H</td>\n",
       "      <td>-</td>\n",
       "      <td>-</td>\n",
       "      <td>-</td>\n",
       "      <td>-</td>\n",
       "      <td>-</td>\n",
       "      <td>H</td>\n",
       "      <td>L</td>\n",
       "      <td>F</td>\n",
       "      <td>L</td>\n",
       "    </tr>\n",
       "  </tbody>\n",
       "</table>\n",
       "<p>2 rows × 261 columns</p>\n",
       "</div>"
      ],
      "text/plain": [
       "           0   1   2   3   4   5   6   7   8   9    ... 251 252 253 254 255  \\\n",
       "pBbe1k-RFP   M   A   -   S   S   E   D   -   -   V  ...   H   S   T   G   A   \n",
       "RFP_DISSP    M   -   R   S   S   -   -   K   N   V  ...   H   -   -   -   -   \n",
       "\n",
       "           256 257 258 259 260  \n",
       "pBbe1k-RFP   *   -   -   -   -  \n",
       "RFP_DISSP    -   H   L   F   L  \n",
       "\n",
       "[2 rows x 261 columns]"
      ]
     },
     "execution_count": 12,
     "metadata": {},
     "output_type": "execute_result"
    }
   ],
   "source": [
    "import pandas as pd\n",
    "\n",
    "alignment_df = pd.DataFrame([list(top_alignment[0]), list(top_alignment[1])],\n",
    "                           index = ['pBbe1k-RFP','RFP_DISSP'])\n",
    "\n",
    "alignment_df"
   ]
  },
  {
   "cell_type": "code",
   "execution_count": 13,
   "metadata": {},
   "outputs": [
    {
     "name": "stdout",
     "output_type": "stream",
     "text": [
      "Conservation: 26.05 %\n"
     ]
    }
   ],
   "source": [
    "conserved_residue_count = 0\n",
    "for i in alignment_df:\n",
    "    if len(alignment_df[i].unique()) <2:\n",
    "        conserved_residue_count += 1\n",
    "        \n",
    "print(f'Conservation: {round(conserved_residue_count/alignment_df.shape[1]*100, 2)} %')"
   ]
  }
 ],
 "metadata": {
  "kernelspec": {
   "display_name": "Python 3",
   "language": "python",
   "name": "python3"
  },
  "language_info": {
   "codemirror_mode": {
    "name": "ipython",
    "version": 3
   },
   "file_extension": ".py",
   "mimetype": "text/x-python",
   "name": "python",
   "nbconvert_exporter": "python",
   "pygments_lexer": "ipython3",
   "version": "3.7.6"
  }
 },
 "nbformat": 4,
 "nbformat_minor": 4
}
