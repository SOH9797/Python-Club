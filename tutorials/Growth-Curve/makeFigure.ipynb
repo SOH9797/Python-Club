{
 "cells": [
  {
   "cell_type": "code",
   "execution_count": 1,
   "metadata": {},
   "outputs": [],
   "source": [
    "import numpy as np\n",
    "import matplotlib.pyplot as plt\n",
    "from sklearn.neighbors import KernelDensity"
   ]
  },
  {
   "cell_type": "markdown",
   "metadata": {},
   "source": [
    "Use this to estimate a smooth kernel density."
   ]
  },
  {
   "cell_type": "code",
   "execution_count": 2,
   "metadata": {},
   "outputs": [],
   "source": [
    "kde = KernelDensity(bandwidth=5.0, kernel='gaussian')"
   ]
  },
  {
   "cell_type": "markdown",
   "metadata": {},
   "source": [
    "Make some fake 'population' data"
   ]
  },
  {
   "cell_type": "code",
   "execution_count": 3,
   "metadata": {},
   "outputs": [],
   "source": [
    "N = 5000\n",
    "N2 = N // 2"
   ]
  },
  {
   "cell_type": "code",
   "execution_count": 4,
   "metadata": {},
   "outputs": [],
   "source": [
    "x = [i for i in range(N)]"
   ]
  },
  {
   "cell_type": "markdown",
   "metadata": {},
   "source": [
    "Let make it bimodal so that it's clearly *not* a Normal Gaussian distribution"
   ]
  },
  {
   "cell_type": "code",
   "execution_count": 5,
   "metadata": {},
   "outputs": [
    {
     "name": "stdout",
     "output_type": "stream",
     "text": [
      "42.387446822824444 155.7152009589928\n"
     ]
    }
   ],
   "source": [
    "y = np.zeros(N)\n",
    "y[0:N2] = np.random.normal(100,15,N2)\n",
    "y[N2:] = np.random.normal(75,5,N2 )\n",
    "print(min(y),max(y))"
   ]
  },
  {
   "cell_type": "code",
   "execution_count": 6,
   "metadata": {},
   "outputs": [],
   "source": [
    "x_d = np.linspace(40, 160, N)"
   ]
  },
  {
   "cell_type": "code",
   "execution_count": 7,
   "metadata": {},
   "outputs": [],
   "source": [
    "y = y.reshape(N,1)"
   ]
  },
  {
   "cell_type": "code",
   "execution_count": 8,
   "metadata": {},
   "outputs": [
    {
     "data": {
      "text/plain": [
       "KernelDensity(algorithm='auto', atol=0, bandwidth=5.0, breadth_first=True,\n",
       "              kernel='gaussian', leaf_size=40, metric='euclidean',\n",
       "              metric_params=None, rtol=0)"
      ]
     },
     "execution_count": 8,
     "metadata": {},
     "output_type": "execute_result"
    }
   ],
   "source": [
    "kde.fit(y)"
   ]
  },
  {
   "cell_type": "code",
   "execution_count": 9,
   "metadata": {},
   "outputs": [],
   "source": [
    "logp = kde.score_samples(x_d.reshape(N,1))"
   ]
  },
  {
   "cell_type": "markdown",
   "metadata": {},
   "source": [
    "Make use of plt.subplot for five plots within one figure"
   ]
  },
  {
   "cell_type": "code",
   "execution_count": 10,
   "metadata": {},
   "outputs": [
    {
     "data": {
      "image/png": "[encoded data removed]",
      "text/plain": [
       "<Figure size 864x864 with 5 Axes>"
      ]
     },
     "metadata": {
      "needs_background": "light"
     },
     "output_type": "display_data"
    }
   ],
   "source": [
    "#just use the mean as the 'derived property'\n",
    "m  = np.mean(y)\n",
    "mt = f' m={m:0.1f}'\n",
    "\n",
    "fig = plt.figure(figsize=(12,12))\n",
    "\n",
    "plt.subplot(331);\n",
    "\n",
    "plt.subplots_adjust(hspace=0.2,wspace=0.25)\n",
    "\n",
    "#plot1: The Population\n",
    "plt.plot(x_d,np.exp(logp))\n",
    "plt.xlim(40,160)\n",
    "plt.ylim(0,0.04)\n",
    "#plt.title('Population Probability Distribution, F\\nwith some derived property, m\\n(both unknown)')\n",
    "plt.text(m,0.035,mt,color='r')\n",
    "plt.vlines(m,0,0.035,color='r')\n",
    "\n",
    "#plots 2, 3 & 4 samples with n=30 for three empiricle distributions\n",
    "plt.subplot(334)\n",
    "t = 6\n",
    "yh = np.random.choice(y[:,0],30,False)\n",
    "m = np.mean(yh)\n",
    "mt = f' m_hat={m:0.1f}'\n",
    "plt.hist(yh,bins=20,edgecolor='blue',color='cyan')\n",
    "plt.xlim(40,160)\n",
    "plt.ylim(0,7)\n",
    "#plt.title('Empirical Probability Distribution, F_hat\\nwith estimated property, m_hat\\n based on 30 samples')\n",
    "plt.text(m,t,mt,color='r')\n",
    "plt.vlines(m,0,t,color='r')\n",
    "\n",
    "plt.subplot(335)\n",
    "yh = np.random.choice(y[:,0],30,False)\n",
    "m = np.mean(yh)\n",
    "mt = f' m_hat={m:0.1f}'\n",
    "plt.hist(yh,bins=20,edgecolor='blue',color='cyan')\n",
    "plt.xlim(40,160)\n",
    "plt.ylim(0,7)\n",
    "#plt.title('Empirical Probability Distribution, F_hat\\nwith estimated property, m_hat\\n based on 30 samples')\n",
    "plt.text(m,t,mt,color='r')\n",
    "plt.vlines(m,0,t,color='r')\n",
    "\n",
    "plt.subplot(336)\n",
    "yh = np.random.choice(y[:,0],30,False)\n",
    "m = np.mean(yh)\n",
    "mt = f' m_hat={m:0.1f}'\n",
    "plt.hist(yh,bins=20,edgecolor='blue',color='cyan')\n",
    "plt.xlim(40,160)\n",
    "plt.ylim(0,7)\n",
    "#plt.title('Empirical Probability Distribution, F_hat\\nwith estimated property, m_hat\\n based on 30 samples')\n",
    "plt.text(m,t,mt,color='r')\n",
    "plt.vlines(m,0,t,color='r')\n",
    "\n",
    "#do 10000 n=30 samples and calculate m\n",
    "m = []\n",
    "for i in range(10000):\n",
    "    yh = np.random.choice(y[:,0],100,False)\n",
    "    m.append(np.mean(yh))\n",
    "\n",
    "mn = np.mean(m)\n",
    "mt = f' t_hat={mn:0.1f}'\n",
    "\n",
    "#plot 5: the sampling distribution of m\n",
    "plt.subplot(339)\n",
    "t = 700\n",
    "plt.hist(m,bins=50,color='r',edgecolor='b')\n",
    "plt.xlim(75,100)\n",
    "plt.ylim(0,800)\n",
    "#plt.title('Empirical Sampling Distribution of m_hat\\nwith estimated property\\n t_hat, an estimate of the population property m')\n",
    "plt.text(mn,t,mt,color='b')\n",
    "plt.vlines(mn,0,t,color='b')\n",
    "plt.text(78,600,'For n= 30',color='b')\n",
    "plt.show()"
   ]
  },
  {
   "cell_type": "markdown",
   "metadata": {},
   "source": [
    "Screen-snip the figure and add text + arrows using photo editor or other suitable software. [I used Powerpoint]"
   ]
  },
  {
   "cell_type": "code",
   "execution_count": null,
   "metadata": {},
   "outputs": [],
   "source": []
  }
 ],
 "metadata": {
  "kernelspec": {
   "display_name": "tfp37",
   "language": "python",
   "name": "tfp37"
  },
  "language_info": {
   "codemirror_mode": {
    "name": "ipython",
    "version": 3
   },
   "file_extension": ".py",
   "mimetype": "text/x-python",
   "name": "python",
   "nbconvert_exporter": "python",
   "pygments_lexer": "ipython3",
   "version": "3.7.7"
  }
 },
 "nbformat": 4,
 "nbformat_minor": 4
}
