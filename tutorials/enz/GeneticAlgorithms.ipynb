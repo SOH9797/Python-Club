{
 "cells": [
  {
   "cell_type": "markdown",
   "metadata": {},
   "source": [
    "# genetic algorithms & enzyme engineering\n",
    "\n",
    "Genetic algorithms are optimisation algorithms inspired by natural evolution that maximise or minimize a particular score function. \n",
    "\n",
    "They can be used in enzyme engineering to optimize a set of amino acids according to a desired function.\n",
    "\n",
    "Like Darwinian evolution, the best performing 'genes' are selected from a large pool and repopulated by mating, which involves recombination and mutation of parent genes. Several iterations of the selection/mating process will yeild high scoring mutants.\n",
    "\n",
    "In the case of enzyme engineering mutants can be selected based on how well they perform in a simulated task. Each iteration tends to yeild better performing mutants. \n",
    "\n",
    "Generally, the steps are:\n",
    "\n",
    "```python\n",
    "def generate_random_pop(n):\n",
    "    ...\n",
    "    return pop # random, len(pop) == n\n",
    "\n",
    "def score(gene):\n",
    "    ...\n",
    "    return score\n",
    "\n",
    "def select(pop, n):\n",
    "    ...\n",
    "    return n_best # n best by score()\n",
    "\n",
    "def breed(pop, n):\n",
    "    # mutate & crossover genes in the process\n",
    "    ...\n",
    "    return pop # mutants, len(pop) == n\n",
    "\n",
    "def genetic_algorithm(pop, n_iterations):\n",
    "    max_pop_size = len(pop) # not essential\n",
    "    selection_size = 10 \n",
    "        \n",
    "    for i in range(num_iterations):\n",
    "        pop = breed(pop, n = max_pop_size) # repopulate & mutate\n",
    "        pop = select_best(pop, n = selection_size)\n",
    "    return pop # return the best\n",
    "\n",
    "starting_pop = generate_random_pop(n = 10) # population 10 random genes\n",
    "\n",
    "good_mutants = genetic_algorithm(starting_pop, n_iterations = 10)\n",
    "```\n",
    "\n",
    "The selection process involves assessing the entire population according to some performance function. Evaluating this for an entire population can be time consuming if done one at a time. Since there is no interdependence between each performance evaluation, the population can be evaluated in parralel. \n",
    "\n",
    "Genetic algorithms tend to perform best with large populations. As a result, their effectiveness can be constrained by the available processing power.\n",
    "\n",
    "## example - ```A``` content\n",
    "\n",
    "well generate genes with dna characters & score based on the A content. here's a quick description of what we'll need to make:\n",
    "- ```generate_random_pop_dna(``` - generate a random starting population, though starting populations can also be based on a reference sequence\n",
    "- ```a_content(``` - an easy evaluation function for the example\n",
    "- ```mutate_dna(``` - randomly choose a position & substitute with a random base\n",
    "- ```cross(``` - recombination - cut two genes at a random position and splice the different fragments together. This creates two possible combinations, so one is randomly chosen\n",
    "- ```select(``` -  return a fraction of the population that score best"
   ]
  },
  {
   "cell_type": "code",
   "execution_count": 1,
   "metadata": {},
   "outputs": [
    {
     "data": {
      "text/plain": [
       "['ACAACTATCCTAACCGCTTT',\n",
       " 'ACATCCATAAATACGTCATT',\n",
       " 'CAGCGATAAAGCAACTTGTA',\n",
       " 'TCTTACCGCTGTTTACATGC',\n",
       " 'CTCGTATGCCCTTGTGCTGT']"
      ]
     },
     "execution_count": 1,
     "metadata": {},
     "output_type": "execute_result"
    }
   ],
   "source": [
    "import random\n",
    "\n",
    "def generate_random_pop_dna(length, n):\n",
    "    return [''.join(random.choices('ACTG', k = length)) for i in range(n)]\n",
    "\n",
    "generate_random_pop_dna(20, 5)"
   ]
  },
  {
   "cell_type": "code",
   "execution_count": 2,
   "metadata": {},
   "outputs": [
    {
     "data": {
      "text/plain": [
       "0.21428571428571427"
      ]
     },
     "execution_count": 2,
     "metadata": {},
     "output_type": "execute_result"
    }
   ],
   "source": [
    "def a_content(gene):\n",
    "    return sum([i == 'A' for i in gene]) / len(gene)\n",
    "\n",
    "a_content('GCATGTCGTAGCTA')"
   ]
  },
  {
   "cell_type": "code",
   "execution_count": 3,
   "metadata": {},
   "outputs": [
    {
     "name": "stdout",
     "output_type": "stream",
     "text": [
      "ACTG\n",
      "GCTG\n",
      "ACTG\n",
      "ACTC\n",
      "ACTG\n"
     ]
    }
   ],
   "source": [
    "def mutate_dna(gene):\n",
    "    gene = list(gene) # lists can be modified\n",
    "    pos = random.randint(0, len(gene) - 1)\n",
    "    gene[pos] = random.choice('ACTG')\n",
    "    return ''.join(gene)\n",
    "\n",
    "for i in range(5):\n",
    "    print(mutate_dna('ACTG'))"
   ]
  },
  {
   "cell_type": "code",
   "execution_count": 4,
   "metadata": {},
   "outputs": [
    {
     "name": "stdout",
     "output_type": "stream",
     "text": [
      "AAAAACC\n",
      "AAAAAAC\n",
      "ACCCCCC\n",
      "CCCCCC\n",
      "ACCCCCC\n"
     ]
    }
   ],
   "source": [
    "def cross(a, b):\n",
    "    cut_point = random.randint(0, min(len(a), len(b)))\n",
    "    ab = a[:cut_point] + b[cut_point:]\n",
    "    ba = b[:cut_point] + a[cut_point:]\n",
    "    return random.choice([ab,ba])\n",
    "\n",
    "for i in range(5):\n",
    "    print(cross('AAAAAA', 'CCCCCCC'))"
   ]
  },
  {
   "cell_type": "code",
   "execution_count": 5,
   "metadata": {},
   "outputs": [
    {
     "data": {
      "text/plain": [
       "['AGCAATGGTTCCAGACGGAT',\n",
       " 'AACATCTGACCCCCATTCAC',\n",
       " 'GTCAACGAAAGGCATGTGCG',\n",
       " 'TCTATAATATTGAGACTTTC']"
      ]
     },
     "execution_count": 5,
     "metadata": {},
     "output_type": "execute_result"
    }
   ],
   "source": [
    "from heapq import nlargest\n",
    "\n",
    "def select(pop, score_fn, fraction):\n",
    "    n = round(fraction * len(pop))\n",
    "    return nlargest(n, pop, key = score_fn)\n",
    "\n",
    "select(pop = generate_random_pop_dna(20, 10), \n",
    "       score_fn = a_content, \n",
    "       fraction = 0.4)"
   ]
  },
  {
   "cell_type": "code",
   "execution_count": 6,
   "metadata": {},
   "outputs": [
    {
     "name": "stdout",
     "output_type": "stream",
     "text": [
      "0.55\n",
      "0.6\n",
      "0.65\n",
      "0.7\n",
      "0.75\n",
      "0.75\n",
      "0.8\n",
      "0.85\n",
      "0.9\n",
      "0.9\n"
     ]
    }
   ],
   "source": [
    "pop = generate_random_pop_dna(20, 100)\n",
    "pop_size = len(pop)\n",
    "\n",
    "best = lambda p : max(map(a_content, p))\n",
    "\n",
    "for iteration in range(10):\n",
    "    pop = select(pop, a_content, 0.1)\n",
    "    pop += random.choices(pop, k = pop_size - len(pop))\n",
    "    pop = [mutate_dna(i) for i in pop]\n",
    "    print(best(pop))"
   ]
  },
  {
   "cell_type": "code",
   "execution_count": 7,
   "metadata": {},
   "outputs": [
    {
     "name": "stdout",
     "output_type": "stream",
     "text": [
      "0.65\n",
      "0.8\n",
      "0.85\n",
      "0.9\n",
      "0.95\n",
      "0.95\n",
      "0.95\n",
      "1.0\n",
      "1.0\n",
      "1.0\n"
     ]
    }
   ],
   "source": [
    "pop = generate_random_pop_dna(20, 100)\n",
    "pop_size = len(pop)\n",
    "\n",
    "\n",
    "for iteration in range(10):\n",
    "    pop = select(pop, a_content, 0.1)\n",
    "    pop = [cross(*random.choices(pop, k = 2)) for i in range(pop_size)]\n",
    "    pop = [mutate_dna(i) for i in pop]\n",
    "    print(best(pop))"
   ]
  },
  {
   "cell_type": "code",
   "execution_count": 8,
   "metadata": {},
   "outputs": [
    {
     "data": {
      "text/plain": [
       "0.4"
      ]
     },
     "execution_count": 8,
     "metadata": {},
     "output_type": "execute_result"
    }
   ],
   "source": [
    "def experiment(pop_size, n_iter, length, selection_fraction):\n",
    "    pop = generate_random_pop_dna(length, pop_size)\n",
    "    for i in range(n_iter):\n",
    "        pop = select(pop, a_content, selection_fraction)\n",
    "        pop = [cross(*random.choices(pop, k = 2)) for i in range(pop_size)]\n",
    "        pop = [mutate_dna(i) for i in pop]\n",
    "    return best(pop)\n",
    "        \n",
    "\n",
    "experiment(pop_size = 10, \n",
    "           n_iter = 3, \n",
    "           length = 40, \n",
    "           selection_fraction = 0.1)"
   ]
  },
  {
   "cell_type": "markdown",
   "metadata": {},
   "source": [
    "## bigger is better\n",
    "in large populations, good solutions are found faster"
   ]
  },
  {
   "cell_type": "code",
   "execution_count": 15,
   "metadata": {},
   "outputs": [
    {
     "data": {
      "image/png": "[encoded data removed]",
      "text/plain": [
       "<Figure size 720x720 with 2 Axes>"
      ]
     },
     "metadata": {
      "needs_background": "light"
     },
     "output_type": "display_data"
    }
   ],
   "source": [
    "import numpy as np\n",
    "import matplotlib.pyplot as plt\n",
    "\n",
    "\n",
    "popsizes = range(5,30)\n",
    "iteration_ranges = range(2,20)\n",
    "\n",
    "arr = np.array([[experiment(pop_size = i,\n",
    "                            n_iter =j, \n",
    "                            length = 20, \n",
    "                            selection_fraction = 0.2)\\\n",
    "          for i in popsizes] for j in iteration_ranges])\n",
    "\n",
    "plt.figure(figsize = (10,10))\n",
    "plt.imshow(arr)\n",
    "plt.title('best scores of parameter combinations')\n",
    "plt.xlabel('population size')\n",
    "plt.xticks(range(len(popsizes)), popsizes)\n",
    "plt.ylabel('number of iterations')\n",
    "plt.yticks(range(len(iteration_ranges)), iteration_ranges)\n",
    "plt.colorbar(label = 'best score', orientation = 'horizontal')\n",
    "plt.show()"
   ]
  },
  {
   "cell_type": "markdown",
   "metadata": {},
   "source": [
    "### parralelization\n",
    "with a large population size & a time-consuming evaluation function, it makes sense to run the evalutions in parralel. the builtin python library ```multiprocessing``` is for managing parralel tasks. "
   ]
  },
  {
   "cell_type": "code",
   "execution_count": 10,
   "metadata": {
    "scrolled": true
   },
   "outputs": [
    {
     "name": "stdout",
     "output_type": "stream",
     "text": [
      "ATCCGTGTTTCGGGTAGCTA 0.2\n",
      "GAACTCCGATTTACGTGTAC 0.25\n",
      "ATGCATCTTTATAGCTAACG 0.2\n",
      "AAGCGACGGATCGGGCGAGA 0.2\n",
      "GGGCAACGCAATAGATACCT 0.25\n"
     ]
    }
   ],
   "source": [
    "import time\n",
    "\n",
    "def c_content_slow(gene):\n",
    "    time.sleep(1)\n",
    "    return sum([i == 'C' for i in gene]) / len(gene)\n",
    "\n",
    "pop = generate_random_pop_dna(length = 20, n = 5)\n",
    "\n",
    "for i in pop:\n",
    "    print(i, c_content_slow(i))"
   ]
  },
  {
   "cell_type": "markdown",
   "metadata": {},
   "source": []
  },
  {
   "cell_type": "code",
   "execution_count": 11,
   "metadata": {},
   "outputs": [
    {
     "data": {
      "text/plain": [
       "[0.2, 0.25, 0.2, 0.2, 0.25]"
      ]
     },
     "execution_count": 11,
     "metadata": {},
     "output_type": "execute_result"
    }
   ],
   "source": [
    "import multiprocessing\n",
    "\n",
    "def c_content_parralel(pop):\n",
    "    # with (aka resource manager) automatically closes the pool after it's done\n",
    "    with multiprocessing.Pool(processes = len(pop)) as pool:\n",
    "        results = pool.map(c_content_slow, pop)\n",
    "    pool.join() # wait for processes to finish\n",
    "    return results\n",
    "\n",
    "\n",
    "c_content_parralel(pop)"
   ]
  },
  {
   "cell_type": "code",
   "execution_count": 12,
   "metadata": {},
   "outputs": [
    {
     "name": "stdout",
     "output_type": "stream",
     "text": [
      "1.06 s ± 6.85 ms per loop (mean ± std. dev. of 7 runs, 1 loop each)\n"
     ]
    }
   ],
   "source": [
    "%%timeit \n",
    "c_content_parralel(pop)"
   ]
  },
  {
   "cell_type": "code",
   "execution_count": 13,
   "metadata": {},
   "outputs": [
    {
     "data": {
      "text/plain": [
       "['CTTCCGATGCACGAAGCCCC',\n",
       " 'CCCGCTTCGGTCTAGGCCTA',\n",
       " 'CAAAGCCAGTACTCCATCCA',\n",
       " 'GACGTCTGCAATCCCCGCTT',\n",
       " 'GGAGCCGCAACGCCCATCTT',\n",
       " 'ATTGCCCCCGAGCGTCTGGC',\n",
       " 'CTCCACACAAAATTACCGAC',\n",
       " 'GCCCCGGAGCTGTCCAGCGT',\n",
       " 'TACAGGGCATTCCTCACGTC',\n",
       " 'GAGAGAGCCGTGTCCCACTC']"
      ]
     },
     "execution_count": 13,
     "metadata": {},
     "output_type": "execute_result"
    }
   ],
   "source": [
    "def select_parralel(pop, parralel_fn, frac = 0.1):\n",
    "    scores_dict = dict(zip(pop, parralel_fn(pop)))\n",
    "    return  nlargest(round(len(pop) * frac), \n",
    "                           scores_dict.keys(), \n",
    "                           key = lambda i : scores_dict[i])\n",
    "    \n",
    "pop = generate_random_pop_dna(length = 20, n = 100)\n",
    "select_parralel(pop, c_content_parralel)"
   ]
  },
  {
   "cell_type": "code",
   "execution_count": 14,
   "metadata": {},
   "outputs": [
    {
     "name": "stdout",
     "output_type": "stream",
     "text": [
      "0.65\n",
      "0.75\n",
      "0.8\n",
      "0.85\n",
      "0.9\n",
      "0.95\n",
      "0.95\n",
      "1.0\n",
      "1.0\n",
      "1.0\n"
     ]
    }
   ],
   "source": [
    "pop = generate_random_pop_dna(length = 20, n = 100)\n",
    "pop_size = len(pop)\n",
    "\n",
    "c_content_fast = lambda gene : sum([i == 'C' for i in gene]) / len(gene)\n",
    "best_c_content = lambda pop : max([c_content_fast(i) for i in pop])\n",
    "\n",
    "for iteration in range(10):\n",
    "    pop = select_parralel(pop, c_content_parralel, frac = 0.1)\n",
    "    pop = [cross(*random.choices(pop, k = 2)) for i in range(pop_size)]\n",
    "    pop = [mutate_dna(i) for i in pop]\n",
    "    print(best_c_content(pop))"
   ]
  },
  {
   "cell_type": "markdown",
   "metadata": {},
   "source": [
    "# genetic algorithms with ```enz```\n",
    "\n",
    "```python\n",
    "import enz\n",
    "import random\n",
    "import heapq\n",
    "import multiprocessing\n",
    "\n",
    "from my_stuff import bm3_sequence, custom_docking_score\n",
    "\n",
    "AAS = ['A', 'C', 'D', 'E', 'F', 'G', 'H', 'I', 'K', 'L', 'M', 'N', 'P', 'Q', 'R', 'S', 'T', 'V', 'W', 'Y']\n",
    "\n",
    "TARGET_SITES = [49, 51, 75, 82, 87, 181, 188, 263, 330]\n",
    "\n",
    "def mutate(gene):\n",
    "    ...\n",
    "\n",
    "def cross(a, b):\n",
    "    ...\n",
    "\n",
    "def evaluate(gene):\n",
    "    mutation_dictionary = dict(zip(TARGET_SITES, gene))\n",
    "    p = enz.protein('1bu7.pdb',\n",
    "                    seq = bm3_sequence, # my residue numbering system\n",
    "                    cofactors = ['HEM']) # keep the heme\n",
    "    for pos in mutation_dictionary:\n",
    "        aa = mutation_dictionary[pos]\n",
    "        p.mutate(pos, aa)\n",
    "    p.refold()\n",
    "    \n",
    "    docking_results = p.dock('CCS(=O)(=O)C1=C(N2C=CC=CC2=N1)S(=O)(=O)NC(=O)NC3=NC(=CC(=N3)OC)OC',\n",
    "                             target_sites = TARGET_SITES)\n",
    "    return custom_docking_score(p, docking_results) # based geometry & affinity\n",
    "\n",
    "def parralel_evaluate(pop):\n",
    "    with multiprocessing.Pool(len(pop)) as pool:\n",
    "        results = pool.map(evaluate, pop)\n",
    "    pool.join()\n",
    "    return results\n",
    "\n",
    "def select_parralel(pop, parralel_fn, frac = 0.1):\n",
    "    scores_dict = dict(zip(pop, parralel_fn(pop)))\n",
    "    return  nlargest(round(len(pop) * frac), \n",
    "                           scores_dict.keys(), \n",
    "                           key = lambda i : scores_dict[i])    \n",
    "\n",
    "def main():\n",
    "    pop_size = 20\n",
    "    pop = [mutate('TYLFVLLIA') for i in range(pop_size)]\n",
    "    for i in range(10):\n",
    "        pop = select_parralel(pop, parralel_evaluate, frac = 0.3)\n",
    "        pop = [cross(*random.choices(pop, k = 2)) for i in range(pop_size)]\n",
    "        pop = [mutate(i) for i in pop]\n",
    "    ...\n",
    "    # save best mutant etc\n",
    "    \n",
    "main()\n",
    "```"
   ]
  }
 ],
 "metadata": {
  "kernelspec": {
   "display_name": "Python 3",
   "language": "python",
   "name": "python3"
  },
  "language_info": {
   "codemirror_mode": {
    "name": "ipython",
    "version": 3
   },
   "file_extension": ".py",
   "mimetype": "text/x-python",
   "name": "python",
   "nbconvert_exporter": "python",
   "pygments_lexer": "ipython3",
   "version": "3.8.3"
  }
 },
 "nbformat": 4,
 "nbformat_minor": 4
}
