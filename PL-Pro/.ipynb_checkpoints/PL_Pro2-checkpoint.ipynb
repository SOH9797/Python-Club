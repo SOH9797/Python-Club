{
 "cells": [
  {
   "cell_type": "code",
   "execution_count": 1,
   "metadata": {},
   "outputs": [
    {
     "data": {
      "application/3dmoljs_load.v0": "<div id=\"3dmolviewer_15889308735495753\"  style=\"position: relative; width: 640px; height: 480px\">\n        <p id=\"3dmolwarning_15889308735495753\" style=\"background-color:#ffcccc;color:black\">You appear to be running in JupyterLab (or JavaScript failed to load for some other reason).  You need to install the 3dmol extension: <br>\n        <tt>jupyter labextension install jupyterlab_3dmol</tt></p>\n        </div>\n<script>\n\nvar loadScriptAsync = function(uri){\n  return new Promise((resolve, reject) => {\n    var tag = document.createElement('script');\n    tag.src = uri;\n    tag.async = true;\n    tag.onload = () => {\n      resolve();\n    };\n  var firstScriptTag = document.getElementsByTagName('script')[0];\n  firstScriptTag.parentNode.insertBefore(tag, firstScriptTag);\n});\n};\n\nif(typeof $3Dmolpromise === 'undefined') {\n$3Dmolpromise = null;\n  $3Dmolpromise = loadScriptAsync('https://3dmol.csb.pitt.edu/build/3Dmol.js');\n}\n\nvar viewer_15889308735495753 = null;\nvar warn = document.getElementById(\"3dmolwarning_15889308735495753\");\nif(warn) {\n    warn.parentNode.removeChild(warn);\n}\n$3Dmolpromise.then(function() {\nviewer_15889308735495753 = $3Dmol.createViewer($(\"#3dmolviewer_15889308735495753\"),{backgroundColor:\"white\"});\n$3Dmol.download(\"pdb:6W9C\", viewer_15889308735495753, {}, function() {\n\tviewer_15889308735495753.setStyle({\"chain\": \"A\"},{\"cartoon\": {\"color\": \"spectrum\"}});\n\tviewer_15889308735495753.addSurface(1,{\"opacity\": 0.7, \"color\": \"white\"},{\"chain\": \"A\"});\nviewer_15889308735495753.render();\n})\n});\n</script>",
      "text/html": [
       "<div id=\"3dmolviewer_15889308735495753\"  style=\"position: relative; width: 640px; height: 480px\">\n",
       "        <p id=\"3dmolwarning_15889308735495753\" style=\"background-color:#ffcccc;color:black\">You appear to be running in JupyterLab (or JavaScript failed to load for some other reason).  You need to install the 3dmol extension: <br>\n",
       "        <tt>jupyter labextension install jupyterlab_3dmol</tt></p>\n",
       "        </div>\n",
       "<script>\n",
       "\n",
       "var loadScriptAsync = function(uri){\n",
       "  return new Promise((resolve, reject) => {\n",
       "    var tag = document.createElement('script');\n",
       "    tag.src = uri;\n",
       "    tag.async = true;\n",
       "    tag.onload = () => {\n",
       "      resolve();\n",
       "    };\n",
       "  var firstScriptTag = document.getElementsByTagName('script')[0];\n",
       "  firstScriptTag.parentNode.insertBefore(tag, firstScriptTag);\n",
       "});\n",
       "};\n",
       "\n",
       "if(typeof $3Dmolpromise === 'undefined') {\n",
       "$3Dmolpromise = null;\n",
       "  $3Dmolpromise = loadScriptAsync('https://3dmol.csb.pitt.edu/build/3Dmol.js');\n",
       "}\n",
       "\n",
       "var viewer_15889308735495753 = null;\n",
       "var warn = document.getElementById(\"3dmolwarning_15889308735495753\");\n",
       "if(warn) {\n",
       "    warn.parentNode.removeChild(warn);\n",
       "}\n",
       "$3Dmolpromise.then(function() {\n",
       "viewer_15889308735495753 = $3Dmol.createViewer($(\"#3dmolviewer_15889308735495753\"),{backgroundColor:\"white\"});\n",
       "$3Dmol.download(\"pdb:6W9C\", viewer_15889308735495753, {}, function() {\n",
       "\tviewer_15889308735495753.setStyle({\"chain\": \"A\"},{\"cartoon\": {\"color\": \"spectrum\"}});\n",
       "\tviewer_15889308735495753.addSurface(1,{\"opacity\": 0.7, \"color\": \"white\"},{\"chain\": \"A\"});\n",
       "viewer_15889308735495753.render();\n",
       "})\n",
       "});\n",
       "</script>"
      ]
     },
     "metadata": {},
     "output_type": "display_data"
    },
    {
     "data": {
      "text/plain": [
       "<py3Dmol.view at 0x7f91604a8fd0>"
      ]
     },
     "execution_count": 1,
     "metadata": {},
     "output_type": "execute_result"
    }
   ],
   "source": [
    "import py3Dmol\n",
    "\n",
    "view = py3Dmol.view(query='pdb:6W9C') # A trimer of the SARS CoV1 PLpro \n",
    "view.setStyle({'chain':'A'},{'cartoon':{'color':'spectrum'}}) # highlight cahin A with cartoon representation\n",
    "view.addSurface(py3Dmol.VDW,{'opacity':0.7,'color':'white'}, {'chain':'A'}) # Add a vanderwaals surface\n",
    "view"
   ]
  },
  {
   "cell_type": "code",
   "execution_count": 2,
   "metadata": {},
   "outputs": [
    {
     "name": "stdout",
     "output_type": "stream",
     "text": [
      "233891\n"
     ]
    },
    {
     "data": {
      "text/html": [
       "<div>\n",
       "<style scoped>\n",
       "    .dataframe tbody tr th:only-of-type {\n",
       "        vertical-align: middle;\n",
       "    }\n",
       "\n",
       "    .dataframe tbody tr th {\n",
       "        vertical-align: top;\n",
       "    }\n",
       "\n",
       "    .dataframe thead th {\n",
       "        text-align: right;\n",
       "    }\n",
       "</style>\n",
       "<table border=\"1\" class=\"dataframe\">\n",
       "  <thead>\n",
       "    <tr style=\"text-align: right;\">\n",
       "      <th></th>\n",
       "      <th>smiles</th>\n",
       "      <th>activity</th>\n",
       "    </tr>\n",
       "  </thead>\n",
       "  <tbody>\n",
       "    <tr>\n",
       "      <th>0</th>\n",
       "      <td>C[C@@H]1CN(C(=O)C2=C(C=CC(=C2)NC(=O)NC3=CC=CC4...</td>\n",
       "      <td>1</td>\n",
       "    </tr>\n",
       "    <tr>\n",
       "      <th>1</th>\n",
       "      <td>C/C(=N\\NC(=S)N)/CC(C1=CC=CC=C1)C2=C(C3=CC=CC=C...</td>\n",
       "      <td>1</td>\n",
       "    </tr>\n",
       "    <tr>\n",
       "      <th>2</th>\n",
       "      <td>C1CCC2=C3C(=NN(C3=O)C4=CC=CC=C4)N=C(N2CC1)SCC(...</td>\n",
       "      <td>1</td>\n",
       "    </tr>\n",
       "    <tr>\n",
       "      <th>3</th>\n",
       "      <td>CCCCCC(=O)N/N=C(\\C)/C1=CC=C(C=C1)N2CCCCC2</td>\n",
       "      <td>1</td>\n",
       "    </tr>\n",
       "    <tr>\n",
       "      <th>4</th>\n",
       "      <td>CC(=O)NC(C1=C(C2=C(C=CC=N2)C=C1)O)C3=CC=CO3</td>\n",
       "      <td>1</td>\n",
       "    </tr>\n",
       "  </tbody>\n",
       "</table>\n",
       "</div>"
      ],
      "text/plain": [
       "                                              smiles  activity\n",
       "0  C[C@@H]1CN(C(=O)C2=C(C=CC(=C2)NC(=O)NC3=CC=CC4...         1\n",
       "1  C/C(=N\\NC(=S)N)/CC(C1=CC=CC=C1)C2=C(C3=CC=CC=C...         1\n",
       "2  C1CCC2=C3C(=NN(C3=O)C4=CC=CC=C4)N=C(N2CC1)SCC(...         1\n",
       "3          CCCCCC(=O)N/N=C(\\C)/C1=CC=C(C=C1)N2CCCCC2         1\n",
       "4        CC(=O)NC(C1=C(C2=C(C=CC=N2)C=C1)O)C3=CC=CO3         1"
      ]
     },
     "execution_count": 2,
     "metadata": {},
     "output_type": "execute_result"
    }
   ],
   "source": [
    "import pandas as pd \n",
    "\n",
    "data = pd.read_csv('coronavirus_data/data/PLpro.csv')\n",
    "print(len(data))\n",
    "data.head()"
   ]
  },
  {
   "cell_type": "code",
   "execution_count": null,
   "metadata": {},
   "outputs": [
    {
     "name": "stderr",
     "output_type": "stream",
     "text": [
      "RDKit WARNING: [10:41:58] WARNING: not removing hydrogen atom without neighbors\n",
      "RDKit WARNING: [10:42:02] WARNING: not removing hydrogen atom without neighbors\n"
     ]
    }
   ],
   "source": [
    "from rdkit import Chem\n",
    "from rdkit.Chem.Scaffolds import MurckoScaffold\n",
    "import time\n",
    "\n",
    "\n",
    "start_timer = time.time()\n",
    "data['scaffolds'] = data['smiles'].apply(MurckoScaffold.MurckoScaffoldSmilesFromSmiles)\n",
    "stop_timer = time.time()\n",
    "\n",
    "print(f'{round(stop_timer - start_timer)} s to apply function to {len(data)} cells    \\n\\n') #\\n means new line\n",
    "\n",
    "data.head()"
   ]
  },
  {
   "cell_type": "code",
   "execution_count": null,
   "metadata": {
    "scrolled": false
   },
   "outputs": [],
   "source": [
    "from rdkit.Chem import PandasTools\n",
    "\n",
    "df = data.loc[:100,:].copy()\n",
    "PandasTools.AddMoleculeColumnToFrame(frame = df,smilesCol='smiles',molCol='Structure')\n",
    "PandasTools.AddMoleculeColumnToFrame(frame = df,smilesCol='scaffolds',molCol='Scaffold Structure')\n",
    "df.loc[0:10,['Structure','Scaffold Structure','activity']]"
   ]
  },
  {
   "cell_type": "code",
   "execution_count": null,
   "metadata": {
    "scrolled": false
   },
   "outputs": [],
   "source": [
    "scaffold_counts = data['scaffolds'].value_counts()\n",
    "\n",
    "\n",
    "topScaffolds = scaffold_counts.reset_index() \n",
    "topScaffolds.columns = ['scaffold smiles', 'count']\n",
    "PandasTools.AddMoleculeColumnToFrame(frame = topScaffolds,smilesCol='scaffold smiles',molCol='Structure')\n",
    "topScaffolds.loc[0:10,:]"
   ]
  },
  {
   "cell_type": "code",
   "execution_count": null,
   "metadata": {},
   "outputs": [],
   "source": [
    "import matplotlib.pyplot as plt \n",
    "\n",
    "plt.figure(figsize = (15,5))\n",
    "plt.hist(topScaffolds['count'], bins=100, alpha = 0.8)\n",
    "plt.title('Hisogram of Fragment occurence counts')\n",
    "plt.xlabel('Fragment Count')\n",
    "plt.ylabel('Count')\n",
    "plt.yscale('log')\n",
    "plt.show()"
   ]
  },
  {
   "cell_type": "code",
   "execution_count": null,
   "metadata": {},
   "outputs": [],
   "source": [
    "scaffolds_to_use = topScaffolds.loc[topScaffolds['count'] >1]['scaffold smiles']\n",
    "compounds_of_interest = data.loc[data['scaffolds'].isin(scaffolds_to_use),:]\n",
    "print(f'Number of compounds in set = {len(compounds_of_interest)} \\n\\n')\n",
    "compounds_of_interest.head()"
   ]
  },
  {
   "cell_type": "code",
   "execution_count": null,
   "metadata": {},
   "outputs": [],
   "source": [
    "plt.bar(x = ['Misses','Hits'],\n",
    "        height = compounds_of_interest['activity'].value_counts())\n",
    "plt.title('Count of Hits and Misses in selected dataset')\n",
    "plt.ylabel('Count')\n",
    "plt.show()"
   ]
  },
  {
   "cell_type": "code",
   "execution_count": null,
   "metadata": {},
   "outputs": [],
   "source": [
    "def UnderSample(data):\n",
    "    hits = data.loc[data['activity'] == 1]\n",
    "    undersampled_mised = data.loc[data['activity'] ==0].sample(len(hits))\n",
    "\n",
    "    UndersampledDf = hits.append(undersampled_mised)\n",
    "    return UndersampledDf\n",
    "    \n",
    "\n",
    "data_for_model = UnderSample(data)\n",
    "\n",
    "\n",
    "plt.bar(x = ['Misses','Hits'],\n",
    "        height = data_for_model['activity'].value_counts())\n",
    "plt.title('Count of Hits and Misses in Undersampled dataset')\n",
    "plt.ylabel('Count')\n",
    "plt.show()"
   ]
  },
  {
   "cell_type": "code",
   "execution_count": null,
   "metadata": {},
   "outputs": [],
   "source": [
    "from rdkit.Chem import Fragments\n",
    "from rdkit.Chem import AllChem, Crippen\n",
    "\n",
    "hand_crafted_features = ['NC(=S)N', 'NC(=O)','[N+](=O)[O-]']\n",
    "\n",
    "def SubstructureMatch(smiles, list_of_substructures):\n",
    "    mol = Chem.MolFromSmiles(smiles)\n",
    "    features = [Chem.MolFromSmiles(i) for i in list_of_substructures]\n",
    "    matches = [int(mol.HasSubstructMatch(i)) for i in features]\n",
    "    dictionary = dict(zip(list_of_substructures, matches))\n",
    "    return dictionary\n",
    "\n",
    "\n",
    "def RDKitBagOfFeatures(smiles):\n",
    "    mol = Chem.MolFromSmiles(smiles)\n",
    "    frag_fns = dict(Fragments.fns) \n",
    "    frag_matches = dict(zip(frag_fns.keys(), \n",
    "                     [i(mol) for i in frag_fns.values()]))\n",
    "\n",
    "    return frag_matches\n",
    "\n",
    "\n",
    "def PhysChemFeatures(smiles):\n",
    "    mol = Chem.MolFromSmiles(smiles)\n",
    "    mol = Chem.AddHs(mol)\n",
    "    dictionary = {'MolWT':AllChem.CalcExactMolWt(mol),\n",
    "                  'LogP':Chem.Crippen.MolLogP(mol),\n",
    "                  'HBondDonors': AllChem.CalcNumLipinskiHBD(mol),\n",
    "                  'HBondAcceptors': AllChem.CalcNumLipinskiHBA(mol),\n",
    "                  'NumAromaticRings': AllChem.CalcNumAromaticRings(mol),\n",
    "                  'NumAromaticHeterocycles': AllChem.CalcNumAromaticHeterocycles(mol),\n",
    "                  'NumHeteroCycles':AllChem.CalcNumHeterocycles(mol)}\n",
    "    return dictionary\n",
    "\n",
    "SubstructureMatch('C1=CC=C(C=C1)/C=N/NC(=S)N', hand_crafted_features) # example/test"
   ]
  },
  {
   "cell_type": "code",
   "execution_count": null,
   "metadata": {},
   "outputs": [],
   "source": [
    "rdkit_Fragments = pd.DataFrame(compounds_of_interest['smiles'].apply(RDKitBagOfFeatures).to_list())\n",
    "our_Fragments = pd.DataFrame(data_for_model['smiles'].apply(SubstructureMatch, args = [hand_crafted_features]).to_list())\n",
    "pyhyschem_descriptors = pd.DataFrame(data_for_model['smiles'].apply(PhysChemFeatures).to_list())\n",
    "\n",
    "\n",
    "all_features = pd.concat(objs = [rdkit_Fragments, our_Fragments, pyhyschem_descriptors], \n",
    "                         axis = 1,\n",
    "                         join = 'inner') \n",
    "all_features.head()"
   ]
  },
  {
   "cell_type": "code",
   "execution_count": null,
   "metadata": {
    "scrolled": false
   },
   "outputs": [],
   "source": [
    "from sklearn import tree\n",
    "import graphviz\n",
    "from sklearn.model_selection import train_test_split\n",
    "\n",
    "classifier = tree.DecisionTreeClassifier(max_depth=50,\n",
    "                                        max_leaf_nodes=20)\n",
    "\n",
    "\n",
    "x_train,x_test, y_train, y_test = train_test_split(pyhyschem_descriptors.loc[:,['LogP',\n",
    "                                                                          'NumAromaticRings']],\n",
    "                                                   data_for_model['activity'],\n",
    "                                                   test_size=0.2)\n",
    "\n",
    "classifier.fit(x_train,y_train)\n",
    "\n",
    "tree_data = tree.export_graphviz(classifier, \n",
    "                                 out_file = None,\n",
    "                                 feature_names = ['LogP','NumAromaticRings'],\n",
    "                                class_names=['Miss','Hit'],\n",
    "                                rotate=True)\n",
    "graph = graphviz.Source(tree_data)\n",
    "\n",
    "graph"
   ]
  },
  {
   "cell_type": "code",
   "execution_count": null,
   "metadata": {},
   "outputs": [],
   "source": [
    "# Single tree and evaluation\n",
    "\n",
    "classifier = tree.DecisionTreeClassifier()\n",
    "\n",
    "x_train,x_test, y_train, y_test = train_test_split(all_features,\n",
    "                                                   data_for_model['activity'],\n",
    "                                                   test_size=0.2)\n",
    "\n",
    "start = time.time()\n",
    "classifier.fit(x_train, y_train)\n",
    "end = time.time()\n",
    "print(f'Time taken to train: {end - start} s')"
   ]
  },
  {
   "cell_type": "code",
   "execution_count": null,
   "metadata": {},
   "outputs": [],
   "source": [
    "import seaborn as sns\n",
    "\n",
    "predictions = classifier.predict(x_test)\n",
    "confusion_matrix = pd.crosstab(predictions, y_test)\n",
    "\n",
    "\n",
    "sns.heatmap(confusion_matrix, annot=True)\n",
    "plt.ylabel('prediction')\n",
    "plt.show()"
   ]
  },
  {
   "cell_type": "code",
   "execution_count": null,
   "metadata": {},
   "outputs": [],
   "source": [
    "from sklearn.metrics import roc_curve, roc_auc_score\n",
    "\n",
    "false_positive_rate, true_positive_rate, thresholds = roc_curve(y_test, predictions)\n",
    "\n",
    "roc_auc = roc_auc_score(y_test, predictions)\n",
    "print(f'ROC_AUC = {round(roc_auc,3)}')\n",
    "\n",
    "plt.plot(false_positive_rate, true_positive_rate)\n",
    "plt.title('Receiver Operator Characteristic')\n",
    "plt.xlabel('False Positive Rate')\n",
    "plt.ylabel('True Positve Rate')\n",
    "plt.show()"
   ]
  },
  {
   "cell_type": "code",
   "execution_count": null,
   "metadata": {},
   "outputs": [],
   "source": [
    "def PlotModelEvaluation(predictions, ytest, ModelTitle):\n",
    "    confusion_matrix = pd.crosstab(predictions, y_test)\n",
    "    plt.figure(figsize=(5,5))\n",
    "    plt.title('AdaBoost Confusion Matrix')\n",
    "    sns.heatmap(predictions, annot=True)\n",
    "    plt.ylabel('predicted')\n",
    "    plt.show()\n",
    "\n",
    "\n",
    "    plt.figure(figsize = (7,5))\n",
    "    false_positive_rate, true_positive_rate, thresholds = roc_curve(y_test, predictions_adaboost)\n",
    "    plt.plot(false_positive_rate, true_positive_rate)\n",
    "    roc_auc = roc_auc_score(y_test, predictions_adaboost)\n",
    "    plt.title(f'Bag of Random Forests ROC Curve, AUC = {round(roc_auc,3)}')\n",
    "    plt.xlabel('False Positive Rate')\n",
    "    plt.ylabel('True Positve Rate')\n",
    "    plt.show()"
   ]
  }
 ],
 "metadata": {
  "kernelspec": {
   "display_name": "Python 3",
   "language": "python",
   "name": "python3"
  },
  "language_info": {
   "codemirror_mode": {
    "name": "ipython",
    "version": 3
   },
   "file_extension": ".py",
   "mimetype": "text/x-python",
   "name": "python",
   "nbconvert_exporter": "python",
   "pygments_lexer": "ipython3",
   "version": "3.7.6"
  }
 },
 "nbformat": 4,
 "nbformat_minor": 4
}
